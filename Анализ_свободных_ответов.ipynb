{
  "nbformat": 4,
  "nbformat_minor": 0,
  "metadata": {
    "colab": {
      "name": "Анализ свободных ответов.ipynb",
      "provenance": [],
      "collapsed_sections": [],
      "include_colab_link": true
    },
    "kernelspec": {
      "name": "python3",
      "display_name": "Python 3"
    }
  },
  "cells": [
    {
      "cell_type": "markdown",
      "metadata": {
        "id": "view-in-github",
        "colab_type": "text"
      },
      "source": [
        "<a href=\"https://colab.research.google.com/github/Grottersha123/intellectual-psy-report/blob/master/%D0%90%D0%BD%D0%B0%D0%BB%D0%B8%D0%B7_%D1%81%D0%B2%D0%BE%D0%B1%D0%BE%D0%B4%D0%BD%D1%8B%D1%85_%D0%BE%D1%82%D0%B2%D0%B5%D1%82%D0%BE%D0%B2.ipynb\" target=\"_parent\"><img src=\"https://colab.research.google.com/assets/colab-badge.svg\" alt=\"Open In Colab\"/></a>"
      ]
    },
    {
      "cell_type": "code",
      "metadata": {
        "id": "oAgbWeCaY9Dr",
        "colab_type": "code",
        "outputId": "9f102499-0561-4df3-fe76-e19697c967d4",
        "colab": {
          "base_uri": "https://localhost:8080/",
          "height": 35
        }
      },
      "source": [
        "from google.colab import drive\n",
        "drive.mount('/content/drive/')\n"
      ],
      "execution_count": 2,
      "outputs": [
        {
          "output_type": "stream",
          "text": [
            "Drive already mounted at /content/drive/; to attempt to forcibly remount, call drive.mount(\"/content/drive/\", force_remount=True).\n"
          ],
          "name": "stdout"
        }
      ]
    },
    {
      "cell_type": "code",
      "metadata": {
        "id": "Kk1_6i9cjTq-",
        "colab_type": "code",
        "outputId": "65d273ee-68b9-48bf-e503-ad23550d4b69",
        "colab": {
          "base_uri": "https://localhost:8080/",
          "height": 35
        }
      },
      "source": [
        "cd /content/drive/My Drive/data_psyho\n"
      ],
      "execution_count": 3,
      "outputs": [
        {
          "output_type": "stream",
          "text": [
            "/content/drive/My Drive/data_psyho\n"
          ],
          "name": "stdout"
        }
      ]
    },
    {
      "cell_type": "code",
      "metadata": {
        "id": "pi-92C2hxVCc",
        "colab_type": "code",
        "outputId": "cb2e4257-33fd-4401-f828-a2118cf10809",
        "colab": {
          "base_uri": "https://localhost:8080/",
          "height": 52
        }
      },
      "source": [
        "pip install nltk"
      ],
      "execution_count": 4,
      "outputs": [
        {
          "output_type": "stream",
          "text": [
            "Requirement already satisfied: nltk in /usr/local/lib/python3.6/dist-packages (3.2.5)\n",
            "Requirement already satisfied: six in /usr/local/lib/python3.6/dist-packages (from nltk) (1.12.0)\n"
          ],
          "name": "stdout"
        }
      ]
    },
    {
      "cell_type": "code",
      "metadata": {
        "id": "aYw90sAcNrOL",
        "colab_type": "code",
        "colab": {
          "base_uri": "https://localhost:8080/",
          "height": 81
        },
        "outputId": "176c6cec-b1df-4588-ce0c-6644dcb88489"
      },
      "source": [
        "import pandas as pd\n",
        "\n",
        "import numpy as np\n",
        "from gensim.models import Word2Vec\n",
        "from gensim.models import Doc2Vec\n",
        "from nltk.stem.snowball import SnowballStemmer\n",
        "\n",
        "from sklearn.feature_extraction.text import CountVectorizer\n",
        "from keras.preprocessing.text import Tokenizer\n",
        "from keras.preprocessing.sequence import pad_sequences\n",
        "from keras.models import Sequential\n",
        "from keras.utils.np_utils import to_categorical\n",
        "import os\n",
        "from nltk.tokenize import word_tokenize\n",
        "from nltk.corpus import stopwords\n",
        "from nltk.stem import PorterStemmer\n",
        "import matplotlib.pyplot as plt\n",
        "from wordcloud import WordCloud\n",
        "from math import log, sqrt\n",
        "import pandas as pd\n",
        "import numpy as np\n",
        "import re"
      ],
      "execution_count": 5,
      "outputs": [
        {
          "output_type": "stream",
          "text": [
            "Using TensorFlow backend.\n"
          ],
          "name": "stderr"
        },
        {
          "output_type": "display_data",
          "data": {
            "text/html": [
              "<p style=\"color: red;\">\n",
              "The default version of TensorFlow in Colab will soon switch to TensorFlow 2.x.<br>\n",
              "We recommend you <a href=\"https://www.tensorflow.org/guide/migrate\" target=\"_blank\">upgrade</a> now \n",
              "or ensure your notebook will continue to use TensorFlow 1.x via the <code>%tensorflow_version 1.x</code> magic:\n",
              "<a href=\"https://colab.research.google.com/notebooks/tensorflow_version.ipynb\" target=\"_blank\">more info</a>.</p>\n"
            ],
            "text/plain": [
              "<IPython.core.display.HTML object>"
            ]
          },
          "metadata": {
            "tags": []
          }
        }
      ]
    },
    {
      "cell_type": "code",
      "metadata": {
        "id": "BL3sEl8Z3pPd",
        "colab_type": "code",
        "outputId": "216f3f1b-57b2-4a1b-f6f5-827e1aad0408",
        "colab": {
          "base_uri": "https://localhost:8080/",
          "height": 90
        }
      },
      "source": [
        "#Загружаем данные \n",
        "psycho = pd.read_csv('psychologists.csv', sep=',', error_bad_lines=False, encoding='cp1251')\n",
        "psycho = psycho.rename(columns=psycho.iloc[0])\n",
        "psycho = psycho.iloc[1:]\n",
        "completed = pd.read_csv('completed-psy.csv', sep=',', error_bad_lines=False, encoding='cp1251')\n",
        "print(psycho.shape, completed.shape)"
      ],
      "execution_count": 6,
      "outputs": [
        {
          "output_type": "stream",
          "text": [
            "/usr/local/lib/python3.6/dist-packages/IPython/core/interactiveshell.py:2718: DtypeWarning: Columns (1,4,5,15,40,41,46,47,52,53,58,59,64,65,70,71,76,77,82,83,88,89,94,95,100,101,106,107,112,113,118,119,124,125,130,131,141,142,147,148,153,154,159,160,165,166,171,172,177,178,183,184,189,190,200,201,206,207,212,213,218,219,224,225,230,231,236,237,242,243,248,249,254,255,260,261,266,267,272,273,278,279,284,285,290,291,296,297,302,303,308,309,314,315,325,326,331,332,337,338,343,344,349,350,355,356,361,362,367,368,373,374,379,380,385,386,391,392,397,398,408,409,414,415,420,421,426,427,432,433,438,439,444,445,455,456,461,462,467,468,473,474,479,480,485,486,496,497,502,503,508,509,514,515,525,526,531,532,537,538,543,544,549,550,555,556,561,562,567,568,573,574,579,580,585,586,591,592,597,598,603,604,609,610,615,616,621,622,627,628,633,634,639,640,645,646,651,652,657,658,663,664,669,670,675,676,681,682,687,688,693,694,699,700,710,711,716,717,722,723,728,729,734,735,740,741,746,747,752,753,758,759,764,765,770,771,781,782,802,803,808,809,814,815,820,821,826,827,832,833,838,839,849,850,855,856,861,862,867,868,873,874,879,880,885,886,896,897,902,903,908,909,914,915,920,921,926,927,932,933,938,939,944,945,950,951,956,957,962,963,973,974,979,980,985,986,991,992,997,998,1008,1009,1014,1015,1020,1021,1026,1027,1032,1033,1038,1039,1044,1045,1050,1051,1056,1057,1067,1068,1073,1074,1079,1080,1085,1086,1091,1092,1097,1098,1103,1104,1109,1110,1115,1116,1121,1122,1127,1128,1133,1134,1139,1140,1145,1146,1151,1152,1157,1158,1163,1164,1169,1170,1175,1176,1186,1187,1192,1193,1198,1199,1204,1205,1210,1211,1216,1217,1222,1223,1228,1229,1239,1240,1245,1246,1251,1252,1257,1258,1263,1264,1269,1270,1275,1276,1281,1282,1287,1288,1293,1294,1299,1300,1305,1306,1311,1312,1317,1318,1323,1324,1329,1330,1335,1336,1341,1342,1352,1353,1359,1369,1370,1375,1376,1381,1382,1387,1388,1393,1394,1399,1400,1405,1406,1411,1412,1417,1418,1423,1424,1434,1435,1440,1441,1446,1447,1452,1453,1458,1459,1464,1465,1470,1471,1476,1477,1482,1483,1493,1494,1499,1500,1505,1506,1511,1512,1517,1518,1523,1524,1534,1535,1540,1541,1546,1547,1552,1553,1558,1559,1564,1565,1570,1571,1576,1577,1582,1583,1588,1589,1594,1595,1600,1601,1606,1607,1618,1623,1633,1634,1639,1640,1645,1646,1651,1652,1657,1658,1668,1669,1679,1680,1685,1690,1695,1696,1701,1706,1707,1712,1713) have mixed types. Specify dtype option on import or set low_memory=False.\n",
            "  interactivity=interactivity, compiler=compiler, result=result)\n"
          ],
          "name": "stderr"
        },
        {
          "output_type": "stream",
          "text": [
            "(16854, 1728) (86, 4)\n"
          ],
          "name": "stdout"
        }
      ]
    },
    {
      "cell_type": "code",
      "metadata": {
        "id": "xj6EKg5EMfCs",
        "colab_type": "code",
        "colab": {
          "base_uri": "https://localhost:8080/",
          "height": 35
        },
        "outputId": "8c9a1ff3-182d-41c1-8acc-5877e6750533"
      },
      "source": [
        "psycho.head(10)\n",
        "%clear"
      ],
      "execution_count": 7,
      "outputs": [
        {
          "output_type": "stream",
          "text": [
            "\u001b[H\u001b[2J"
          ],
          "name": "stdout"
        }
      ]
    },
    {
      "cell_type": "code",
      "metadata": {
        "id": "pJqVRq6PjvG4",
        "colab_type": "code",
        "colab": {}
      },
      "source": [
        "# Фильтр по Свердловской области, второй датасет фильтр по россии \n",
        "def prepare_data(region):\n",
        "  psyho_reg = psycho[(psycho.region == str(region))  | (psycho.region == int(region)) ]\n",
        "  psyho_russia = psycho[(psycho.region != str(region))  | (psycho.region != int(region)) ]\n",
        "  clmt = list(psyho_reg.columns)\n",
        "  columns = []\n",
        "  for i in clmt:\n",
        "    try:\n",
        "      if i != None and 'PQ' in i and not 'Time' in i and not 'order' in i :\n",
        "        columns.append(i)\n",
        "    except Exception as e:\n",
        "      print(e, psyho_reg[i])\n",
        "  psyho_reg_columns = psyho_reg[columns]\n",
        "  psyho_russia_columns = psyho_russia[columns]\n",
        "  print(psyho_russia_columns.shape, psyho_reg_columns.shape)\n",
        "  return psyho_russia_columns, psyho_reg_columns\n"
      ],
      "execution_count": 0,
      "outputs": []
    },
    {
      "cell_type": "code",
      "metadata": {
        "id": "ZDIpvSQSCsx8",
        "colab_type": "code",
        "outputId": "e82385c6-6629-4d83-eaf8-325d7ab67fa3",
        "colab": {
          "base_uri": "https://localhost:8080/",
          "height": 248
        }
      },
      "source": [
        "data_rus, data_reg = prepare_data(66)"
      ],
      "execution_count": 9,
      "outputs": [
        {
          "output_type": "stream",
          "text": [
            "argument of type 'numpy.float64' is not iterable 3        1.0\n",
            "4        1.0\n",
            "5        1.0\n",
            "7        1.0\n",
            "8        1.0\n",
            "        ... \n",
            "14398    1.0\n",
            "15331    1.0\n",
            "15505    1.0\n",
            "16017    1.0\n",
            "16499    1.0\n",
            "Name: 501.0, Length: 575, dtype: float64\n",
            "(16854, 285) (575, 285)\n"
          ],
          "name": "stdout"
        }
      ]
    },
    {
      "cell_type": "code",
      "metadata": {
        "id": "bX2BVp6UHQEh",
        "colab_type": "code",
        "colab": {}
      },
      "source": [
        "# Первое что нужно сделать это выбрать данные нужные нам. "
      ],
      "execution_count": 0,
      "outputs": []
    },
    {
      "cell_type": "code",
      "metadata": {
        "id": "8lcMeKL4CzA2",
        "colab_type": "code",
        "colab": {}
      },
      "source": [
        "data_rus_10 = data_rus.iloc[:1000000]\n",
        "data = data_rus_10.dropna()\n",
        "#Делим вопросы со свободным ответом и с вариантом\n",
        "def select_cloumns(data,data_all):\n",
        "  clmns = data.columns\n",
        "  dig = []\n",
        "  for col in data.columns:\n",
        "    try:\n",
        "      for d in data[col]:\n",
        "        if d.isdigit() and 'Other' not in col or ('PQ601' in col) or ('PQ603' in col):\n",
        "          dig.append(col)\n",
        "          break\n",
        "    except:\n",
        "      print(d,col)\n",
        "  not_dig = [i for i in clmns if i not in dig]\n",
        "  return data_all[dig], data_all[not_dig]\n"
      ],
      "execution_count": 0,
      "outputs": []
    },
    {
      "cell_type": "code",
      "metadata": {
        "id": "a29zipIX9Yo4",
        "colab_type": "code",
        "colab": {}
      },
      "source": [
        "data_rus_num, data_rus_text = select_cloumns(data, data_rus)\n",
        "data_reg_num, data_reg_text = select_cloumns(data, data_reg)\n"
      ],
      "execution_count": 0,
      "outputs": []
    },
    {
      "cell_type": "code",
      "metadata": {
        "id": "Fcv4XXKOu1n9",
        "colab_type": "code",
        "outputId": "ddf54704-57d8-4e4a-a77d-7e16bb3f5c27",
        "colab": {
          "base_uri": "https://localhost:8080/",
          "height": 88
        }
      },
      "source": [
        "import nltk\n",
        "nltk.download('punkt')\n",
        "nltk.download('stopwords')\n",
        "stop_words = stopwords.words('russian')\n",
        "stop_words.remove('не')\n",
        "stemmer = SnowballStemmer(\"russian\")\n",
        "\n",
        "def preprocess_text(text):\n",
        "    text = text.lower().replace(\"ё\", \"е\")\n",
        "    text = re.sub(r'[^a-яА-Я,]', ' ', text)\n",
        "    text = nltk.word_tokenize(text)    \n",
        "    tokens = [token.strip() for token in text]  \n",
        "    text = ' '.join([token for token in tokens if token not in stop_words])\n",
        "    # text = ' '.join([stemmer.stem(word) for word in text.split(' ') if word not in stop_words])\n",
        "    text = text.split(',')\n",
        "    return text\n",
        " "
      ],
      "execution_count": 13,
      "outputs": [
        {
          "output_type": "stream",
          "text": [
            "[nltk_data] Downloading package punkt to /root/nltk_data...\n",
            "[nltk_data]   Unzipping tokenizers/punkt.zip.\n",
            "[nltk_data] Downloading package stopwords to /root/nltk_data...\n",
            "[nltk_data]   Unzipping corpora/stopwords.zip.\n"
          ],
          "name": "stdout"
        }
      ]
    },
    {
      "cell_type": "code",
      "metadata": {
        "id": "PhbJQOzTtdvO",
        "colab_type": "code",
        "colab": {}
      },
      "source": [
        ""
      ],
      "execution_count": 0,
      "outputs": []
    },
    {
      "cell_type": "code",
      "metadata": {
        "id": "TbJzTcJc4b_F",
        "colab_type": "code",
        "outputId": "b2b2425e-7cc8-4d2e-91b8-d144a988a7b8",
        "colab": {
          "base_uri": "https://localhost:8080/",
          "height": 35
        }
      },
      "source": [
        "%clear"
      ],
      "execution_count": 14,
      "outputs": [
        {
          "output_type": "stream",
          "text": [
            "\u001b[H\u001b[2J"
          ],
          "name": "stdout"
        }
      ]
    },
    {
      "cell_type": "code",
      "metadata": {
        "id": "nHdGmsCQp2-5",
        "colab_type": "code",
        "outputId": "a16c3be1-cea4-480c-ca43-1b40e3c28229",
        "colab": {
          "base_uri": "https://localhost:8080/",
          "height": 883
        }
      },
      "source": [
        "data_rus_text.head(10)"
      ],
      "execution_count": 15,
      "outputs": [
        {
          "output_type": "execute_result",
          "data": {
            "text/html": [
              "<div>\n",
              "<style scoped>\n",
              "    .dataframe tbody tr th:only-of-type {\n",
              "        vertical-align: middle;\n",
              "    }\n",
              "\n",
              "    .dataframe tbody tr th {\n",
              "        vertical-align: top;\n",
              "    }\n",
              "\n",
              "    .dataframe thead th {\n",
              "        text-align: right;\n",
              "    }\n",
              "</style>\n",
              "<table border=\"1\" class=\"dataframe\">\n",
              "  <thead>\n",
              "    <tr style=\"text-align: right;\">\n",
              "      <th></th>\n",
              "      <th>PQ101-Other</th>\n",
              "      <th>PQ102-Other</th>\n",
              "      <th>PQ103-Other</th>\n",
              "      <th>PQ104-Other</th>\n",
              "      <th>PQ105-Other</th>\n",
              "      <th>PQ106-Other</th>\n",
              "      <th>PQ107-Other</th>\n",
              "      <th>PQ108-Other</th>\n",
              "      <th>PQ109-Other</th>\n",
              "      <th>PQ201-02</th>\n",
              "      <th>PQ301-Other</th>\n",
              "      <th>PQ302-Other</th>\n",
              "      <th>PQ303-Other</th>\n",
              "      <th>PQ304-Other</th>\n",
              "      <th>PQ401-Other</th>\n",
              "      <th>PQ402-Other</th>\n",
              "      <th>PQ403-Other</th>\n",
              "      <th>PQ404-Other</th>\n",
              "      <th>PQ501-Other</th>\n",
              "      <th>PQ503-Other</th>\n",
              "      <th>PQ504-Other</th>\n",
              "      <th>PQ505-Other</th>\n",
              "      <th>PQ506-Other</th>\n",
              "      <th>PQ606-Other</th>\n",
              "      <th>PQ607-Other</th>\n",
              "      <th>PQ614</th>\n",
              "    </tr>\n",
              "  </thead>\n",
              "  <tbody>\n",
              "    <tr>\n",
              "      <th>1</th>\n",
              "      <td>NaN</td>\n",
              "      <td>NaN</td>\n",
              "      <td>NaN</td>\n",
              "      <td>NaN</td>\n",
              "      <td>NaN</td>\n",
              "      <td>NaN</td>\n",
              "      <td>NaN</td>\n",
              "      <td>NaN</td>\n",
              "      <td>NaN</td>\n",
              "      <td>приказы по учреждению, локальные акты</td>\n",
              "      <td>NaN</td>\n",
              "      <td>NaN</td>\n",
              "      <td>NaN</td>\n",
              "      <td>NaN</td>\n",
              "      <td>NaN</td>\n",
              "      <td>NaN</td>\n",
              "      <td>NaN</td>\n",
              "      <td>NaN</td>\n",
              "      <td>NaN</td>\n",
              "      <td>NaN</td>\n",
              "      <td>NaN</td>\n",
              "      <td>NaN</td>\n",
              "      <td>NaN</td>\n",
              "      <td>NaN</td>\n",
              "      <td>NaN</td>\n",
              "      <td>нормативно-правовая и материально-техническая ...</td>\n",
              "    </tr>\n",
              "    <tr>\n",
              "      <th>2</th>\n",
              "      <td>Экспертная работа</td>\n",
              "      <td>Работа с обучающимися с девиантными поведениями</td>\n",
              "      <td>Ребёнок с аутоагрессивным поаедением</td>\n",
              "      <td>Центром психического здоровья детей и подростков</td>\n",
              "      <td>У молодых психологов отсутствует мотивация</td>\n",
              "      <td>Работаю в ПМСС центре</td>\n",
              "      <td>Организатор</td>\n",
              "      <td>Привлечения педагога психолога не по компетенции</td>\n",
              "      <td>Ведение в расписание уроков психологии</td>\n",
              "      <td>Положение о социальной психологической службе</td>\n",
              "      <td>Старший педагога психолог центра</td>\n",
              "      <td>Старший педагог -психолог</td>\n",
              "      <td>Журнал учёта деятельности педагога-психолога</td>\n",
              "      <td>Отдел дополнительного образования и воспитания...</td>\n",
              "      <td>Литература</td>\n",
              "      <td>Работаю в ПМСС центре</td>\n",
              "      <td>Работаю в ПМСС центре</td>\n",
              "      <td>Работаю в ПМСС центре</td>\n",
              "      <td>Условия нет</td>\n",
              "      <td>Не хватает ноутбуков, техники</td>\n",
              "      <td>Условий нет</td>\n",
              "      <td>Нет</td>\n",
              "      <td>Сенсорная комната</td>\n",
              "      <td>NaN</td>\n",
              "      <td>NaN</td>\n",
              "      <td>Наличие ещё ПМСС центров</td>\n",
              "    </tr>\n",
              "    <tr>\n",
              "      <th>3</th>\n",
              "      <td>NaN</td>\n",
              "      <td>NaN</td>\n",
              "      <td>NaN</td>\n",
              "      <td>NaN</td>\n",
              "      <td>NaN</td>\n",
              "      <td>NaN</td>\n",
              "      <td>NaN</td>\n",
              "      <td>NaN</td>\n",
              "      <td>NaN</td>\n",
              "      <td>Адаптированная основная общеобразовательная пр...</td>\n",
              "      <td>NaN</td>\n",
              "      <td>NaN</td>\n",
              "      <td>NaN</td>\n",
              "      <td>NaN</td>\n",
              "      <td>NaN</td>\n",
              "      <td>NaN</td>\n",
              "      <td>Во второй половине дня. Если необходимо прихож...</td>\n",
              "      <td>NaN</td>\n",
              "      <td>NaN</td>\n",
              "      <td>NaN</td>\n",
              "      <td>NaN</td>\n",
              "      <td>NaN</td>\n",
              "      <td>NaN</td>\n",
              "      <td>NaN</td>\n",
              "      <td>NaN</td>\n",
              "      <td>0</td>\n",
              "    </tr>\n",
              "    <tr>\n",
              "      <th>4</th>\n",
              "      <td>NaN</td>\n",
              "      <td>NaN</td>\n",
              "      <td>NaN</td>\n",
              "      <td>NaN</td>\n",
              "      <td>NaN</td>\n",
              "      <td>уроки  развития психомоторики и сенсорных проц...</td>\n",
              "      <td>NaN</td>\n",
              "      <td>NaN</td>\n",
              "      <td>NaN</td>\n",
              "      <td>Положение о карте индивидуального развития обу...</td>\n",
              "      <td>NaN</td>\n",
              "      <td>NaN</td>\n",
              "      <td>Журналы учета видов работы: диагностика;  конс...</td>\n",
              "      <td>в ТКДН и ЗП по детям, находящимся в СОП</td>\n",
              "      <td>NaN</td>\n",
              "      <td>NaN</td>\n",
              "      <td>NaN</td>\n",
              "      <td>NaN</td>\n",
              "      <td>NaN</td>\n",
              "      <td>NaN</td>\n",
              "      <td>Оборудование   для сенсорной комнаты:    такти...</td>\n",
              "      <td>NaN</td>\n",
              "      <td>NaN</td>\n",
              "      <td>NaN</td>\n",
              "      <td>NaN</td>\n",
              "      <td>увеличение количества ставок педагогов-психоло...</td>\n",
              "    </tr>\n",
              "    <tr>\n",
              "      <th>5</th>\n",
              "      <td>Подготовка наглядного материала для индивидуал...</td>\n",
              "      <td>NaN</td>\n",
              "      <td>NaN</td>\n",
              "      <td>NaN</td>\n",
              "      <td>NaN</td>\n",
              "      <td>NaN</td>\n",
              "      <td>NaN</td>\n",
              "      <td>NaN</td>\n",
              "      <td>NaN</td>\n",
              "      <td>План работы на год, утвержденный руководителем...</td>\n",
              "      <td>NaN</td>\n",
              "      <td>NaN</td>\n",
              "      <td>NaN</td>\n",
              "      <td>NaN</td>\n",
              "      <td>NaN</td>\n",
              "      <td>NaN</td>\n",
              "      <td>NaN</td>\n",
              "      <td>NaN</td>\n",
              "      <td>NaN</td>\n",
              "      <td>NaN</td>\n",
              "      <td>NaN</td>\n",
              "      <td>NaN</td>\n",
              "      <td>NaN</td>\n",
              "      <td>NaN</td>\n",
              "      <td>NaN</td>\n",
              "      <td>Материально-техническое оснащение</td>\n",
              "    </tr>\n",
              "    <tr>\n",
              "      <th>6</th>\n",
              "      <td>NaN</td>\n",
              "      <td>NaN</td>\n",
              "      <td>NaN</td>\n",
              "      <td>NaN</td>\n",
              "      <td>NaN</td>\n",
              "      <td>социальная работа</td>\n",
              "      <td>NaN</td>\n",
              "      <td>NaN</td>\n",
              "      <td>NaN</td>\n",
              "      <td>организационно - методическая</td>\n",
              "      <td>NaN</td>\n",
              "      <td>NaN</td>\n",
              "      <td>NaN</td>\n",
              "      <td>NaN</td>\n",
              "      <td>NaN</td>\n",
              "      <td>NaN</td>\n",
              "      <td>проведение занятий во время доп.образования. з...</td>\n",
              "      <td>NaN</td>\n",
              "      <td>NaN</td>\n",
              "      <td>NaN</td>\n",
              "      <td>NaN</td>\n",
              "      <td>NaN</td>\n",
              "      <td>NaN</td>\n",
              "      <td>NaN</td>\n",
              "      <td>NaN</td>\n",
              "      <td>продолжать совершенствовать в ногу со временем</td>\n",
              "    </tr>\n",
              "    <tr>\n",
              "      <th>7</th>\n",
              "      <td>NaN</td>\n",
              "      <td>NaN</td>\n",
              "      <td>NaN</td>\n",
              "      <td>NaN</td>\n",
              "      <td>NaN</td>\n",
              "      <td>NaN</td>\n",
              "      <td>NaN</td>\n",
              "      <td>NaN</td>\n",
              "      <td>NaN</td>\n",
              "      <td>Устав,трудовой договор</td>\n",
              "      <td>NaN</td>\n",
              "      <td>NaN</td>\n",
              "      <td>NaN</td>\n",
              "      <td>NaN</td>\n",
              "      <td>NaN</td>\n",
              "      <td>NaN</td>\n",
              "      <td>NaN</td>\n",
              "      <td>NaN</td>\n",
              "      <td>NaN</td>\n",
              "      <td>NaN</td>\n",
              "      <td>NaN</td>\n",
              "      <td>NaN</td>\n",
              "      <td>NaN</td>\n",
              "      <td>NaN</td>\n",
              "      <td>NaN</td>\n",
              "      <td>Организовать отдел медиативной службы ,штат пс...</td>\n",
              "    </tr>\n",
              "    <tr>\n",
              "      <th>8</th>\n",
              "      <td>NaN</td>\n",
              "      <td>NaN</td>\n",
              "      <td>NaN</td>\n",
              "      <td>NaN</td>\n",
              "      <td>NaN</td>\n",
              "      <td>NaN</td>\n",
              "      <td>NaN</td>\n",
              "      <td>NaN</td>\n",
              "      <td>NaN</td>\n",
              "      <td>Положение о деятельности  педагога-психолога</td>\n",
              "      <td>NaN</td>\n",
              "      <td>NaN</td>\n",
              "      <td>NaN</td>\n",
              "      <td>NaN</td>\n",
              "      <td>NaN</td>\n",
              "      <td>NaN</td>\n",
              "      <td>NaN</td>\n",
              "      <td>NaN</td>\n",
              "      <td>NaN</td>\n",
              "      <td>NaN</td>\n",
              "      <td>NaN</td>\n",
              "      <td>NaN</td>\n",
              "      <td>NaN</td>\n",
              "      <td>NaN</td>\n",
              "      <td>NaN</td>\n",
              "      <td>Нет пожеланий</td>\n",
              "    </tr>\n",
              "    <tr>\n",
              "      <th>9</th>\n",
              "      <td>NaN</td>\n",
              "      <td>NaN</td>\n",
              "      <td>NaN</td>\n",
              "      <td>NaN</td>\n",
              "      <td>NaN</td>\n",
              "      <td>NaN</td>\n",
              "      <td>NaN</td>\n",
              "      <td>NaN</td>\n",
              "      <td>NaN</td>\n",
              "      <td>приказы</td>\n",
              "      <td>NaN</td>\n",
              "      <td>NaN</td>\n",
              "      <td>NaN</td>\n",
              "      <td>NaN</td>\n",
              "      <td>NaN</td>\n",
              "      <td>NaN</td>\n",
              "      <td>NaN</td>\n",
              "      <td>NaN</td>\n",
              "      <td>NaN</td>\n",
              "      <td>NaN</td>\n",
              "      <td>NaN</td>\n",
              "      <td>NaN</td>\n",
              "      <td>NaN</td>\n",
              "      <td>NaN</td>\n",
              "      <td>NaN</td>\n",
              "      <td>отчетов меньше, зарплаты побольше и так работа...</td>\n",
              "    </tr>\n",
              "    <tr>\n",
              "      <th>10</th>\n",
              "      <td>NaN</td>\n",
              "      <td>NaN</td>\n",
              "      <td>NaN</td>\n",
              "      <td>NaN</td>\n",
              "      <td>NaN</td>\n",
              "      <td>NaN</td>\n",
              "      <td>NaN</td>\n",
              "      <td>NaN</td>\n",
              "      <td>NaN</td>\n",
              "      <td>Устав школы</td>\n",
              "      <td>NaN</td>\n",
              "      <td>NaN</td>\n",
              "      <td>NaN</td>\n",
              "      <td>NaN</td>\n",
              "      <td>NaN</td>\n",
              "      <td>NaN</td>\n",
              "      <td>NaN</td>\n",
              "      <td>NaN</td>\n",
              "      <td>NaN</td>\n",
              "      <td>NaN</td>\n",
              "      <td>NaN</td>\n",
              "      <td>NaN</td>\n",
              "      <td>NaN</td>\n",
              "      <td>NaN</td>\n",
              "      <td>NaN</td>\n",
              "      <td>нет</td>\n",
              "    </tr>\n",
              "  </tbody>\n",
              "</table>\n",
              "</div>"
            ],
            "text/plain": [
              "                                          PQ101-Other  ...                                              PQ614\n",
              "1                                                 NaN  ...  нормативно-правовая и материально-техническая ...\n",
              "2                                   Экспертная работа  ...                           Наличие ещё ПМСС центров\n",
              "3                                                 NaN  ...                                                  0\n",
              "4                                                 NaN  ...  увеличение количества ставок педагогов-психоло...\n",
              "5   Подготовка наглядного материала для индивидуал...  ...                  Материально-техническое оснащение\n",
              "6                                                 NaN  ...     продолжать совершенствовать в ногу со временем\n",
              "7                                                 NaN  ...  Организовать отдел медиативной службы ,штат пс...\n",
              "8                                                 NaN  ...                                      Нет пожеланий\n",
              "9                                                 NaN  ...  отчетов меньше, зарплаты побольше и так работа...\n",
              "10                                                NaN  ...                                                нет\n",
              "\n",
              "[10 rows x 26 columns]"
            ]
          },
          "metadata": {
            "tags": []
          },
          "execution_count": 15
        }
      ]
    },
    {
      "cell_type": "code",
      "metadata": {
        "id": "jRDqTfA6rSNg",
        "colab_type": "code",
        "outputId": "59931c3a-97aa-476a-8085-a8110e148900",
        "colab": {
          "base_uri": "https://localhost:8080/",
          "height": 479
        }
      },
      "source": [
        "from collections import Counter\n",
        "temp = []\n",
        "for i in data_rus_text.columns:\n",
        "  data = data_rus_text[i].dropna().apply(lambda x: preprocess_text(x))\n",
        "  print(data.shape[0], i)\n",
        "  temp.append((data.shape[0], i))\n",
        "  # print(data.shape)\n",
        "  # words = ' '.join(list(data)).split(' ')\n",
        "  # Counter(words)"
      ],
      "execution_count": 16,
      "outputs": [
        {
          "output_type": "stream",
          "text": [
            "1533 PQ101-Other\n",
            "1126 PQ102-Other\n",
            "591 PQ103-Other\n",
            "279 PQ104-Other\n",
            "292 PQ105-Other\n",
            "3694 PQ106-Other\n",
            "1459 PQ107-Other\n",
            "269 PQ108-Other\n",
            "645 PQ109-Other\n",
            "16826 PQ201-02\n",
            "1043 PQ301-Other\n",
            "1016 PQ302-Other\n",
            "4202 PQ303-Other\n",
            "1208 PQ304-Other\n",
            "827 PQ401-Other\n",
            "394 PQ402-Other\n",
            "1192 PQ403-Other\n",
            "346 PQ404-Other\n",
            "608 PQ501-Other\n",
            "1555 PQ503-Other\n",
            "1151 PQ504-Other\n",
            "308 PQ505-Other\n",
            "1872 PQ506-Other\n",
            "270 PQ606-Other\n",
            "1613 PQ607-Other\n",
            "16796 PQ614\n"
          ],
          "name": "stdout"
        }
      ]
    },
    {
      "cell_type": "code",
      "metadata": {
        "id": "unWnGE6Hdx4z",
        "colab_type": "code",
        "colab": {}
      },
      "source": [
        ""
      ],
      "execution_count": 0,
      "outputs": []
    },
    {
      "cell_type": "code",
      "metadata": {
        "id": "kY-Q_ATneej0",
        "colab_type": "code",
        "colab": {}
      },
      "source": [
        ""
      ],
      "execution_count": 0,
      "outputs": []
    },
    {
      "cell_type": "code",
      "metadata": {
        "id": "sVJe95ZeO7if",
        "colab_type": "code",
        "outputId": "646a5065-0470-41ed-cfed-42cb8cab3608",
        "colab": {
          "base_uri": "https://localhost:8080/",
          "height": 126
        }
      },
      "source": [
        "import pandas as pd\n",
        "import yaml\n",
        "\n",
        "# пояснение + количество отвечавших вытаскиеваем Other\n",
        "count_text_name = []\n",
        "with open(r'dictionary-psy.yml') as f:\n",
        "    data = yaml.load(f, Loader=yaml.Loader)\n",
        "    count_answer = []\n",
        "    text_answer = []\n",
        "    new_dict = dict()\n",
        "    print(data)\n",
        "    for index,d in enumerate(data[:]):\n",
        "      try:\n",
        "        a = d['Ответы']\n",
        "        if len(a) == 4:\n",
        "          pass\n",
        "        if len(a) not in count_answer:\n",
        "          count_answer.append(len(a))\n",
        "      except KeyError:\n",
        "        pass\n",
        "        for count, key in temp:\n",
        "          if key == d['Ключ']:\n",
        "            if 'PQ201-02' == d['Ключ']:\n",
        "              break\n",
        "            if 'Other' in d['Ключ']:\n",
        "              if 'PQ304-Other' == d['Ключ']:\n",
        "                count_text_name.append(('Отчитывание', count,key))\n",
        "                print('Отчитывание', key, count)\n",
        "                print(key, data[index-1]) \n",
        "                break\n",
        "              else:\n",
        "                 count_text_name.append((data[index-1][\"Вопрос\"], count, key))\n",
        "                 break\n",
        "              \n",
        "            else:\n",
        "              count_text_name.append((data[index][\"Вопрос\"], count, key))\n",
        "              print(d)\n",
        "              break\n",
        "        text_answer.append(d)\n",
        "    print(count_answer)"
      ],
      "execution_count": 17,
      "outputs": [
        {
          "output_type": "stream",
          "text": [
            "[{'Вопрос': 'I.1 Оцените затраты своего времени на работу в рамках каждого из нижеперечисленных видов деятельности', 'Ответы': {'Почти не уделяю этому время': 1, 'Немного времени уделяю': 2, 'Много времени уделяю': 3, 'Почти все время уделяю': 4}, 'Подвопросы': [{'Подвопрос': 'Социально-посредническая деятельность (налаживание эффективной коммуникации между людьми и/или группами в ситуации конфликта)', 'Ключ': 'PQ101-01'}, {'Подвопрос': 'Психодиагностика обучающихся индивидуальная, в т.ч. профориентация', 'Ключ': 'PQ101-02'}, {'Подвопрос': 'Психодиагностика обучающихся групповая: в т.ч. профориентация', 'Ключ': 'PQ101-03'}, {'Подвопрос': 'Индивидуальная коррекционно-развивающая работа с обучающимися', 'Ключ': 'PQ101-04'}, {'Подвопрос': 'Групповая коррекционно-развивающая работа с обучающимися', 'Ключ': 'PQ101-05'}, {'Подвопрос': 'Индивидуальная работа с родителями', 'Ключ': 'PQ101-06'}, {'Подвопрос': 'Групповая работа с родителями', 'Ключ': 'PQ101-07'}, {'Подвопрос': 'Индивидуальная работа с педагогами', 'Ключ': 'PQ101-08'}, {'Подвопрос': 'Групповая работа с педагогами', 'Ключ': 'PQ101-09'}, {'Подвопрос': 'Повышение собственной квалификации на специализированных занятиях/курсах', 'Ключ': 'PQ101-10'}, {'Подвопрос': 'Рефлексия и анализ своей работы', 'Ключ': 'PQ101-11'}, {'Подвопрос': 'Организация и проведение совещаний с педагогами, представителями администрации, родителями (консилиумы)', 'Ключ': 'PQ101-12'}, {'Подвопрос': 'Психологическое просвещение', 'Ключ': 'PQ101-13'}, {'Подвопрос': 'Психологическая профилактика', 'Ключ': 'PQ101-14'}, {'Подвопрос': 'Заполнение документации, написание отчетов', 'Ключ': 'PQ101-15'}, {'Подвопрос': 'Проведение научных исследований и подготовка публикаций', 'Ключ': 'PQ101-16'}]}, {'Пояснение': 'Введите вид деятельности, если его нет в списке выше', 'Ключ': 'PQ101-Other'}, {'Пояснение': 'Оцените затраты своего времени на работу в рамках описанного Вами вида деятельности', 'Ключ': 'PQ101-17', 'Ответы': {'Почти не уделяю этому время': 1, 'Немного времени уделяю': 2, 'Много времени уделяю': 3, 'Почти все время уделяю': 4}}, {'Вопрос': 'I.2 Оцените затраты своего времени на работу с различными категориями лиц', 'Ответы': {'Почти не уделяю этому время': 1, 'Немного времени уделяю': 2, 'Много времени уделяю': 3, 'Почти все время уделяю': 4}, 'Подвопросы': [{'Подвопрос': 'Обучающиеся с ограниченными возможностями здоровья, в т.ч. обучающиеся на дому', 'Ключ': 'PQ102-01'}, {'Подвопрос': 'Обучающиеся с антисоциальным поведением', 'Ключ': 'PQ102-02'}, {'Подвопрос': 'Обучающиеся, перенесшие агрессивное поведение сверстников', 'Ключ': 'PQ102-03'}, {'Подвопрос': 'Обучающиеся с повышенной мотивацией к обучению, в т.ч. участники олимпиад', 'Ключ': 'PQ102-04'}, {'Подвопрос': 'Родители', 'Ключ': 'PQ102-05'}, {'Подвопрос': 'Учителя-предметники', 'Ключ': 'PQ102-06'}, {'Подвопрос': 'Классные руководители', 'Ключ': 'PQ102-07'}, {'Подвопрос': 'Представители администрации школы', 'Ключ': 'PQ102-08'}]}, {'Пояснение': 'Введите категорию лиц, если её нет в списке выше', 'Ключ': 'PQ102-Other'}, {'Пояснение': 'Оцените затраты своего времени на работу с описанной Вами категорией лиц', 'Ключ': 'PQ102-09', 'Ответы': {'Почти не уделяю этому время': 1, 'Немного времени уделяю': 2, 'Много времени уделяю': 3, 'Почти все время уделяю': 4}}, {'Вопрос': 'I.3 Оцените, как часто к Вам обращаются по следующим причинам', 'Ответы': {'Никогда': 1, 'Достаточно редко': 2, 'Достаточно часто': 3, 'Постоянно': 4}, 'Подвопросы': [{'Подвопрос': 'Ребенок ведет себя антисоциально (ворует, вымогает деньги, дерется и пр.)', 'Ключ': 'PQ103-01'}, {'Подвопрос': 'Ребенок злоупотребляет психоактивными веществами (алкоголем, наркотиками и пр.)', 'Ключ': 'PQ103-02'}, {'Подвопрос': 'Ребенок систематически не справляется с учебными заданиями', 'Ключ': 'PQ103-03'}, {'Подвопрос': 'Ребенок очевидно не понимает норм человеческого общения', 'Ключ': 'PQ103-04'}, {'Подвопрос': 'Имеет место конфликт со сверстниками', 'Ключ': 'PQ103-05'}, {'Подвопрос': 'Имеет место конфликт с учителем (учителями)', 'Ключ': 'PQ103-06'}, {'Подвопрос': 'Ребенок ведет себя недисциплинированно, мешает учителю работать, а одноклассникам – учиться', 'Ключ': 'PQ103-07'}, {'Подвопрос': 'У ребенка есть трудности с речью', 'Ключ': 'PQ103-08'}, {'Подвопрос': 'У ребенка не формируется определенный учебный навык (он не может научиться читать, грамотно писать или считать)', 'Ключ': 'PQ103-09'}, {'Подвопрос': 'Неясно, можно ли перевести ребенка на следующий год обучения', 'Ключ': 'PQ103-10'}, {'Подвопрос': 'Неясно, стоит ли оставлять ребенка в обычном классе или следует перевести его на обучение по адаптированным программам', 'Ключ': 'PQ103-11'}, {'Подвопрос': 'Ребенок опережает сверстников в интеллектуальном развитии', 'Ключ': 'PQ103-12'}, {'Подвопрос': 'В семье ребенка есть проблемы', 'Ключ': 'PQ103-13'}, {'Подвопрос': 'Ребенок нуждается в разработке индивидуального плана обучения', 'Ключ': 'PQ103-14'}, {'Подвопрос': 'Ребенок стоит перед выбором (личностным, профессиональным)', 'Ключ': 'PQ103-15'}, {'Подвопрос': 'Ребенок много болеет, часто пропускает школу', 'Ключ': 'PQ103-16'}, {'Подвопрос': 'Ребенок не заинтересован в учебе', 'Ключ': 'PQ103-17'}, {'Подвопрос': 'У ребенка нет друзей (он замкнут, агрессивен или застенчив)', 'Ключ': 'PQ103-18'}, {'Подвопрос': 'Ребенок крайне тревожен или подавлен, и это мешает ему в школе', 'Ключ': 'PQ103-19'}]}, {'Пояснение': 'Введите иную причину, если её нет в списке выше', 'Ключ': 'PQ103-Other'}, {'Пояснение': 'Оцените, как часто к Вам обращаются указанной Вами причине', 'Ключ': 'PQ103-20', 'Ответы': {'Никогда': 1, 'Достаточно редко': 2, 'Достаточно часто': 3, 'Постоянно': 4}}, {'Вопрос': 'I.4 Как часто при решении проблем ребенка Вы взаимодействуете со специалистами следующих учреждений?', 'Ответы': {'Никогда': 1, 'Достаточно редко': 2, 'Достаточно часто': 3, 'Постоянно': 4}, 'Подвопросы': [{'Подвопрос': 'органов опеки и попечительства', 'Ключ': 'PQ104-01'}, {'Подвопрос': 'комиссии по делам несовершеннолетних', 'Ключ': 'PQ104-02'}, {'Подвопрос': 'медицинских учреждений (центры, клиники, поликлиники)', 'Ключ': 'PQ104-03'}, {'Подвопрос': 'органов внутренних дел', 'Ключ': 'PQ104-04'}, {'Подвопрос': 'прокуратуры', 'Ключ': 'PQ104-05'}, {'Подвопрос': 'суда', 'Ключ': 'PQ104-06'}, {'Подвопрос': 'психоневрологического диспансера', 'Ключ': 'PQ104-07'}, {'Подвопрос': 'психолого-медико-педагогической комиссии (ПМПК)', 'Ключ': 'PQ104-08'}, {'Подвопрос': 'центра психолого-педагогической, медицинской и социальной помощи (ППМС – центр)', 'Ключ': 'PQ104-09'}, {'Подвопрос': 'других психологических центров (частных, социальной защиты и др.)', 'Ключ': 'PQ104-10'}, {'Подвопрос': 'органов социальной защиты', 'Ключ': 'PQ104-11'}, {'Подвопрос': 'органов управления образованием', 'Ключ': 'PQ104-12'}]}, {'Пояснение': 'Введите иное учреждение, если его нет в списке выше', 'Ключ': 'PQ104-Other'}, {'Пояснение': 'Оцените, как часто Вы взаимодействуете со специалистами указанного Вами учреждения', 'Ключ': 'PQ104-13', 'Ответы': {'Никогда': 1, 'Достаточно редко': 2, 'Достаточно часто': 3, 'Постоянно': 4}}, {'Вопрос': 'I.5 Укажите основные причины, которые, с Вашей точки зрения, мешают конструктивному сотрудничеству с другими участниками образовательного процесса и специалистами', 'Ответы': {'Совершенно согласен': 1, 'Скорее согласен': 2, 'Скорее не согласен': 3, 'Совершенно не согласен': 4}, 'Подвопросы': [{'Подвопрос': 'Отсутствие концепции и регламента совместной работы', 'Ключ': 'PQ105-01'}, {'Подвопрос': 'Не хватает материальных и временных предпосылок у всех участников сотрудничества', 'Ключ': 'PQ105-02'}, {'Подвопрос': 'У коллег недостаточно мотивации к сотрудничеству', 'Ключ': 'PQ105-03'}, {'Подвопрос': 'Лично я не вижу необходимости в сотрудничестве', 'Ключ': 'PQ105-04'}, {'Подвопрос': 'Образовательное учреждение не обеспечивает организационные и структурные условия для сотрудничества', 'Ключ': 'PQ105-05'}, {'Подвопрос': 'У педагогов-психологов недостаточно полномочий для того, чтобы наладить сотрудничество', 'Ключ': 'PQ105-06'}]}, {'Пояснение': 'Введите иную причину, если её нет в списке выше', 'Ключ': 'PQ105-Other'}, {'Пояснение': 'Оцените, насколько значима указанная Вами причина', 'Ключ': 'PQ105-07', 'Ответы': {'Совершенно согласен': 1, 'Скорее согласен': 2, 'Скорее не согласен': 3, 'Совершенно не согласен': 4}}, {'Вопрос': 'I.6 Есть ли у Вас еще какие-либо обязанности в школе, прямо не относящиеся к Вашей психологической деятельности?', 'Пояснение': '1. Классное руководство', 'Ключ': 'PQ106-01', 'Ответы': {'Да': 1, 'Нет': 2}}, {'Вопрос': 'I.6 Есть ли у Вас еще какие-либо обязанности в школе, прямо не относящиеся к Вашей психологической деятельности?', 'Пояснение': '2. Участие в экзаменационных и иных комиссиях', 'Ключ': 'PQ106-02', 'Ответы': {'Да': 1, 'Нет': 2}}, {'Вопрос': 'I.6 Есть ли у Вас еще какие-либо обязанности в школе, прямо не относящиеся к Вашей психологической деятельности?', 'Пояснение': '3. Внеклассная работа, организация досуга', 'Ключ': 'PQ106-03', 'Ответы': {'Да': 1, 'Нет': 2}}, {'Вопрос': 'I.6 Есть ли у Вас еще какие-либо обязанности в школе, прямо не относящиеся к Вашей психологической деятельности?', 'Пояснение': '4. Замены отсутствующих (по болезни и т.д.) учителей', 'Ключ': 'PQ106-04', 'Ответы': {'Да': 1, 'Нет': 2}}, {'Вопрос': 'I.6 Есть ли у Вас еще какие-либо обязанности в школе, прямо не относящиеся к Вашей психологической деятельности?', 'Пояснение': '5. Другое (укажите)', 'Ключ': 'PQ106-05', 'Ответы': {'Да': 1, 'Нет': 2}}, {'Пояснение': 'Уточните, какие именно', 'Ключ': 'PQ106-Other'}, {'Вопрос': 'I.7 Если такие обязанности имеются, то в какой степени они ограничивают вашу деятельность как психолога?', 'Ответы': {'Почти не ограничивают': 1, 'Достаточно слабо': 2, 'Достаточно сильно': 3, 'Очень сильно ограничивают': 4}, 'Подвопросы': [{'Подвопрос': 'Классное руководство', 'Ключ': 'PQ107-01'}, {'Подвопрос': 'Участие в экзаменационных комиссиях', 'Ключ': 'PQ107-02'}, {'Подвопрос': 'Внеклассная работа, организация досуга', 'Ключ': 'PQ107-03'}, {'Подвопрос': 'Замены отсутствующих (по болезни и т.д.) учителей', 'Ключ': 'PQ107-04'}]}, {'Пояснение': 'Если имеются иные обязанности, укажите, какие именно', 'Ключ': 'PQ107-Other'}, {'Пояснение': 'Оцените, как сильно указанные Вами обязанности ограничивают вашу деятельность как психолога', 'Ключ': 'PQ107-05', 'Ответы': {'Почти не ограничивают': 1, 'Достаточно слабо': 2, 'Достаточно сильно': 3, 'Очень сильно ограничивают': 4}}, {'Вопрос': 'I.8 Насколько часто в своей работе Вы сталкиваетесь со сложными ситуациями, перечисленными ниже', 'Ответы': {'Никогда': 1, 'Достаточно редко': 2, 'Достаточно часто': 3, 'Постоянно': 4}, 'Подвопросы': [{'Подвопрос': 'Десять и более одновременных запросов на обследование обучающихся', 'Ключ': 'PQ108-01'}, {'Подвопрос': 'Написание отчетов', 'Ключ': 'PQ108-02'}, {'Подвопрос': 'Недостаток времени для того, чтобы как следует выполнять свою работу', 'Ключ': 'PQ108-03'}, {'Подвопрос': 'Недостаточное признание заслуг и ценности работы школьного психолога', 'Ключ': 'PQ108-04'}, {'Подвопрос': 'Некомпетентность и/или ригидность проверяющих', 'Ключ': 'PQ108-05'}, {'Подвопрос': 'Необходимость быть в курсе выходящей литературы по специальности', 'Ключ': 'PQ108-06'}, {'Подвопрос': 'Необходимость «делать норму» (например, обследовать не менее 100 детей в год)', 'Ключ': 'PQ108-07'}, {'Подвопрос': 'Необходимость работать с детьми, для которых русский язык – не родной', 'Ключ': 'PQ108-08'}, {'Подвопрос': 'Необходимость сообщить родителям о том, что их ребенку необходимо обучаться по адаптированным образовательным программам', 'Ключ': 'PQ108-09'}, {'Подвопрос': 'Неудовлетворенность учителя теми рекомендациями, которые дает психолог', 'Ключ': 'PQ108-10'}, {'Подвопрос': 'Общение с враждебно настроенными родителями', 'Ключ': 'PQ108-11'}, {'Подвопрос': 'Общение с враждебно настроенными педагогами', 'Ключ': 'PQ108-12'}, {'Подвопрос': 'Отсутствие в учебном плане времени для проведения психологических мероприятий', 'Ключ': 'PQ108-13'}, {'Подвопрос': 'Отсутствие желания сотрудничать со стороны администрации образовательного учреждения', 'Ключ': 'PQ108-14'}, {'Подвопрос': 'Отсутствие кабинета', 'Ключ': 'PQ108-15'}, {'Подвопрос': 'Отсутствие контакта с коллегами-психологами в регионе', 'Ключ': 'PQ108-16'}, {'Подвопрос': 'Отсутствие необходимых диагностических материалов', 'Ключ': 'PQ108-17'}, {'Подвопрос': 'Отсутствие системы служб, в которых нуждаются дети (не к кому дальше направить ребенка)', 'Ключ': 'PQ108-18'}, {'Подвопрос': 'Наличие конфликта между потребностями ребенка и ограничениями доступных образовательных программ (необходимость «втиснуть» ребенка в  существующие программы)', 'Ключ': 'PQ108-19'}, {'Подвопрос': 'Поучения со стороны педагогов', 'Ключ': 'PQ108-20'}, {'Подвопрос': 'Провал аттестации (вывод о неудовлетворительном исполнении профессиональных обязанностей)', 'Ключ': 'PQ108-21'}, {'Подвопрос': 'Проведение групп с родителями', 'Ключ': 'PQ108-22'}, {'Подвопрос': 'Проведение семинаров («открытых занятий») или групп для учителей в школе', 'Ключ': 'PQ108-23'}, {'Подвопрос': 'Публичные выступления', 'Ключ': 'PQ108-24'}, {'Подвопрос': 'Работа в условиях, опасных для жизни (с обучающимися с антисоциальным поведением)', 'Ключ': 'PQ108-25'}, {'Подвопрос': 'Работа с обучающимися с суицидальным поведением', 'Ключ': 'PQ108-26'}, {'Подвопрос': 'Расхождение мнений персонала образовательного учреждения и родителей', 'Ключ': 'PQ108-27'}, {'Подвопрос': 'Случаи жестокого обращения родителей с детьми', 'Ключ': 'PQ108-28'}, {'Подвопрос': 'Угроза привлечения психолога к суду', 'Ключ': 'PQ108-29'}]}, {'Пояснение': 'Введите иную сложную ситуацию, если её нет в списке выше', 'Ключ': 'PQ108-Other'}, {'Пояснение': 'Оцените, как часто Вы сталкиваетесь с указанной Вами сложной ситуацией', 'Ключ': 'PQ108-30', 'Ответы': {'Никогда': 1, 'Достаточно редко': 2, 'Достаточно часто': 3, 'Постоянно': 4}}, {'Вопрос': 'I.9 Что, с Вашей точки зрения, могло бы повысить эффективность профессиональной деятельности школьных психологов?', 'Ответы': {'Совершенно согласен': 1, 'Скорее согласен': 2, 'Скорее не согласен': 3, 'Совершенно не согласен': 4}, 'Подвопросы': [{'Подвопрос': 'Анонимное анкетирование школьников, их родителей и преподавателей для контроля деятельности психолога со стороны органов управления образованием', 'Ключ': 'PQ109-01'}, {'Подвопрос': 'Проведение психологом занятий для педагогов (по специальности)', 'Ключ': 'PQ109-02'}, {'Подвопрос': 'Централизованная методическая помощь школьным психологам', 'Ключ': 'PQ109-03'}, {'Подвопрос': 'Индивидуальное психологическое консультирование по личностным и профессиональным проблемам самих школьных психологов', 'Ключ': 'PQ109-04'}, {'Подвопрос': 'Возможность посещать проводимые другими школьными психологами мероприятия (консультации, тренинги и т.д.)', 'Ключ': 'PQ109-05'}, {'Подвопрос': 'Изменение организационных форм и разработка единого регламента работы с обучающимися и родителями (режим, отчеты и т.п.)', 'Ключ': 'PQ109-06'}, {'Подвопрос': 'Оснащение кабинетов школьного психолога современными надежными методиками, инструментарием и оборудованием', 'Ключ': 'PQ109-07'}, {'Подвопрос': 'Очная регулярная переподготовка и повышение квалификации школьных психологов в ведущих научных и образовательных учреждениях', 'Ключ': 'PQ109-08'}, {'Подвопрос': 'Заочная регулярная переподготовка и повышение квалификации школьных психологов в ведущих научных и образовательных учреждениях', 'Ключ': 'PQ109-09'}, {'Подвопрос': 'Повышение заработной платы школьному психологу', 'Ключ': 'PQ109-10'}]}, {'Пояснение': 'Укажите, что ещё могло бы повысить эффективность профессиональной деятельности школьных психологов, если Вашего варианта нет в списке выше', 'Ключ': 'PQ109-Other'}, {'Пояснение': 'Оцените, насколько Вы согласны с предложенным Вами вариантом', 'Ключ': 'PQ109-11', 'Ответы': {'Совершенно согласен': 1, 'Скорее согласен': 2, 'Скорее не согласен': 3, 'Совершенно не согласен': 4}}, {'Вопрос': 'Региональные', 'Ключ': 'PQ201-01'}, {'Вопрос': 'Внутришкольные', 'Ключ': 'PQ201-02'}, {'Вопрос': 'Другое', 'Ключ': 'PQ201-03'}, {'Вопрос': 'III.1  Кто осуществляет контроль за Вашей профессиональной деятельностью?', 'Пояснение': '1. Руководитель образовательного учреждения', 'Ключ': 'PQ301-01', 'Ответы': {'Да': 1, 'Нет': 2}}, {'Вопрос': 'III.1  Кто осуществляет контроль за Вашей профессиональной деятельностью?', 'Пояснение': '2. Заместитель руководителя образовательного учреждения', 'Ключ': 'PQ301-02', 'Ответы': {'Да': 1, 'Нет': 2}}, {'Вопрос': 'III.1  Кто осуществляет контроль за Вашей профессиональной деятельностью?', 'Пояснение': '3. Специалист центра психолого-педагогической, медицинской и социальной помощи', 'Ключ': 'PQ301-03', 'Ответы': {'Да': 1, 'Нет': 2}}, {'Вопрос': 'III.1  Кто осуществляет контроль за Вашей профессиональной деятельностью?', 'Пояснение': '4. Специалист органов управления образованием', 'Ключ': 'PQ301-04', 'Ответы': {'Да': 1, 'Нет': 2}}, {'Вопрос': 'III.1  Кто осуществляет контроль за Вашей профессиональной деятельностью?', 'Пояснение': '5. Я сам(а)', 'Ключ': 'PQ301-05', 'Ответы': {'Да': 1, 'Нет': 2}}, {'Вопрос': 'III.1  Кто осуществляет контроль за Вашей профессиональной деятельностью?', 'Пояснение': '6. Никто', 'Ключ': 'PQ301-06', 'Ответы': {'Да': 1, 'Нет': 2}}, {'Вопрос': 'III.1  Кто осуществляет контроль за Вашей профессиональной деятельностью?', 'Пояснение': '7. Другое (укажите)', 'Ключ': 'PQ301-07', 'Ответы': {'Да': 1, 'Нет': 2}}, {'Пояснение': 'Уточните, кто именно', 'Ключ': 'PQ301-Other'}, {'Вопрос': 'III.2  Кто ставит Вам содержательные задачи, непосредственно связанные с Вашей профессиональной деятельностью?', 'Пояснение': '1. Руководитель образовательного учреждения', 'Ключ': 'PQ302-01', 'Ответы': {'Да': 1, 'Нет': 2}}, {'Вопрос': 'III.2  Кто ставит Вам содержательные задачи, непосредственно связанные с Вашей профессиональной деятельностью?', 'Пояснение': '2. Заместитель руководителя образовательного учреждения', 'Ключ': 'PQ302-02', 'Ответы': {'Да': 1, 'Нет': 2}}, {'Вопрос': 'III.2  Кто ставит Вам содержательные задачи, непосредственно связанные с Вашей профессиональной деятельностью?', 'Пояснение': '3. Специалист центра психолого-педагогической, медицинской и социальной помощи', 'Ключ': 'PQ302-03', 'Ответы': {'Да': 1, 'Нет': 2}}, {'Вопрос': 'III.2  Кто ставит Вам содержательные задачи, непосредственно связанные с Вашей профессиональной деятельностью?', 'Пояснение': '4. Специалист органов управления образованием', 'Ключ': 'PQ302-04', 'Ответы': {'Да': 1, 'Нет': 2}}, {'Вопрос': 'III.2  Кто ставит Вам содержательные задачи, непосредственно связанные с Вашей профессиональной деятельностью?', 'Пояснение': '5. Я сам(а)', 'Ключ': 'PQ302-05', 'Ответы': {'Да': 1, 'Нет': 2}}, {'Вопрос': 'III.2  Кто ставит Вам содержательные задачи, непосредственно связанные с Вашей профессиональной деятельностью?', 'Пояснение': '6. Никто', 'Ключ': 'PQ302-06', 'Ответы': {'Да': 1, 'Нет': 2}}, {'Вопрос': 'III.2  Кто ставит Вам содержательные задачи, непосредственно связанные с Вашей профессиональной деятельностью?', 'Пояснение': '7. Другое (укажите)', 'Ключ': 'PQ302-07', 'Ответы': {'Да': 1, 'Нет': 2}}, {'Пояснение': 'Уточните, кто именно', 'Ключ': 'PQ302-Other'}, {'Вопрос': 'III.3  Какую психологическую документацию Вы ведете в учреждении?', 'Пояснение': '1. Папки с диагностическими материалами', 'Ключ': 'PQ303-01', 'Ответы': {'Да': 1, 'Нет': 2}}, {'Вопрос': 'III.3  Какую психологическую документацию Вы ведете в учреждении?', 'Пояснение': '2. Заключения по каждому обследованному ребенку', 'Ключ': 'PQ303-02', 'Ответы': {'Да': 1, 'Нет': 2}}, {'Вопрос': 'III.3  Какую психологическую документацию Вы ведете в учреждении?', 'Пояснение': '3. План, согласованный с центром психолого-педагогической, медицинской и социальной помощи', 'Ключ': 'PQ303-03', 'Ответы': {'Да': 1, 'Нет': 2}}, {'Вопрос': 'III.3  Какую психологическую документацию Вы ведете в учреждении?', 'Пояснение': '4. План, согласованный с органами управления образованием', 'Ключ': 'PQ303-04', 'Ответы': {'Да': 1, 'Нет': 2}}, {'Вопрос': 'III.3  Какую психологическую документацию Вы ведете в учреждении?', 'Пояснение': '5. План, согласованный с администрацией образовательного учреждения', 'Ключ': 'PQ303-05', 'Ответы': {'Да': 1, 'Нет': 2}}, {'Вопрос': 'III.3  Какую психологическую документацию Вы ведете в учреждении?', 'Пояснение': '6. Собственный план', 'Ключ': 'PQ303-06', 'Ответы': {'Да': 1, 'Нет': 2}}, {'Вопрос': 'III.3  Какую психологическую документацию Вы ведете в учреждении?', 'Пояснение': '7. Карта обследования ребенка', 'Ключ': 'PQ303-07', 'Ответы': {'Да': 1, 'Нет': 2}}, {'Вопрос': 'III.3  Какую психологическую документацию Вы ведете в учреждении?', 'Пояснение': '8. Программы коррекционных занятий', 'Ключ': 'PQ303-08', 'Ответы': {'Да': 1, 'Нет': 2}}, {'Вопрос': 'III.3  Какую психологическую документацию Вы ведете в учреждении?', 'Пояснение': '9. График консультаций', 'Ключ': 'PQ303-09', 'Ответы': {'Да': 1, 'Нет': 2}}, {'Вопрос': 'III.3  Какую психологическую документацию Вы ведете в учреждении?', 'Пояснение': '10. Расписание групповых занятий', 'Ключ': 'PQ303-10', 'Ответы': {'Да': 1, 'Нет': 2}}, {'Вопрос': 'III.3  Какую психологическую документацию Вы ведете в учреждении?', 'Пояснение': '11. Журнал групповых занятий', 'Ключ': 'PQ303-11', 'Ответы': {'Да': 1, 'Нет': 2}}, {'Вопрос': 'III.3  Какую психологическую документацию Вы ведете в учреждении?', 'Пояснение': '12. Другое (укажите)', 'Ключ': 'PQ303-12', 'Ответы': {'Да': 1, 'Нет': 2}}, {'Пояснение': 'Уточните, какую именно', 'Ключ': 'PQ303-Other'}, {'Вопрос': '1. Руководитель образовательного учреждения', 'Ключ': 'PQ304-01', 'Ответы': {'не отчитываюсь': 1, 'реже, чем 1 раз в год': 2, '1 раз в год': 3, '1 раз в полгода': 4, '1 раз в квартал': 5, '1 раз в месяц': 6, '1 раз в неделю': 7, 'ежедневно': 8}}, {'Вопрос': '2. Заместитель руководителя', 'Ключ': 'PQ304-02', 'Ответы': {'не отчитываюсь': 1, 'реже, чем 1 раз в год': 2, '1 раз в год': 3, '1 раз в полгода': 4, '1 раз в квартал': 5, '1 раз в месяц': 6, '1 раз в неделю': 7, 'ежедневно': 8}}, {'Вопрос': '3. Специалист ППМС–центра', 'Ключ': 'PQ304-03', 'Ответы': {'не отчитываюсь': 1, 'реже, чем 1 раз в год': 2, '1 раз в год': 3, '1 раз в полгода': 4, '1 раз в квартал': 5, '1 раз в месяц': 6, '1 раз в неделю': 7, 'ежедневно': 8}}, {'Вопрос': '4. Специалист органов управления образованием', 'Ключ': 'PQ304-04', 'Ответы': {'не отчитываюсь': 1, 'реже, чем 1 раз в год': 2, '1 раз в год': 3, '1 раз в полгода': 4, '1 раз в квартал': 5, '1 раз в месяц': 6, '1 раз в неделю': 7, 'ежедневно': 8}}, {'Вопрос': '5. Другое (укажите)', 'Ключ': 'PQ304-5', 'Ответы': {'не отчитываюсь': 1, 'реже, чем 1 раз в год': 2, '1 раз в год': 3, '1 раз в полгода': 4, '1 раз в квартал': 5, '1 раз в месяц': 6, '1 раз в неделю': 7, 'ежедневно': 8}}, {'Пояснение': 'Укажите, перед кем именно', 'Ключ': 'PQ304-Other'}, {'Вопрос': 'III.5  Кто утвердил форму отчетов?', 'Пояснение': '1. Администрация образовательного учреждения', 'Ключ': 'PQ305-01', 'Ответы': {'Да': 1, 'Нет': 2}}, {'Вопрос': 'III.5  Кто утвердил форму отчетов?', 'Пояснение': '2. Центр психолого-педагогической, медицинской и социальной помощи (ППМС – центр)', 'Ключ': 'PQ305-02', 'Ответы': {'Да': 1, 'Нет': 2}}, {'Вопрос': 'III.5  Кто утвердил форму отчетов?', 'Пояснение': '3. Органы управления образованием', 'Ключ': 'PQ305-03', 'Ответы': {'Да': 1, 'Нет': 2}}, {'Вопрос': 'III.5  Кто утвердил форму отчетов?', 'Пояснение': '4. Использую произвольную форму', 'Ключ': 'PQ305-04', 'Ответы': {'Да': 1, 'Нет': 2}}, {'Вопрос': 'IV.1 Какие средства Вы используете для оценки качества и эффективности своей деятельности?', 'Ответы': {'Не использую': 1, 'Достаточно редко': 2, 'Достаточно часто': 3, 'Использую постоянно': 4}, 'Подвопросы': [{'Подвопрос': 'Мнение администрации образовательного учреждения', 'Ключ': 'PQ401-01'}, {'Подвопрос': 'Мнение педагогов и родителей', 'Ключ': 'PQ401-02'}, {'Подвопрос': 'Собственные наблюдения', 'Ключ': 'PQ401-03'}, {'Подвопрос': 'Мнение специалистов смежных специальностей', 'Ключ': 'PQ401-04'}, {'Подвопрос': 'Методическая помощь более опытных специалистов', 'Ключ': 'PQ401-05'}]}, {'Пояснение': 'Укажите, какие ещё средства Вы используете для оценки качества и эффективности своей деятельности, если их нет в списке выше', 'Ключ': 'PQ401-Other'}, {'Пояснение': 'Оцените, как часто Вы используете указанные Вами средства', 'Ключ': 'PQ401-06', 'Ответы': {'Не использую': 1, 'Достаточно редко': 2, 'Достаточно часто': 3, 'Использую постоянно': 4}}, {'Вопрос': 'IV.2 Каким образом ребенок попадает к Вам на прием?', 'Ответы': {'Никогда не попадали таким образом': 1, 'Достаточно редко попадали': 2, 'Достаточно часто попадали': 3, 'Постоянно попадают таким образом': 4}, 'Подвопросы': [{'Подвопрос': 'по направлению педагогов-предметников', 'Ключ': 'PQ402-01'}, {'Подвопрос': 'по направлению классных руководителей', 'Ключ': 'PQ402-02'}, {'Подвопрос': 'по направлению администрации', 'Ключ': 'PQ402-03'}, {'Подвопрос': 'по инициативе ребенка', 'Ключ': 'PQ402-04'}, {'Подвопрос': 'по инициативе родителей', 'Ключ': 'PQ402-05'}, {'Подвопрос': 'по Вашей инициативе', 'Ключ': 'PQ402-06'}, {'Подвопрос': 'по направлению отдела опеки и попечительства', 'Ключ': 'PQ402-07'}, {'Подвопрос': 'по направлению комиссии по делам несовершеннолетних', 'Ключ': 'PQ402-08'}, {'Подвопрос': 'по направлению поликлиники', 'Ключ': 'PQ402-09'}, {'Подвопрос': 'по направлению органов внутренних дел', 'Ключ': 'PQ402-10'}, {'Подвопрос': 'по направлению прокуратуры', 'Ключ': 'PQ402-11'}, {'Подвопрос': 'по направлению суда, адвокатов', 'Ключ': 'PQ402-12'}, {'Подвопрос': 'по направлению психоневрологического диспансера', 'Ключ': 'PQ402-13'}, {'Подвопрос': 'по направлению ППМС–центра', 'Ключ': 'PQ402-14'}, {'Подвопрос': 'из других психологических центров (частных, помощи семье и др.)', 'Ключ': 'PQ402-15'}, {'Подвопрос': 'по направлению органов социальной защиты', 'Ключ': 'PQ402-16'}, {'Подвопрос': 'по направлению органов управления образованием', 'Ключ': 'PQ402-17'}, {'Подвопрос': 'от частнопрактикующих специалистов', 'Ключ': 'PQ402-18'}]}, {'Пояснение': 'Укажите, каким образом ребенок попадает к Вам на прием, если Вашего варианта нет в списке выше', 'Ключ': 'PQ402-Other'}, {'Пояснение': 'Оцените, как часто ребенок попадает к Вам на прием указанным Вами образом', 'Ключ': 'PQ402-19', 'Ответы': {'Никогда не попадали таким образом': 1, 'Достаточно редко попадали': 2, 'Достаточно часто попадали': 3, 'Постоянно попадают таким образом': 4}}, {'Вопрос': 'IV.3 Каким образом Вами организуется работа с обучающимися?', 'Пояснение': '1. Имеются фиксированные часы, специально отведенные для работы психолога во внеурочное время', 'Ключ': 'PQ403-01', 'Ответы': {'Да': 1, 'Нет': 2}}, {'Вопрос': 'IV.3 Каким образом Вами организуется работа с обучающимися?', 'Пояснение': '2. Имеются специальные уроки психологии в учебном плане', 'Ключ': 'PQ403-02', 'Ответы': {'Да': 1, 'Нет': 2}}, {'Вопрос': 'IV.3 Каким образом Вами организуется работа с обучающимися?', 'Пояснение': '3. Психолог работает с группами детей, заменяя уроки в тех классах, где учитель отсутствует', 'Ключ': 'PQ403-03', 'Ответы': {'Да': 1, 'Нет': 2}}, {'Вопрос': 'IV.3 Каким образом Вами организуется работа с обучающимися?', 'Пояснение': '4. Учителя отдают часть своего урока/уроки/классные часы под психологические мероприятия с классом', 'Ключ': 'PQ403-04', 'Ответы': {'Да': 1, 'Нет': 2}}, {'Вопрос': 'IV.3 Каким образом Вами организуется работа с обучающимися?', 'Пояснение': '5. Школьники остаются после уроков время от времени', 'Ключ': 'PQ403-05', 'Ответы': {'Да': 1, 'Нет': 2}}, {'Вопрос': 'IV.3 Каким образом Вами организуется работа с обучающимися?', 'Пояснение': '6. Психолог снимает с уроков одного или нескольких школьников для проведения диагностики и коррекционно-развивающих мероприятий', 'Ключ': 'PQ403-06', 'Ответы': {'Да': 1, 'Нет': 2}}, {'Вопрос': 'IV.3 Каким образом Вами организуется работа с обучающимися?', 'Пояснение': '7. Другое (укажите)', 'Ключ': 'PQ403-07', 'Ответы': {'Да': 1, 'Нет': 2}}, {'Пояснение': 'Уточните, каким именно', 'Ключ': 'PQ403-Other'}, {'Вопрос': 'IV.4 Куда Вы направляете ребенка, если Вы не имеете возможности самостоятельно оказать ему помощь?', 'Ответы': {'Никогда не направляю': 1, 'Достаточно редко направляю': 2, 'Достаточно часто направляю': 3, 'Постоянно направляю': 4}, 'Подвопросы': [{'Подвопрос': 'к частнопрактикующим специалистам', 'Ключ': 'PQ404-01'}, {'Подвопрос': 'к педагогу', 'Ключ': 'PQ404-02'}, {'Подвопрос': 'к представителю администрации', 'Ключ': 'PQ404-03'}, {'Подвопрос': 'к родителю(ям)', 'Ключ': 'PQ404-04'}, {'Подвопрос': 'к более опытным коллегам, работающим в других образовательных учреждениях', 'Ключ': 'PQ404-05'}, {'Подвопрос': 'в органы опеки и попечительства', 'Ключ': 'PQ404-06'}, {'Подвопрос': 'в комиссию по делам несовершеннолетних', 'Ключ': 'PQ404-07'}, {'Подвопрос': 'в поликлинику', 'Ключ': 'PQ404-08'}, {'Подвопрос': 'в органы внутренних дел', 'Ключ': 'PQ404-09'}, {'Подвопрос': 'в прокуратуру', 'Ключ': 'PQ404-10'}, {'Подвопрос': 'к адвокатам, в суд', 'Ключ': 'PQ404-11'}, {'Подвопрос': 'в психоневрологический диспансер', 'Ключ': 'PQ404-12'}, {'Подвопрос': 'в центр психолого-педагогической, медицинской и социальной помощи', 'Ключ': 'PQ404-13'}, {'Подвопрос': 'в психолого-медико-педагогическую комиссию', 'Ключ': 'PQ404-14'}, {'Подвопрос': 'в другие психологические центры (частные, при университете, помощи семье и др.)', 'Ключ': 'PQ404-15'}, {'Подвопрос': 'в органы социальной защиты', 'Ключ': 'PQ404-16'}, {'Подвопрос': 'в органы управления образованием', 'Ключ': 'PQ404-17'}, {'Подвопрос': 'в общественные (некоммерческие) организации', 'Ключ': 'PQ404-18'}]}, {'Пояснение': 'Укажите, куда Вы направляете ребенка, если Вашего варианта нет в списке выше', 'Ключ': 'PQ404-Other'}, {'Пояснение': 'Оцените, как часто Вы направляете ребенка в соответствии с указанным Вами вариантом', 'Ключ': 'PQ404-19', 'Ответы': {'Никогда не направляю': 1, 'Достаточно редко направляю': 2, 'Достаточно часто направляю': 3, 'Постоянно направляю': 4}}, {'Вопрос': 'V.1 Для проведения Вашей работы у Вас есть', 'Ключ': '501', 'Ответы': {'1. Отдельный кабинет': 1, '2. Рабочее место в кабинете с другими специалистами': 2, '3. Постоянное рабочее место отсутствует': 3, '4. Другое (укажите)': 4}}, {'Пояснение': 'Укажите, свой вариант, если в списке выше нет подходящего', 'Ключ': 'PQ501-Other'}, {'Вопрос': 'V.2 Укажите, какими методическими средствами Вы располагаете', 'Ответы': {'Не имею ничего': 1, 'Отдельные методики': 2, 'Пакет (комплексный набор методик)': 3}, 'Подвопросы': [{'Подвопрос': 'Диагностические методики', 'Ключ': 'PQ502-01'}, {'Подвопрос': 'Развивающие методики', 'Ключ': 'PQ502-02'}, {'Подвопрос': 'Коррекционные методики', 'Ключ': 'PQ502-03'}, {'Подвопрос': 'Дидактические пособия', 'Ключ': 'PQ502-04'}, {'Подвопрос': 'Расходные материалы', 'Ключ': 'PQ502-05'}]}, {'Вопрос': 'V.3 Каким образом Вы получили в работу методики, которыми пользуетесь регулярно?', 'Пояснение': '1. Приобретено за свой счет', 'Ключ': 'PQ503-01', 'Ответы': {'Да': 1, 'Нет': 2}}, {'Вопрос': 'V.3 Каким образом Вы получили в работу методики, которыми пользуетесь регулярно?', 'Пояснение': '2. Приобретено за счет средств образовательного учреждения', 'Ключ': 'PQ503-02', 'Ответы': {'Да': 1, 'Нет': 2}}, {'Вопрос': 'V.3 Каким образом Вы получили в работу методики, которыми пользуетесь регулярно?', 'Пояснение': '3. Получили централизованно', 'Ключ': 'PQ503-03', 'Ответы': {'Да': 1, 'Нет': 2}}, {'Вопрос': 'V.3 Каким образом Вы получили в работу методики, которыми пользуетесь регулярно?', 'Пояснение': '4. Скачали из Интернета', 'Ключ': 'PQ503-04', 'Ответы': {'Да': 1, 'Нет': 2}}, {'Вопрос': 'V.3 Каким образом Вы получили в работу методики, которыми пользуетесь регулярно?', 'Пояснение': '5. Другое (укажите)', 'Ключ': 'PQ503-05', 'Ответы': {'Да': 1, 'Нет': 2}}, {'Пояснение': 'Уточните, как именно', 'Ключ': 'PQ503-Other'}, {'Вопрос': 'V.4 Какими техническими средствами оснащено Ваше рабочее место?', 'Пояснение': '1. Персональный компьютер', 'Ключ': 'PQ504-01', 'Ответы': {'Да': 1, 'Нет': 2}}, {'Вопрос': 'V.4 Какими техническими средствами оснащено Ваше рабочее место?', 'Пояснение': '2. Компьютеры / ноутбуки для работы со школьниками', 'Ключ': 'PQ504-02', 'Ответы': {'Да': 1, 'Нет': 2}}, {'Вопрос': 'V.4 Какими техническими средствами оснащено Ваше рабочее место?', 'Пояснение': '3. Многофункциональное устройство (печать, сканирование, копирование)', 'Ключ': 'PQ504-03', 'Ответы': {'Да': 1, 'Нет': 2}}, {'Вопрос': 'V.4 Какими техническими средствами оснащено Ваше рабочее место?', 'Пояснение': '4. Доступ в Интернет', 'Ключ': 'PQ504-04', 'Ответы': {'Да': 1, 'Нет': 2}}, {'Вопрос': 'V.4 Какими техническими средствами оснащено Ваше рабочее место?', 'Пояснение': '5. Аудио оборудование', 'Ключ': 'PQ504-05', 'Ответы': {'Да': 1, 'Нет': 2}}, {'Вопрос': 'V.4 Какими техническими средствами оснащено Ваше рабочее место?', 'Пояснение': '6. Видео оборудование', 'Ключ': 'PQ504-06', 'Ответы': {'Да': 1, 'Нет': 2}}, {'Вопрос': 'V.4 Какими техническими средствами оснащено Ваше рабочее место?', 'Пояснение': '7. Проектор', 'Ключ': 'PQ504-07', 'Ответы': {'Да': 1, 'Нет': 2}}, {'Вопрос': 'V.4 Какими техническими средствами оснащено Ваше рабочее место?', 'Пояснение': '8. Сенсорная панель', 'Ключ': 'PQ504-08', 'Ответы': {'Да': 1, 'Нет': 2}}, {'Вопрос': 'V.4 Какими техническими средствами оснащено Ваше рабочее место?', 'Пояснение': '9. Другое (укажите)', 'Ключ': 'PQ504-09', 'Ответы': {'Да': 1, 'Нет': 2}}, {'Пояснение': 'Уточните, какими именно', 'Ключ': 'PQ504-Other'}, {'Вопрос': 'V.5 Каким образом Вы обеспечиваетесь расходными материалами: бланками, бумагой, протоколами', 'Пояснение': '1. Централизованно', 'Ключ': 'PQ505-01', 'Ответы': {'Да': 1, 'Нет': 2}}, {'Вопрос': 'V.5 Каким образом Вы обеспечиваетесь расходными материалами: бланками, бумагой, протоколами', 'Пояснение': '2. За счет средств образовательного учреждения', 'Ключ': 'PQ505-02', 'Ответы': {'Да': 1, 'Нет': 2}}, {'Вопрос': 'V.5 Каким образом Вы обеспечиваетесь расходными материалами: бланками, бумагой, протоколами', 'Пояснение': '3. За счет помощи родителей', 'Ключ': 'PQ505-03', 'Ответы': {'Да': 1, 'Нет': 2}}, {'Вопрос': 'V.5 Каким образом Вы обеспечиваетесь расходными материалами: бланками, бумагой, протоколами', 'Пояснение': '4. За свой счет', 'Ключ': 'PQ505-04', 'Ответы': {'Да': 1, 'Нет': 2}}, {'Вопрос': 'V.5 Каким образом Вы обеспечиваетесь расходными материалами: бланками, бумагой, протоколами', 'Пояснение': '5. Не обеспечиваюсь вообще', 'Ключ': 'PQ505-05', 'Ответы': {'Да': 1, 'Нет': 2}}, {'Вопрос': 'V.5 Каким образом Вы обеспечиваетесь расходными материалами: бланками, бумагой, протоколами', 'Пояснение': '6. Другое (укажите)', 'Ключ': 'PQ505-06', 'Ответы': {'Да': 1, 'Нет': 2}}, {'Пояснение': 'Уточните, каким именно', 'Ключ': 'PQ505-Other'}, {'Вопрос': 'V.6 Чем, по Вашему мнению, обязательно должно быть оснащено рабочее место психолога-педагога?', 'Пояснение': '1. Персональный компьютер', 'Ключ': 'PQ506-01', 'Ответы': {'Да': 1, 'Нет': 2}}, {'Вопрос': 'V.6 Чем, по Вашему мнению, обязательно должно быть оснащено рабочее место психолога-педагога?', 'Пояснение': '2. Компьютеры / ноутбуки для работы со школьниками', 'Ключ': 'PQ506-02', 'Ответы': {'Да': 1, 'Нет': 2}}, {'Вопрос': 'V.6 Чем, по Вашему мнению, обязательно должно быть оснащено рабочее место психолога-педагога?', 'Пояснение': '3. Многофункциональное устройство (печать, сканирование, копирование)', 'Ключ': 'PQ506-03', 'Ответы': {'Да': 1, 'Нет': 2}}, {'Вопрос': 'V.6 Чем, по Вашему мнению, обязательно должно быть оснащено рабочее место психолога-педагога?', 'Пояснение': '4. Доступ в Интернет', 'Ключ': 'PQ506-04', 'Ответы': {'Да': 1, 'Нет': 2}}, {'Вопрос': 'V.6 Чем, по Вашему мнению, обязательно должно быть оснащено рабочее место психолога-педагога?', 'Пояснение': '5. Аудио оборудование', 'Ключ': 'PQ506-05', 'Ответы': {'Да': 1, 'Нет': 2}}, {'Вопрос': 'V.6 Чем, по Вашему мнению, обязательно должно быть оснащено рабочее место психолога-педагога?', 'Пояснение': '6. Видео оборудование', 'Ключ': 'PQ506-06', 'Ответы': {'Да': 1, 'Нет': 2}}, {'Вопрос': 'V.6 Чем, по Вашему мнению, обязательно должно быть оснащено рабочее место психолога-педагога?', 'Пояснение': '7. Проектор', 'Ключ': 'PQ506-07', 'Ответы': {'Да': 1, 'Нет': 2}}, {'Вопрос': 'V.6 Чем, по Вашему мнению, обязательно должно быть оснащено рабочее место психолога-педагога?', 'Пояснение': '8. Сенсорная панель', 'Ключ': 'PQ506-08', 'Ответы': {'Да': 1, 'Нет': 2}}, {'Вопрос': 'V.6 Чем, по Вашему мнению, обязательно должно быть оснащено рабочее место психолога-педагога?', 'Пояснение': '9. Набор диагностических методик', 'Ключ': 'PQ506-09', 'Ответы': {'Да': 1, 'Нет': 2}}, {'Вопрос': 'V.6 Чем, по Вашему мнению, обязательно должно быть оснащено рабочее место психолога-педагога?', 'Пояснение': '10. Набор коррекционных методик', 'Ключ': 'PQ506-10', 'Ответы': {'Да': 1, 'Нет': 2}}, {'Вопрос': 'V.6 Чем, по Вашему мнению, обязательно должно быть оснащено рабочее место психолога-педагога?', 'Пояснение': '11. Набор развивающих методик', 'Ключ': 'PQ506-11', 'Ответы': {'Да': 1, 'Нет': 2}}, {'Вопрос': 'V.6 Чем, по Вашему мнению, обязательно должно быть оснащено рабочее место психолога-педагога?', 'Пояснение': '12. Расходные материалы для работы с обучающимися', 'Ключ': 'PQ506-12', 'Ответы': {'Да': 1, 'Нет': 2}}, {'Вопрос': 'V.6 Чем, по Вашему мнению, обязательно должно быть оснащено рабочее место психолога-педагога?', 'Пояснение': '13. Другое (укажите)', 'Ключ': 'PQ506-13', 'Ответы': {'Да': 1, 'Нет': 2}}, {'Пояснение': 'Уточните, чем именно', 'Ключ': 'PQ506-Other'}, {'Вопрос': 'VI.1 Пол', 'Ключ': 'PQ601', 'Ответы': {'Мужской': 'M', 'Женский': 'F'}}, {'Вопрос': 'VI.2 Укажите Ваш возраст', 'Ключ': 'PQ602', 'Диапазон': True, 'Ответы': {'до 20 лет': 1, '21-25 лет': 2, '26-30 лет': 3, '31-40 лет': 4, '41-45 лет': 5, '46-50 лет': 6, '51-55 лет': 7, '56-60 лет': 8, '61-65 лет': 9, '66-70 лет': 10, '71-78 лет': 11}, 'Дополнения': {'Нет ответа': 12, 'Средний возраст': 13, 'Стандартное отклонение (лет)': 14}}, {'Вопрос': 'VI.4 Какое базовое / первое высшее образование у Вас имеется?', 'Ключ': 'PQ604-major', 'Ответы': {'1. высшее психологическое образование': 1, '2. высшее педагогическое образование': 2, '3. высшее психолого-педагогическое образование': 3, '4. высшее гуманитарное образование': 4, '5. высшее техническое образование': 5, '6. не имею высшего образования': 6}}, {'Пояснение': 'Уровень высшего образования', 'Ключ': 'PQ604-degree', 'Ответы': {'1. бакалавр': 1, '2. магистр': 2, '3. специалист': 3, '4. не имею высшего образования': 4}}, {'Вопрос': 'VI.5 Если у Вас есть второе высшее образование, то укажите, какое', 'Ключ': 'PQ605-major', 'Ответы': {'1. высшее психологическое образование': 1, '2. высшее педагогическое образование': 2, '3. высшее психолого-педагогическое образование': 3, '4. высшее гуманитарное образование': 4, '5. высшее техническое образование': 5, '6. не имею второго высшего образования': 6}}, {'Пояснение': 'Уровень второго высшего образования', 'Ключ': 'PQ605-degree', 'Ответы': {'1. бакалавр': 1, '2. магистр': 2, '3. специалист': 3, '4. не имею второго высшего образования': 4}}, {'Вопрос': 'VI.6 Имеете ли Вы ученую степень', 'Ключ': 'PQ606', 'Ответы': {'1. кандидат психологических наук': 1, '2. кандидат педагогических наук': 2, '3. кандидат медицинских наук': 3, '4. доктор психологических наук': 4, '5. доктор педагогических наук': 5, '6. доктор медицинских наук': 6, '7. не имею степени': 7, '8. Другое (укажите)': 8}}, {'Пояснение': 'Уточните, какая именно', 'Ключ': 'PQ606-Other'}, {'Вопрос': 'VI.7 Посещали ли Вы курсы повышения квалификации за последние 5 лет', 'Ключ': 'PQ607', 'Ответы': {'1. Да, очные': 1, '2. Да, дистанционные': 2, '3. Нет, не посещал(а)': 3, '4. Другое (укажите)': 4}}, {'Пояснение': 'Уточните, какие именно', 'Ключ': 'PQ607-Other'}, {'Вопрос': 'VI.8 Квалификационная категория', 'Ключ': 'PQ608', 'Ответы': {'1. Высшая': 1, '2. Первая категория': 2, '3. Без категории': 3}}, {'Пояснение': 'Стаж работы психологом (полных лет)', 'Ключ': 'PQ609-01', 'Диапазон': True, 'Ответы': {'0-3': 1, '4-6': 2, '6-9': 3, '10-12': 4, '13-15': 5, '16-18': 6, '19-21': 7, '21-24': 8, '25-50': 9}, 'Дополнения': {'Нет ответа': 10}}, {'Пояснение': 'Стаж работы педагогом (полных лет)', 'Ключ': 'PQ609-02', 'Диапазон': True, 'Ответы': {'0-3': 1, '4-6': 2, '6-9': 3, '10-12': 4, '13-15': 5, '16-18': 6, '19-21': 7, '21-24': 8, '25-50': 9}, 'Дополнения': {'Нет ответа': 10}}, {'Вопрос': 'VI.10 Вы работаете в данном образовательном учреждении', 'Ключ': 'PQ610', 'Ответы': {'1. на полную ставку': 1, '2. по совместительству': 2}}, {'Вопрос': 'VI.11 Сколько часов в неделю Вы присутствуете в образовательном учреждении?', 'Ключ': 'PQ611', 'Диапазон': True, 'Ответы': {'0-4': 1, '5-9': 2, '10-14': 3, '15-19': 4, '20-24': 5, '25-29': 6, '30-34': 7, '35-39': 8, '40-44': 9, '45-49': 10, '50-54': 11, '55-59': 12, '60-64': 13, '65-69': 14, '70-74': 15, '75-79': 16, '80-84': 17, '85-89': 18, '90-94': 19, '95-100': 20}, 'Дополнения': {'Нет ответа': 21}}, {'Вопрос': 'VI.12 Занимаетесь ли Вы частной психологической практикой?', 'Ключ': 'PQ612', 'Ответы': {'1. Практически никогда': 1, '2. Достаточно редко': 2, '3. Достаточно часто': 3, '4. Практически все свободное от работы время': 4}}, {'Вопрос': 'VI.13 Считаете ли Вы свою работу в должности педагога-психолога общеобразовательной школы', 'Ключ': 'PQ613', 'Ответы': {'1. Абсолютно не престижной': 1, '2. Скорее не престижной': 2, '3. Трудно сказать': 3, '4. Скорее престижной': 4, '5. Высоко престижной': 5}}, {'Вопрос': 'VI.14 Укажите Ваши пожелания по развитию психологической службы в системе образования Вашего субъекта', 'Ключ': 'PQ614'}]\n",
            "Отчитывание PQ304-Other 1208\n",
            "PQ304-Other {'Вопрос': '5. Другое (укажите)', 'Ключ': 'PQ304-5', 'Ответы': {'не отчитываюсь': 1, 'реже, чем 1 раз в год': 2, '1 раз в год': 3, '1 раз в полгода': 4, '1 раз в квартал': 5, '1 раз в месяц': 6, '1 раз в неделю': 7, 'ежедневно': 8}}\n",
            "{'Вопрос': 'VI.14 Укажите Ваши пожелания по развитию психологической службы в системе образования Вашего субъекта', 'Ключ': 'PQ614'}\n",
            "[4, 2, 8, 3, 11, 6, 9, 20, 5]\n"
          ],
          "name": "stdout"
        }
      ]
    },
    {
      "cell_type": "code",
      "metadata": {
        "id": "BaqWw5E_c8qV",
        "colab_type": "code",
        "colab": {}
      },
      "source": [
        ""
      ],
      "execution_count": 0,
      "outputs": []
    },
    {
      "cell_type": "code",
      "metadata": {
        "id": "3INcIakSUOYV",
        "colab_type": "code",
        "outputId": "e072590d-19e3-4e5c-c3ca-dc60f4f5726d",
        "colab": {
          "base_uri": "https://localhost:8080/",
          "height": 159
        }
      },
      "source": [
        "ls"
      ],
      "execution_count": 18,
      "outputs": [
        {
          "output_type": "stream",
          "text": [
            " all_text.txt                   directors_is_cities_reg.csv\n",
            " completed-psy.csv              psychologists.csv\n",
            " dictionary-directors.yml       psyho_is_cities.csv\n",
            " dictionary-psychologists.yml   psyho_is_cities_reg.csv\n",
            " dictionary-psy.yml             template.xls\n",
            " directors_.csv                 \u001b[0m\u001b[01;34mword_cloud\u001b[0m/\n",
            " directors_is_cities            \u001b[01;34mword_cloud16854\u001b[0m/\n",
            " directors_is_cities.csv       'сравнение ЛО и РФ.xls'\n"
          ],
          "name": "stdout"
        }
      ]
    },
    {
      "cell_type": "code",
      "metadata": {
        "id": "akAEmwqBkzCO",
        "colab_type": "code",
        "outputId": "8521a198-0952-4beb-8923-d20f1e1f31f4",
        "colab": {
          "base_uri": "https://localhost:8080/",
          "height": 35
        }
      },
      "source": [
        "%clear"
      ],
      "execution_count": 19,
      "outputs": [
        {
          "output_type": "stream",
          "text": [
            "\u001b[H\u001b[2J"
          ],
          "name": "stdout"
        }
      ]
    },
    {
      "cell_type": "code",
      "metadata": {
        "id": "zDFYWs9BxXg4",
        "colab_type": "code",
        "colab": {}
      },
      "source": [
        "#  Пояснение: \"Оцените затраты своего времени на работу в рамках описанного Вами вида деятельности\"\n",
        "#     Ключ: \"PQ101-17\"\n",
        "#  Пояснение: \"Введите иную причину, если её нет в списке выше\"\n",
        "  #   Ключ: \"PQ105-Other\"\n",
        "  # -\n",
        "  #   Пояснение: \"Оцените, насколько значима указанная Вами причина\"\n",
        "  #   Ключ: \"PQ105-07\""
      ],
      "execution_count": 0,
      "outputs": []
    },
    {
      "cell_type": "code",
      "metadata": {
        "id": "t98Iz-HbeTUj",
        "colab_type": "code",
        "outputId": "3553e041-e316-40e0-b75f-3a95cdbc7c15",
        "colab": {
          "base_uri": "https://localhost:8080/",
          "height": 542
        }
      },
      "source": [
        "import plotly.graph_objects as go\n",
        "count_text_name = sorted(count_text_name, key=lambda tup: tup[1])\n",
        "x = [i[2] for i in count_text_name ]\n",
        "y = [i[1] for i in count_text_name]\n",
        "# Use the hovertext kw argument for hover text\n",
        "fig = go.Figure(data=[go.Bar(x=x, y=y,\n",
        "            hovertext=[i[0] for i in count_text_name])])\n",
        "# Customize aspect\n",
        "fig.update_traces(marker_color='rgb(158,202,225)', marker_line_color='rgb(8,48,107)',\n",
        "                  marker_line_width=1.5, opacity=0.9, textposition='auto')\n",
        "fig.update_layout(title_text='Количество отвеченных вопросов')\n",
        "fig.show()"
      ],
      "execution_count": 21,
      "outputs": [
        {
          "output_type": "display_data",
          "data": {
            "text/html": [
              "<html>\n",
              "<head><meta charset=\"utf-8\" /></head>\n",
              "<body>\n",
              "    <div>\n",
              "            <script src=\"https://cdnjs.cloudflare.com/ajax/libs/mathjax/2.7.5/MathJax.js?config=TeX-AMS-MML_SVG\"></script><script type=\"text/javascript\">if (window.MathJax) {MathJax.Hub.Config({SVG: {font: \"STIX-Web\"}});}</script>\n",
              "                <script type=\"text/javascript\">window.PlotlyConfig = {MathJaxConfig: 'local'};</script>\n",
              "        <script src=\"https://cdn.plot.ly/plotly-latest.min.js\"></script>    \n",
              "            <div id=\"82b5587c-9158-4c85-b70f-1fd499e34645\" class=\"plotly-graph-div\" style=\"height:525px; width:100%;\"></div>\n",
              "            <script type=\"text/javascript\">\n",
              "                \n",
              "                    window.PLOTLYENV=window.PLOTLYENV || {};\n",
              "                    \n",
              "                if (document.getElementById(\"82b5587c-9158-4c85-b70f-1fd499e34645\")) {\n",
              "                    Plotly.newPlot(\n",
              "                        '82b5587c-9158-4c85-b70f-1fd499e34645',\n",
              "                        [{\"hovertext\": [\"I.8 \\u041d\\u0430\\u0441\\u043a\\u043e\\u043b\\u044c\\u043a\\u043e \\u0447\\u0430\\u0441\\u0442\\u043e \\u0432 \\u0441\\u0432\\u043e\\u0435\\u0439 \\u0440\\u0430\\u0431\\u043e\\u0442\\u0435 \\u0412\\u044b \\u0441\\u0442\\u0430\\u043b\\u043a\\u0438\\u0432\\u0430\\u0435\\u0442\\u0435\\u0441\\u044c \\u0441\\u043e \\u0441\\u043b\\u043e\\u0436\\u043d\\u044b\\u043c\\u0438 \\u0441\\u0438\\u0442\\u0443\\u0430\\u0446\\u0438\\u044f\\u043c\\u0438, \\u043f\\u0435\\u0440\\u0435\\u0447\\u0438\\u0441\\u043b\\u0435\\u043d\\u043d\\u044b\\u043c\\u0438 \\u043d\\u0438\\u0436\\u0435\", \"VI.6 \\u0418\\u043c\\u0435\\u0435\\u0442\\u0435 \\u043b\\u0438 \\u0412\\u044b \\u0443\\u0447\\u0435\\u043d\\u0443\\u044e \\u0441\\u0442\\u0435\\u043f\\u0435\\u043d\\u044c\", \"I.4 \\u041a\\u0430\\u043a \\u0447\\u0430\\u0441\\u0442\\u043e \\u043f\\u0440\\u0438 \\u0440\\u0435\\u0448\\u0435\\u043d\\u0438\\u0438 \\u043f\\u0440\\u043e\\u0431\\u043b\\u0435\\u043c \\u0440\\u0435\\u0431\\u0435\\u043d\\u043a\\u0430 \\u0412\\u044b \\u0432\\u0437\\u0430\\u0438\\u043c\\u043e\\u0434\\u0435\\u0439\\u0441\\u0442\\u0432\\u0443\\u0435\\u0442\\u0435 \\u0441\\u043e \\u0441\\u043f\\u0435\\u0446\\u0438\\u0430\\u043b\\u0438\\u0441\\u0442\\u0430\\u043c\\u0438 \\u0441\\u043b\\u0435\\u0434\\u0443\\u044e\\u0449\\u0438\\u0445 \\u0443\\u0447\\u0440\\u0435\\u0436\\u0434\\u0435\\u043d\\u0438\\u0439?\", \"I.5 \\u0423\\u043a\\u0430\\u0436\\u0438\\u0442\\u0435 \\u043e\\u0441\\u043d\\u043e\\u0432\\u043d\\u044b\\u0435 \\u043f\\u0440\\u0438\\u0447\\u0438\\u043d\\u044b, \\u043a\\u043e\\u0442\\u043e\\u0440\\u044b\\u0435, \\u0441 \\u0412\\u0430\\u0448\\u0435\\u0439 \\u0442\\u043e\\u0447\\u043a\\u0438 \\u0437\\u0440\\u0435\\u043d\\u0438\\u044f, \\u043c\\u0435\\u0448\\u0430\\u044e\\u0442 \\u043a\\u043e\\u043d\\u0441\\u0442\\u0440\\u0443\\u043a\\u0442\\u0438\\u0432\\u043d\\u043e\\u043c\\u0443 \\u0441\\u043e\\u0442\\u0440\\u0443\\u0434\\u043d\\u0438\\u0447\\u0435\\u0441\\u0442\\u0432\\u0443 \\u0441 \\u0434\\u0440\\u0443\\u0433\\u0438\\u043c\\u0438 \\u0443\\u0447\\u0430\\u0441\\u0442\\u043d\\u0438\\u043a\\u0430\\u043c\\u0438 \\u043e\\u0431\\u0440\\u0430\\u0437\\u043e\\u0432\\u0430\\u0442\\u0435\\u043b\\u044c\\u043d\\u043e\\u0433\\u043e \\u043f\\u0440\\u043e\\u0446\\u0435\\u0441\\u0441\\u0430 \\u0438 \\u0441\\u043f\\u0435\\u0446\\u0438\\u0430\\u043b\\u0438\\u0441\\u0442\\u0430\\u043c\\u0438\", \"V.5 \\u041a\\u0430\\u043a\\u0438\\u043c \\u043e\\u0431\\u0440\\u0430\\u0437\\u043e\\u043c \\u0412\\u044b \\u043e\\u0431\\u0435\\u0441\\u043f\\u0435\\u0447\\u0438\\u0432\\u0430\\u0435\\u0442\\u0435\\u0441\\u044c \\u0440\\u0430\\u0441\\u0445\\u043e\\u0434\\u043d\\u044b\\u043c\\u0438 \\u043c\\u0430\\u0442\\u0435\\u0440\\u0438\\u0430\\u043b\\u0430\\u043c\\u0438: \\u0431\\u043b\\u0430\\u043d\\u043a\\u0430\\u043c\\u0438, \\u0431\\u0443\\u043c\\u0430\\u0433\\u043e\\u0439, \\u043f\\u0440\\u043e\\u0442\\u043e\\u043a\\u043e\\u043b\\u0430\\u043c\\u0438\", \"IV.4 \\u041a\\u0443\\u0434\\u0430 \\u0412\\u044b \\u043d\\u0430\\u043f\\u0440\\u0430\\u0432\\u043b\\u044f\\u0435\\u0442\\u0435 \\u0440\\u0435\\u0431\\u0435\\u043d\\u043a\\u0430, \\u0435\\u0441\\u043b\\u0438 \\u0412\\u044b \\u043d\\u0435 \\u0438\\u043c\\u0435\\u0435\\u0442\\u0435 \\u0432\\u043e\\u0437\\u043c\\u043e\\u0436\\u043d\\u043e\\u0441\\u0442\\u0438 \\u0441\\u0430\\u043c\\u043e\\u0441\\u0442\\u043e\\u044f\\u0442\\u0435\\u043b\\u044c\\u043d\\u043e \\u043e\\u043a\\u0430\\u0437\\u0430\\u0442\\u044c \\u0435\\u043c\\u0443 \\u043f\\u043e\\u043c\\u043e\\u0449\\u044c?\", \"IV.2 \\u041a\\u0430\\u043a\\u0438\\u043c \\u043e\\u0431\\u0440\\u0430\\u0437\\u043e\\u043c \\u0440\\u0435\\u0431\\u0435\\u043d\\u043e\\u043a \\u043f\\u043e\\u043f\\u0430\\u0434\\u0430\\u0435\\u0442 \\u043a \\u0412\\u0430\\u043c \\u043d\\u0430 \\u043f\\u0440\\u0438\\u0435\\u043c?\", \"I.3 \\u041e\\u0446\\u0435\\u043d\\u0438\\u0442\\u0435, \\u043a\\u0430\\u043a \\u0447\\u0430\\u0441\\u0442\\u043e \\u043a \\u0412\\u0430\\u043c \\u043e\\u0431\\u0440\\u0430\\u0449\\u0430\\u044e\\u0442\\u0441\\u044f \\u043f\\u043e \\u0441\\u043b\\u0435\\u0434\\u0443\\u044e\\u0449\\u0438\\u043c \\u043f\\u0440\\u0438\\u0447\\u0438\\u043d\\u0430\\u043c\", \"V.1 \\u0414\\u043b\\u044f \\u043f\\u0440\\u043e\\u0432\\u0435\\u0434\\u0435\\u043d\\u0438\\u044f \\u0412\\u0430\\u0448\\u0435\\u0439 \\u0440\\u0430\\u0431\\u043e\\u0442\\u044b \\u0443 \\u0412\\u0430\\u0441 \\u0435\\u0441\\u0442\\u044c\", \"I.9 \\u0427\\u0442\\u043e, \\u0441 \\u0412\\u0430\\u0448\\u0435\\u0439 \\u0442\\u043e\\u0447\\u043a\\u0438 \\u0437\\u0440\\u0435\\u043d\\u0438\\u044f, \\u043c\\u043e\\u0433\\u043b\\u043e \\u0431\\u044b \\u043f\\u043e\\u0432\\u044b\\u0441\\u0438\\u0442\\u044c \\u044d\\u0444\\u0444\\u0435\\u043a\\u0442\\u0438\\u0432\\u043d\\u043e\\u0441\\u0442\\u044c \\u043f\\u0440\\u043e\\u0444\\u0435\\u0441\\u0441\\u0438\\u043e\\u043d\\u0430\\u043b\\u044c\\u043d\\u043e\\u0439 \\u0434\\u0435\\u044f\\u0442\\u0435\\u043b\\u044c\\u043d\\u043e\\u0441\\u0442\\u0438 \\u0448\\u043a\\u043e\\u043b\\u044c\\u043d\\u044b\\u0445 \\u043f\\u0441\\u0438\\u0445\\u043e\\u043b\\u043e\\u0433\\u043e\\u0432?\", \"IV.1 \\u041a\\u0430\\u043a\\u0438\\u0435 \\u0441\\u0440\\u0435\\u0434\\u0441\\u0442\\u0432\\u0430 \\u0412\\u044b \\u0438\\u0441\\u043f\\u043e\\u043b\\u044c\\u0437\\u0443\\u0435\\u0442\\u0435 \\u0434\\u043b\\u044f \\u043e\\u0446\\u0435\\u043d\\u043a\\u0438 \\u043a\\u0430\\u0447\\u0435\\u0441\\u0442\\u0432\\u0430 \\u0438 \\u044d\\u0444\\u0444\\u0435\\u043a\\u0442\\u0438\\u0432\\u043d\\u043e\\u0441\\u0442\\u0438 \\u0441\\u0432\\u043e\\u0435\\u0439 \\u0434\\u0435\\u044f\\u0442\\u0435\\u043b\\u044c\\u043d\\u043e\\u0441\\u0442\\u0438?\", \"III.2  \\u041a\\u0442\\u043e \\u0441\\u0442\\u0430\\u0432\\u0438\\u0442 \\u0412\\u0430\\u043c \\u0441\\u043e\\u0434\\u0435\\u0440\\u0436\\u0430\\u0442\\u0435\\u043b\\u044c\\u043d\\u044b\\u0435 \\u0437\\u0430\\u0434\\u0430\\u0447\\u0438, \\u043d\\u0435\\u043f\\u043e\\u0441\\u0440\\u0435\\u0434\\u0441\\u0442\\u0432\\u0435\\u043d\\u043d\\u043e \\u0441\\u0432\\u044f\\u0437\\u0430\\u043d\\u043d\\u044b\\u0435 \\u0441 \\u0412\\u0430\\u0448\\u0435\\u0439 \\u043f\\u0440\\u043e\\u0444\\u0435\\u0441\\u0441\\u0438\\u043e\\u043d\\u0430\\u043b\\u044c\\u043d\\u043e\\u0439 \\u0434\\u0435\\u044f\\u0442\\u0435\\u043b\\u044c\\u043d\\u043e\\u0441\\u0442\\u044c\\u044e?\", \"III.1  \\u041a\\u0442\\u043e \\u043e\\u0441\\u0443\\u0449\\u0435\\u0441\\u0442\\u0432\\u043b\\u044f\\u0435\\u0442 \\u043a\\u043e\\u043d\\u0442\\u0440\\u043e\\u043b\\u044c \\u0437\\u0430 \\u0412\\u0430\\u0448\\u0435\\u0439 \\u043f\\u0440\\u043e\\u0444\\u0435\\u0441\\u0441\\u0438\\u043e\\u043d\\u0430\\u043b\\u044c\\u043d\\u043e\\u0439 \\u0434\\u0435\\u044f\\u0442\\u0435\\u043b\\u044c\\u043d\\u043e\\u0441\\u0442\\u044c\\u044e?\", \"I.2 \\u041e\\u0446\\u0435\\u043d\\u0438\\u0442\\u0435 \\u0437\\u0430\\u0442\\u0440\\u0430\\u0442\\u044b \\u0441\\u0432\\u043e\\u0435\\u0433\\u043e \\u0432\\u0440\\u0435\\u043c\\u0435\\u043d\\u0438 \\u043d\\u0430 \\u0440\\u0430\\u0431\\u043e\\u0442\\u0443 \\u0441 \\u0440\\u0430\\u0437\\u043b\\u0438\\u0447\\u043d\\u044b\\u043c\\u0438 \\u043a\\u0430\\u0442\\u0435\\u0433\\u043e\\u0440\\u0438\\u044f\\u043c\\u0438 \\u043b\\u0438\\u0446\", \"V.4 \\u041a\\u0430\\u043a\\u0438\\u043c\\u0438 \\u0442\\u0435\\u0445\\u043d\\u0438\\u0447\\u0435\\u0441\\u043a\\u0438\\u043c\\u0438 \\u0441\\u0440\\u0435\\u0434\\u0441\\u0442\\u0432\\u0430\\u043c\\u0438 \\u043e\\u0441\\u043d\\u0430\\u0449\\u0435\\u043d\\u043e \\u0412\\u0430\\u0448\\u0435 \\u0440\\u0430\\u0431\\u043e\\u0447\\u0435\\u0435 \\u043c\\u0435\\u0441\\u0442\\u043e?\", \"IV.3 \\u041a\\u0430\\u043a\\u0438\\u043c \\u043e\\u0431\\u0440\\u0430\\u0437\\u043e\\u043c \\u0412\\u0430\\u043c\\u0438 \\u043e\\u0440\\u0433\\u0430\\u043d\\u0438\\u0437\\u0443\\u0435\\u0442\\u0441\\u044f \\u0440\\u0430\\u0431\\u043e\\u0442\\u0430 \\u0441 \\u043e\\u0431\\u0443\\u0447\\u0430\\u044e\\u0449\\u0438\\u043c\\u0438\\u0441\\u044f?\", \"\\u041e\\u0442\\u0447\\u0438\\u0442\\u044b\\u0432\\u0430\\u043d\\u0438\\u0435\", \"I.7 \\u0415\\u0441\\u043b\\u0438 \\u0442\\u0430\\u043a\\u0438\\u0435 \\u043e\\u0431\\u044f\\u0437\\u0430\\u043d\\u043d\\u043e\\u0441\\u0442\\u0438 \\u0438\\u043c\\u0435\\u044e\\u0442\\u0441\\u044f, \\u0442\\u043e \\u0432 \\u043a\\u0430\\u043a\\u043e\\u0439 \\u0441\\u0442\\u0435\\u043f\\u0435\\u043d\\u0438 \\u043e\\u043d\\u0438 \\u043e\\u0433\\u0440\\u0430\\u043d\\u0438\\u0447\\u0438\\u0432\\u0430\\u044e\\u0442 \\u0432\\u0430\\u0448\\u0443 \\u0434\\u0435\\u044f\\u0442\\u0435\\u043b\\u044c\\u043d\\u043e\\u0441\\u0442\\u044c \\u043a\\u0430\\u043a \\u043f\\u0441\\u0438\\u0445\\u043e\\u043b\\u043e\\u0433\\u0430?\", \"I.1 \\u041e\\u0446\\u0435\\u043d\\u0438\\u0442\\u0435 \\u0437\\u0430\\u0442\\u0440\\u0430\\u0442\\u044b \\u0441\\u0432\\u043e\\u0435\\u0433\\u043e \\u0432\\u0440\\u0435\\u043c\\u0435\\u043d\\u0438 \\u043d\\u0430 \\u0440\\u0430\\u0431\\u043e\\u0442\\u0443 \\u0432 \\u0440\\u0430\\u043c\\u043a\\u0430\\u0445 \\u043a\\u0430\\u0436\\u0434\\u043e\\u0433\\u043e \\u0438\\u0437 \\u043d\\u0438\\u0436\\u0435\\u043f\\u0435\\u0440\\u0435\\u0447\\u0438\\u0441\\u043b\\u0435\\u043d\\u043d\\u044b\\u0445 \\u0432\\u0438\\u0434\\u043e\\u0432 \\u0434\\u0435\\u044f\\u0442\\u0435\\u043b\\u044c\\u043d\\u043e\\u0441\\u0442\\u0438\", \"V.3 \\u041a\\u0430\\u043a\\u0438\\u043c \\u043e\\u0431\\u0440\\u0430\\u0437\\u043e\\u043c \\u0412\\u044b \\u043f\\u043e\\u043b\\u0443\\u0447\\u0438\\u043b\\u0438 \\u0432 \\u0440\\u0430\\u0431\\u043e\\u0442\\u0443 \\u043c\\u0435\\u0442\\u043e\\u0434\\u0438\\u043a\\u0438, \\u043a\\u043e\\u0442\\u043e\\u0440\\u044b\\u043c\\u0438 \\u043f\\u043e\\u043b\\u044c\\u0437\\u0443\\u0435\\u0442\\u0435\\u0441\\u044c \\u0440\\u0435\\u0433\\u0443\\u043b\\u044f\\u0440\\u043d\\u043e?\", \"VI.7 \\u041f\\u043e\\u0441\\u0435\\u0449\\u0430\\u043b\\u0438 \\u043b\\u0438 \\u0412\\u044b \\u043a\\u0443\\u0440\\u0441\\u044b \\u043f\\u043e\\u0432\\u044b\\u0448\\u0435\\u043d\\u0438\\u044f \\u043a\\u0432\\u0430\\u043b\\u0438\\u0444\\u0438\\u043a\\u0430\\u0446\\u0438\\u0438 \\u0437\\u0430 \\u043f\\u043e\\u0441\\u043b\\u0435\\u0434\\u043d\\u0438\\u0435 5 \\u043b\\u0435\\u0442\", \"V.6 \\u0427\\u0435\\u043c, \\u043f\\u043e \\u0412\\u0430\\u0448\\u0435\\u043c\\u0443 \\u043c\\u043d\\u0435\\u043d\\u0438\\u044e, \\u043e\\u0431\\u044f\\u0437\\u0430\\u0442\\u0435\\u043b\\u044c\\u043d\\u043e \\u0434\\u043e\\u043b\\u0436\\u043d\\u043e \\u0431\\u044b\\u0442\\u044c \\u043e\\u0441\\u043d\\u0430\\u0449\\u0435\\u043d\\u043e \\u0440\\u0430\\u0431\\u043e\\u0447\\u0435\\u0435 \\u043c\\u0435\\u0441\\u0442\\u043e \\u043f\\u0441\\u0438\\u0445\\u043e\\u043b\\u043e\\u0433\\u0430-\\u043f\\u0435\\u0434\\u0430\\u0433\\u043e\\u0433\\u0430?\", \"I.6 \\u0415\\u0441\\u0442\\u044c \\u043b\\u0438 \\u0443 \\u0412\\u0430\\u0441 \\u0435\\u0449\\u0435 \\u043a\\u0430\\u043a\\u0438\\u0435-\\u043b\\u0438\\u0431\\u043e \\u043e\\u0431\\u044f\\u0437\\u0430\\u043d\\u043d\\u043e\\u0441\\u0442\\u0438 \\u0432 \\u0448\\u043a\\u043e\\u043b\\u0435, \\u043f\\u0440\\u044f\\u043c\\u043e \\u043d\\u0435 \\u043e\\u0442\\u043d\\u043e\\u0441\\u044f\\u0449\\u0438\\u0435\\u0441\\u044f \\u043a \\u0412\\u0430\\u0448\\u0435\\u0439 \\u043f\\u0441\\u0438\\u0445\\u043e\\u043b\\u043e\\u0433\\u0438\\u0447\\u0435\\u0441\\u043a\\u043e\\u0439 \\u0434\\u0435\\u044f\\u0442\\u0435\\u043b\\u044c\\u043d\\u043e\\u0441\\u0442\\u0438?\", \"III.3  \\u041a\\u0430\\u043a\\u0443\\u044e \\u043f\\u0441\\u0438\\u0445\\u043e\\u043b\\u043e\\u0433\\u0438\\u0447\\u0435\\u0441\\u043a\\u0443\\u044e \\u0434\\u043e\\u043a\\u0443\\u043c\\u0435\\u043d\\u0442\\u0430\\u0446\\u0438\\u044e \\u0412\\u044b \\u0432\\u0435\\u0434\\u0435\\u0442\\u0435 \\u0432 \\u0443\\u0447\\u0440\\u0435\\u0436\\u0434\\u0435\\u043d\\u0438\\u0438?\", \"VI.14 \\u0423\\u043a\\u0430\\u0436\\u0438\\u0442\\u0435 \\u0412\\u0430\\u0448\\u0438 \\u043f\\u043e\\u0436\\u0435\\u043b\\u0430\\u043d\\u0438\\u044f \\u043f\\u043e \\u0440\\u0430\\u0437\\u0432\\u0438\\u0442\\u0438\\u044e \\u043f\\u0441\\u0438\\u0445\\u043e\\u043b\\u043e\\u0433\\u0438\\u0447\\u0435\\u0441\\u043a\\u043e\\u0439 \\u0441\\u043b\\u0443\\u0436\\u0431\\u044b \\u0432 \\u0441\\u0438\\u0441\\u0442\\u0435\\u043c\\u0435 \\u043e\\u0431\\u0440\\u0430\\u0437\\u043e\\u0432\\u0430\\u043d\\u0438\\u044f \\u0412\\u0430\\u0448\\u0435\\u0433\\u043e \\u0441\\u0443\\u0431\\u044a\\u0435\\u043a\\u0442\\u0430\"], \"marker\": {\"color\": \"rgb(158,202,225)\", \"line\": {\"color\": \"rgb(8,48,107)\", \"width\": 1.5}}, \"opacity\": 0.9, \"textposition\": \"auto\", \"type\": \"bar\", \"x\": [\"PQ108-Other\", \"PQ606-Other\", \"PQ104-Other\", \"PQ105-Other\", \"PQ505-Other\", \"PQ404-Other\", \"PQ402-Other\", \"PQ103-Other\", \"PQ501-Other\", \"PQ109-Other\", \"PQ401-Other\", \"PQ302-Other\", \"PQ301-Other\", \"PQ102-Other\", \"PQ504-Other\", \"PQ403-Other\", \"PQ304-Other\", \"PQ107-Other\", \"PQ101-Other\", \"PQ503-Other\", \"PQ607-Other\", \"PQ506-Other\", \"PQ106-Other\", \"PQ303-Other\", \"PQ614\"], \"y\": [269, 270, 279, 292, 308, 346, 394, 591, 608, 645, 827, 1016, 1043, 1126, 1151, 1192, 1208, 1459, 1533, 1555, 1613, 1872, 3694, 4202, 16796]}],\n",
              "                        {\"template\": {\"data\": {\"bar\": [{\"error_x\": {\"color\": \"#2a3f5f\"}, \"error_y\": {\"color\": \"#2a3f5f\"}, \"marker\": {\"line\": {\"color\": \"#E5ECF6\", \"width\": 0.5}}, \"type\": \"bar\"}], \"barpolar\": [{\"marker\": {\"line\": {\"color\": \"#E5ECF6\", \"width\": 0.5}}, \"type\": \"barpolar\"}], \"carpet\": [{\"aaxis\": {\"endlinecolor\": \"#2a3f5f\", \"gridcolor\": \"white\", \"linecolor\": \"white\", \"minorgridcolor\": \"white\", \"startlinecolor\": \"#2a3f5f\"}, \"baxis\": {\"endlinecolor\": \"#2a3f5f\", \"gridcolor\": \"white\", \"linecolor\": \"white\", \"minorgridcolor\": \"white\", \"startlinecolor\": \"#2a3f5f\"}, \"type\": \"carpet\"}], \"choropleth\": [{\"colorbar\": {\"outlinewidth\": 0, \"ticks\": \"\"}, \"type\": \"choropleth\"}], \"contour\": [{\"colorbar\": {\"outlinewidth\": 0, \"ticks\": \"\"}, \"colorscale\": [[0.0, \"#0d0887\"], [0.1111111111111111, \"#46039f\"], [0.2222222222222222, \"#7201a8\"], [0.3333333333333333, \"#9c179e\"], [0.4444444444444444, \"#bd3786\"], [0.5555555555555556, \"#d8576b\"], [0.6666666666666666, \"#ed7953\"], [0.7777777777777778, \"#fb9f3a\"], [0.8888888888888888, \"#fdca26\"], [1.0, \"#f0f921\"]], \"type\": \"contour\"}], \"contourcarpet\": [{\"colorbar\": {\"outlinewidth\": 0, \"ticks\": \"\"}, \"type\": \"contourcarpet\"}], \"heatmap\": [{\"colorbar\": {\"outlinewidth\": 0, \"ticks\": \"\"}, \"colorscale\": [[0.0, \"#0d0887\"], [0.1111111111111111, \"#46039f\"], [0.2222222222222222, \"#7201a8\"], [0.3333333333333333, \"#9c179e\"], [0.4444444444444444, \"#bd3786\"], [0.5555555555555556, \"#d8576b\"], [0.6666666666666666, \"#ed7953\"], [0.7777777777777778, \"#fb9f3a\"], [0.8888888888888888, \"#fdca26\"], [1.0, \"#f0f921\"]], \"type\": \"heatmap\"}], \"heatmapgl\": [{\"colorbar\": {\"outlinewidth\": 0, \"ticks\": \"\"}, \"colorscale\": [[0.0, \"#0d0887\"], [0.1111111111111111, \"#46039f\"], [0.2222222222222222, \"#7201a8\"], [0.3333333333333333, \"#9c179e\"], [0.4444444444444444, \"#bd3786\"], [0.5555555555555556, \"#d8576b\"], [0.6666666666666666, \"#ed7953\"], [0.7777777777777778, \"#fb9f3a\"], [0.8888888888888888, \"#fdca26\"], [1.0, \"#f0f921\"]], \"type\": \"heatmapgl\"}], \"histogram\": [{\"marker\": {\"colorbar\": {\"outlinewidth\": 0, \"ticks\": \"\"}}, \"type\": \"histogram\"}], \"histogram2d\": [{\"colorbar\": {\"outlinewidth\": 0, \"ticks\": \"\"}, \"colorscale\": [[0.0, \"#0d0887\"], [0.1111111111111111, \"#46039f\"], [0.2222222222222222, \"#7201a8\"], [0.3333333333333333, \"#9c179e\"], [0.4444444444444444, \"#bd3786\"], [0.5555555555555556, \"#d8576b\"], [0.6666666666666666, \"#ed7953\"], [0.7777777777777778, \"#fb9f3a\"], [0.8888888888888888, \"#fdca26\"], [1.0, \"#f0f921\"]], \"type\": \"histogram2d\"}], \"histogram2dcontour\": [{\"colorbar\": {\"outlinewidth\": 0, \"ticks\": \"\"}, \"colorscale\": [[0.0, \"#0d0887\"], [0.1111111111111111, \"#46039f\"], [0.2222222222222222, \"#7201a8\"], [0.3333333333333333, \"#9c179e\"], [0.4444444444444444, \"#bd3786\"], [0.5555555555555556, \"#d8576b\"], [0.6666666666666666, \"#ed7953\"], [0.7777777777777778, \"#fb9f3a\"], [0.8888888888888888, \"#fdca26\"], [1.0, \"#f0f921\"]], \"type\": \"histogram2dcontour\"}], \"mesh3d\": [{\"colorbar\": {\"outlinewidth\": 0, \"ticks\": \"\"}, \"type\": \"mesh3d\"}], \"parcoords\": [{\"line\": {\"colorbar\": {\"outlinewidth\": 0, \"ticks\": \"\"}}, \"type\": \"parcoords\"}], \"scatter\": [{\"marker\": {\"colorbar\": {\"outlinewidth\": 0, \"ticks\": \"\"}}, \"type\": \"scatter\"}], \"scatter3d\": [{\"line\": {\"colorbar\": {\"outlinewidth\": 0, \"ticks\": \"\"}}, \"marker\": {\"colorbar\": {\"outlinewidth\": 0, \"ticks\": \"\"}}, \"type\": \"scatter3d\"}], \"scattercarpet\": [{\"marker\": {\"colorbar\": {\"outlinewidth\": 0, \"ticks\": \"\"}}, \"type\": \"scattercarpet\"}], \"scattergeo\": [{\"marker\": {\"colorbar\": {\"outlinewidth\": 0, \"ticks\": \"\"}}, \"type\": \"scattergeo\"}], \"scattergl\": [{\"marker\": {\"colorbar\": {\"outlinewidth\": 0, \"ticks\": \"\"}}, \"type\": \"scattergl\"}], \"scattermapbox\": [{\"marker\": {\"colorbar\": {\"outlinewidth\": 0, \"ticks\": \"\"}}, \"type\": \"scattermapbox\"}], \"scatterpolar\": [{\"marker\": {\"colorbar\": {\"outlinewidth\": 0, \"ticks\": \"\"}}, \"type\": \"scatterpolar\"}], \"scatterpolargl\": [{\"marker\": {\"colorbar\": {\"outlinewidth\": 0, \"ticks\": \"\"}}, \"type\": \"scatterpolargl\"}], \"scatterternary\": [{\"marker\": {\"colorbar\": {\"outlinewidth\": 0, \"ticks\": \"\"}}, \"type\": \"scatterternary\"}], \"surface\": [{\"colorbar\": {\"outlinewidth\": 0, \"ticks\": \"\"}, \"colorscale\": [[0.0, \"#0d0887\"], [0.1111111111111111, \"#46039f\"], [0.2222222222222222, \"#7201a8\"], [0.3333333333333333, \"#9c179e\"], [0.4444444444444444, \"#bd3786\"], [0.5555555555555556, \"#d8576b\"], [0.6666666666666666, \"#ed7953\"], [0.7777777777777778, \"#fb9f3a\"], [0.8888888888888888, \"#fdca26\"], [1.0, \"#f0f921\"]], \"type\": \"surface\"}], \"table\": [{\"cells\": {\"fill\": {\"color\": \"#EBF0F8\"}, \"line\": {\"color\": \"white\"}}, \"header\": {\"fill\": {\"color\": \"#C8D4E3\"}, \"line\": {\"color\": \"white\"}}, \"type\": \"table\"}]}, \"layout\": {\"annotationdefaults\": {\"arrowcolor\": \"#2a3f5f\", \"arrowhead\": 0, \"arrowwidth\": 1}, \"colorscale\": {\"diverging\": [[0, \"#8e0152\"], [0.1, \"#c51b7d\"], [0.2, \"#de77ae\"], [0.3, \"#f1b6da\"], [0.4, \"#fde0ef\"], [0.5, \"#f7f7f7\"], [0.6, \"#e6f5d0\"], [0.7, \"#b8e186\"], [0.8, \"#7fbc41\"], [0.9, \"#4d9221\"], [1, \"#276419\"]], \"sequential\": [[0.0, \"#0d0887\"], [0.1111111111111111, \"#46039f\"], [0.2222222222222222, \"#7201a8\"], [0.3333333333333333, \"#9c179e\"], [0.4444444444444444, \"#bd3786\"], [0.5555555555555556, \"#d8576b\"], [0.6666666666666666, \"#ed7953\"], [0.7777777777777778, \"#fb9f3a\"], [0.8888888888888888, \"#fdca26\"], [1.0, \"#f0f921\"]], \"sequentialminus\": [[0.0, \"#0d0887\"], [0.1111111111111111, \"#46039f\"], [0.2222222222222222, \"#7201a8\"], [0.3333333333333333, \"#9c179e\"], [0.4444444444444444, \"#bd3786\"], [0.5555555555555556, \"#d8576b\"], [0.6666666666666666, \"#ed7953\"], [0.7777777777777778, \"#fb9f3a\"], [0.8888888888888888, \"#fdca26\"], [1.0, \"#f0f921\"]]}, \"colorway\": [\"#636efa\", \"#EF553B\", \"#00cc96\", \"#ab63fa\", \"#FFA15A\", \"#19d3f3\", \"#FF6692\", \"#B6E880\", \"#FF97FF\", \"#FECB52\"], \"font\": {\"color\": \"#2a3f5f\"}, \"geo\": {\"bgcolor\": \"white\", \"lakecolor\": \"white\", \"landcolor\": \"#E5ECF6\", \"showlakes\": true, \"showland\": true, \"subunitcolor\": \"white\"}, \"hoverlabel\": {\"align\": \"left\"}, \"hovermode\": \"closest\", \"mapbox\": {\"style\": \"light\"}, \"paper_bgcolor\": \"white\", \"plot_bgcolor\": \"#E5ECF6\", \"polar\": {\"angularaxis\": {\"gridcolor\": \"white\", \"linecolor\": \"white\", \"ticks\": \"\"}, \"bgcolor\": \"#E5ECF6\", \"radialaxis\": {\"gridcolor\": \"white\", \"linecolor\": \"white\", \"ticks\": \"\"}}, \"scene\": {\"xaxis\": {\"backgroundcolor\": \"#E5ECF6\", \"gridcolor\": \"white\", \"gridwidth\": 2, \"linecolor\": \"white\", \"showbackground\": true, \"ticks\": \"\", \"zerolinecolor\": \"white\"}, \"yaxis\": {\"backgroundcolor\": \"#E5ECF6\", \"gridcolor\": \"white\", \"gridwidth\": 2, \"linecolor\": \"white\", \"showbackground\": true, \"ticks\": \"\", \"zerolinecolor\": \"white\"}, \"zaxis\": {\"backgroundcolor\": \"#E5ECF6\", \"gridcolor\": \"white\", \"gridwidth\": 2, \"linecolor\": \"white\", \"showbackground\": true, \"ticks\": \"\", \"zerolinecolor\": \"white\"}}, \"shapedefaults\": {\"line\": {\"color\": \"#2a3f5f\"}}, \"ternary\": {\"aaxis\": {\"gridcolor\": \"white\", \"linecolor\": \"white\", \"ticks\": \"\"}, \"baxis\": {\"gridcolor\": \"white\", \"linecolor\": \"white\", \"ticks\": \"\"}, \"bgcolor\": \"#E5ECF6\", \"caxis\": {\"gridcolor\": \"white\", \"linecolor\": \"white\", \"ticks\": \"\"}}, \"title\": {\"x\": 0.05}, \"xaxis\": {\"automargin\": true, \"gridcolor\": \"white\", \"linecolor\": \"white\", \"ticks\": \"\", \"zerolinecolor\": \"white\", \"zerolinewidth\": 2}, \"yaxis\": {\"automargin\": true, \"gridcolor\": \"white\", \"linecolor\": \"white\", \"ticks\": \"\", \"zerolinecolor\": \"white\", \"zerolinewidth\": 2}}}, \"title\": {\"text\": \"\\u041a\\u043e\\u043b\\u0438\\u0447\\u0435\\u0441\\u0442\\u0432\\u043e \\u043e\\u0442\\u0432\\u0435\\u0447\\u0435\\u043d\\u043d\\u044b\\u0445 \\u0432\\u043e\\u043f\\u0440\\u043e\\u0441\\u043e\\u0432\"}},\n",
              "                        {\"responsive\": true}\n",
              "                    ).then(function(){\n",
              "                            \n",
              "var gd = document.getElementById('82b5587c-9158-4c85-b70f-1fd499e34645');\n",
              "var x = new MutationObserver(function (mutations, observer) {{\n",
              "        var display = window.getComputedStyle(gd).display;\n",
              "        if (!display || display === 'none') {{\n",
              "            console.log([gd, 'removed!']);\n",
              "            Plotly.purge(gd);\n",
              "            observer.disconnect();\n",
              "        }}\n",
              "}});\n",
              "\n",
              "// Listen for the removal of the full notebook cells\n",
              "var notebookContainer = gd.closest('#notebook-container');\n",
              "if (notebookContainer) {{\n",
              "    x.observe(notebookContainer, {childList: true});\n",
              "}}\n",
              "\n",
              "// Listen for the clearing of the current output cell\n",
              "var outputEl = gd.closest('.output');\n",
              "if (outputEl) {{\n",
              "    x.observe(outputEl, {childList: true});\n",
              "}}\n",
              "\n",
              "                        })\n",
              "                };\n",
              "                \n",
              "            </script>\n",
              "        </div>\n",
              "</body>\n",
              "</html>"
            ]
          },
          "metadata": {
            "tags": []
          }
        }
      ]
    },
    {
      "cell_type": "code",
      "metadata": {
        "id": "_dHMmVfp5K9j",
        "colab_type": "code",
        "colab": {}
      },
      "source": [
        ""
      ],
      "execution_count": 0,
      "outputs": []
    },
    {
      "cell_type": "code",
      "metadata": {
        "id": "o2O4Gi1G7iHS",
        "colab_type": "code",
        "outputId": "1da40d69-f241-4f18-8b20-82ee4e3782be",
        "colab": {
          "base_uri": "https://localhost:8080/",
          "height": 1000
        }
      },
      "source": [
        "!pip install dostoevsky\n",
        "%clear"
      ],
      "execution_count": 22,
      "outputs": [
        {
          "output_type": "stream",
          "text": [
            "Collecting dostoevsky\n",
            "  Downloading https://files.pythonhosted.org/packages/18/58/b52bb3af231e584f030405e285183bd7fc9e057af57893e5a340ee421067/dostoevsky-0.3.0-py2.py3-none-any.whl\n",
            "Collecting pytest==5.1.2\n",
            "\u001b[?25l  Downloading https://files.pythonhosted.org/packages/2f/19/d5f71752f71451ccc5ed5f6739e9da4a235f38783fdaf3629cae41b2ca7b/pytest-5.1.2-py3-none-any.whl (224kB)\n",
            "\u001b[K     |████████████████████████████████| 225kB 13.8MB/s \n",
            "\u001b[?25hCollecting b-labs-models==2017.8.22\n",
            "\u001b[?25l  Downloading https://files.pythonhosted.org/packages/c5/30/36fdfd1ed4f778b52ebe165941c215349caadc410faa163ccacf06e395b4/b_labs_models-2017.8.22-py2.py3-none-any.whl (3.0MB)\n",
            "\u001b[K     |████████████████████████████████| 3.0MB 57.6MB/s \n",
            "\u001b[?25hCollecting fasttext==0.9.1\n",
            "\u001b[?25l  Downloading https://files.pythonhosted.org/packages/10/61/2e01f1397ec533756c1d893c22d9d5ed3fce3a6e4af1976e0d86bb13ea97/fasttext-0.9.1.tar.gz (57kB)\n",
            "\u001b[K     |████████████████████████████████| 61kB 8.0MB/s \n",
            "\u001b[?25hCollecting pymorphy2==0.8\n",
            "\u001b[?25l  Downloading https://files.pythonhosted.org/packages/a3/33/fff9675c68b5f6c63ec8c6e6ff57827dda28a1fa5b2c2d727dffff92dd47/pymorphy2-0.8-py2.py3-none-any.whl (46kB)\n",
            "\u001b[K     |████████████████████████████████| 51kB 7.6MB/s \n",
            "\u001b[?25hCollecting russian-tagsets==0.6\n",
            "  Downloading https://files.pythonhosted.org/packages/2d/b1/c9377d472a04fb9b84f59365560d68b5d868b589691f32545eb606b3be48/russian-tagsets-0.6.tar.gz\n",
            "Requirement already satisfied: scikit-learn==0.21.3 in /usr/local/lib/python3.6/dist-packages (from dostoevsky) (0.21.3)\n",
            "Collecting gensim==3.8.0\n",
            "\u001b[?25l  Downloading https://files.pythonhosted.org/packages/40/3d/89b27573f56abcd1b8c9598b240f53c45a3c79aa0924a24588e99716043b/gensim-3.8.0-cp36-cp36m-manylinux1_x86_64.whl (24.2MB)\n",
            "\u001b[K     |████████████████████████████████| 24.2MB 101kB/s \n",
            "\u001b[?25hCollecting tensorflow==1.14.0\n",
            "\u001b[?25l  Downloading https://files.pythonhosted.org/packages/de/f0/96fb2e0412ae9692dbf400e5b04432885f677ad6241c088ccc5fe7724d69/tensorflow-1.14.0-cp36-cp36m-manylinux1_x86_64.whl (109.2MB)\n",
            "\u001b[K     |████████████████████████████████| 109.2MB 107kB/s \n",
            "\u001b[?25hCollecting razdel==0.4.0\n",
            "  Downloading https://files.pythonhosted.org/packages/cf/f0/664eb27854d7de7c3605b5cd2a155cf069143fb00902ac479325bf1a98b7/razdel-0.4.0-py2.py3-none-any.whl\n",
            "Requirement already satisfied: Keras==2.2.5 in /usr/local/lib/python3.6/dist-packages (from dostoevsky) (2.2.5)\n",
            "Requirement already satisfied: py>=1.5.0 in /usr/local/lib/python3.6/dist-packages (from pytest==5.1.2->dostoevsky) (1.8.0)\n",
            "Requirement already satisfied: packaging in /usr/local/lib/python3.6/dist-packages (from pytest==5.1.2->dostoevsky) (19.2)\n",
            "Requirement already satisfied: wcwidth in /usr/local/lib/python3.6/dist-packages (from pytest==5.1.2->dostoevsky) (0.1.7)\n",
            "Collecting pluggy<1.0,>=0.12\n",
            "  Downloading https://files.pythonhosted.org/packages/92/c7/48439f7d5fd6bddb4c04b850bb862b42e3e2b98570040dfaf68aedd8114b/pluggy-0.13.0-py2.py3-none-any.whl\n",
            "Requirement already satisfied: attrs>=17.4.0 in /usr/local/lib/python3.6/dist-packages (from pytest==5.1.2->dostoevsky) (19.3.0)\n",
            "Requirement already satisfied: atomicwrites>=1.0 in /usr/local/lib/python3.6/dist-packages (from pytest==5.1.2->dostoevsky) (1.3.0)\n",
            "Requirement already satisfied: importlib-metadata>=0.12; python_version < \"3.8\" in /usr/local/lib/python3.6/dist-packages (from pytest==5.1.2->dostoevsky) (0.23)\n",
            "Requirement already satisfied: more-itertools>=4.0.0 in /usr/local/lib/python3.6/dist-packages (from pytest==5.1.2->dostoevsky) (7.2.0)\n",
            "Collecting python-crfsuite\n",
            "\u001b[?25l  Downloading https://files.pythonhosted.org/packages/2f/86/cfcd71edca9d25d3d331209a20f6314b6f3f134c29478f90559cee9ce091/python_crfsuite-0.9.6-cp36-cp36m-manylinux1_x86_64.whl (754kB)\n",
            "\u001b[K     |████████████████████████████████| 757kB 21.7MB/s \n",
            "\u001b[?25hRequirement already satisfied: pybind11>=2.2 in /usr/local/lib/python3.6/dist-packages (from fasttext==0.9.1->dostoevsky) (2.4.3)\n",
            "Requirement already satisfied: setuptools>=0.7.0 in /usr/local/lib/python3.6/dist-packages (from fasttext==0.9.1->dostoevsky) (41.4.0)\n",
            "Requirement already satisfied: numpy in /usr/local/lib/python3.6/dist-packages (from fasttext==0.9.1->dostoevsky) (1.17.4)\n",
            "Collecting pymorphy2-dicts<3.0,>=2.4\n",
            "\u001b[?25l  Downloading https://files.pythonhosted.org/packages/02/51/2465fd4f72328ab50877b54777764d928da8cb15b74e2680fc1bd8cb3173/pymorphy2_dicts-2.4.393442.3710985-py2.py3-none-any.whl (7.1MB)\n",
            "\u001b[K     |████████████████████████████████| 7.1MB 55.1MB/s \n",
            "\u001b[?25hRequirement already satisfied: docopt>=0.6 in /usr/local/lib/python3.6/dist-packages (from pymorphy2==0.8->dostoevsky) (0.6.2)\n",
            "Collecting dawg-python>=0.7\n",
            "  Downloading https://files.pythonhosted.org/packages/6a/84/ff1ce2071d4c650ec85745766c0047ccc3b5036f1d03559fd46bb38b5eeb/DAWG_Python-0.7.2-py2.py3-none-any.whl\n",
            "Requirement already satisfied: scipy>=0.17.0 in /usr/local/lib/python3.6/dist-packages (from scikit-learn==0.21.3->dostoevsky) (1.3.2)\n",
            "Requirement already satisfied: joblib>=0.11 in /usr/local/lib/python3.6/dist-packages (from scikit-learn==0.21.3->dostoevsky) (0.14.0)\n",
            "Requirement already satisfied: smart-open>=1.7.0 in /usr/local/lib/python3.6/dist-packages (from gensim==3.8.0->dostoevsky) (1.9.0)\n",
            "Requirement already satisfied: six>=1.5.0 in /usr/local/lib/python3.6/dist-packages (from gensim==3.8.0->dostoevsky) (1.12.0)\n",
            "Requirement already satisfied: astor>=0.6.0 in /usr/local/lib/python3.6/dist-packages (from tensorflow==1.14.0->dostoevsky) (0.8.0)\n",
            "Collecting tensorflow-estimator<1.15.0rc0,>=1.14.0rc0\n",
            "\u001b[?25l  Downloading https://files.pythonhosted.org/packages/3c/d5/21860a5b11caf0678fbc8319341b0ae21a07156911132e0e71bffed0510d/tensorflow_estimator-1.14.0-py2.py3-none-any.whl (488kB)\n",
            "\u001b[K     |████████████████████████████████| 491kB 63.9MB/s \n",
            "\u001b[?25hRequirement already satisfied: absl-py>=0.7.0 in /usr/local/lib/python3.6/dist-packages (from tensorflow==1.14.0->dostoevsky) (0.8.1)\n",
            "Requirement already satisfied: keras-preprocessing>=1.0.5 in /usr/local/lib/python3.6/dist-packages (from tensorflow==1.14.0->dostoevsky) (1.1.0)\n",
            "Requirement already satisfied: google-pasta>=0.1.6 in /usr/local/lib/python3.6/dist-packages (from tensorflow==1.14.0->dostoevsky) (0.1.8)\n",
            "Requirement already satisfied: gast>=0.2.0 in /usr/local/lib/python3.6/dist-packages (from tensorflow==1.14.0->dostoevsky) (0.2.2)\n",
            "Requirement already satisfied: wrapt>=1.11.1 in /usr/local/lib/python3.6/dist-packages (from tensorflow==1.14.0->dostoevsky) (1.11.2)\n",
            "Requirement already satisfied: termcolor>=1.1.0 in /usr/local/lib/python3.6/dist-packages (from tensorflow==1.14.0->dostoevsky) (1.1.0)\n",
            "Requirement already satisfied: protobuf>=3.6.1 in /usr/local/lib/python3.6/dist-packages (from tensorflow==1.14.0->dostoevsky) (3.10.0)\n",
            "Requirement already satisfied: grpcio>=1.8.6 in /usr/local/lib/python3.6/dist-packages (from tensorflow==1.14.0->dostoevsky) (1.15.0)\n",
            "Collecting tensorboard<1.15.0,>=1.14.0\n",
            "\u001b[?25l  Downloading https://files.pythonhosted.org/packages/91/2d/2ed263449a078cd9c8a9ba50ebd50123adf1f8cfbea1492f9084169b89d9/tensorboard-1.14.0-py3-none-any.whl (3.1MB)\n",
            "\u001b[K     |████████████████████████████████| 3.2MB 28.5MB/s \n",
            "\u001b[?25hRequirement already satisfied: wheel>=0.26 in /usr/local/lib/python3.6/dist-packages (from tensorflow==1.14.0->dostoevsky) (0.33.6)\n",
            "Requirement already satisfied: keras-applications>=1.0.6 in /usr/local/lib/python3.6/dist-packages (from tensorflow==1.14.0->dostoevsky) (1.0.8)\n",
            "Requirement already satisfied: h5py in /usr/local/lib/python3.6/dist-packages (from Keras==2.2.5->dostoevsky) (2.8.0)\n",
            "Requirement already satisfied: pyyaml in /usr/local/lib/python3.6/dist-packages (from Keras==2.2.5->dostoevsky) (3.13)\n",
            "Requirement already satisfied: pyparsing>=2.0.2 in /usr/local/lib/python3.6/dist-packages (from packaging->pytest==5.1.2->dostoevsky) (2.4.5)\n",
            "Requirement already satisfied: zipp>=0.5 in /usr/local/lib/python3.6/dist-packages (from importlib-metadata>=0.12; python_version < \"3.8\"->pytest==5.1.2->dostoevsky) (0.6.0)\n",
            "Requirement already satisfied: boto3 in /usr/local/lib/python3.6/dist-packages (from smart-open>=1.7.0->gensim==3.8.0->dostoevsky) (1.10.14)\n",
            "Requirement already satisfied: boto>=2.32 in /usr/local/lib/python3.6/dist-packages (from smart-open>=1.7.0->gensim==3.8.0->dostoevsky) (2.49.0)\n",
            "Requirement already satisfied: requests in /usr/local/lib/python3.6/dist-packages (from smart-open>=1.7.0->gensim==3.8.0->dostoevsky) (2.21.0)\n",
            "Requirement already satisfied: markdown>=2.6.8 in /usr/local/lib/python3.6/dist-packages (from tensorboard<1.15.0,>=1.14.0->tensorflow==1.14.0->dostoevsky) (3.1.1)\n",
            "Requirement already satisfied: werkzeug>=0.11.15 in /usr/local/lib/python3.6/dist-packages (from tensorboard<1.15.0,>=1.14.0->tensorflow==1.14.0->dostoevsky) (0.16.0)\n",
            "Requirement already satisfied: s3transfer<0.3.0,>=0.2.0 in /usr/local/lib/python3.6/dist-packages (from boto3->smart-open>=1.7.0->gensim==3.8.0->dostoevsky) (0.2.1)\n",
            "Requirement already satisfied: botocore<1.14.0,>=1.13.14 in /usr/local/lib/python3.6/dist-packages (from boto3->smart-open>=1.7.0->gensim==3.8.0->dostoevsky) (1.13.14)\n",
            "Requirement already satisfied: jmespath<1.0.0,>=0.7.1 in /usr/local/lib/python3.6/dist-packages (from boto3->smart-open>=1.7.0->gensim==3.8.0->dostoevsky) (0.9.4)\n",
            "Requirement already satisfied: chardet<3.1.0,>=3.0.2 in /usr/local/lib/python3.6/dist-packages (from requests->smart-open>=1.7.0->gensim==3.8.0->dostoevsky) (3.0.4)\n",
            "Requirement already satisfied: idna<2.9,>=2.5 in /usr/local/lib/python3.6/dist-packages (from requests->smart-open>=1.7.0->gensim==3.8.0->dostoevsky) (2.8)\n",
            "Requirement already satisfied: urllib3<1.25,>=1.21.1 in /usr/local/lib/python3.6/dist-packages (from requests->smart-open>=1.7.0->gensim==3.8.0->dostoevsky) (1.24.3)\n",
            "Requirement already satisfied: certifi>=2017.4.17 in /usr/local/lib/python3.6/dist-packages (from requests->smart-open>=1.7.0->gensim==3.8.0->dostoevsky) (2019.9.11)\n",
            "Requirement already satisfied: docutils<0.16,>=0.10 in /usr/local/lib/python3.6/dist-packages (from botocore<1.14.0,>=1.13.14->boto3->smart-open>=1.7.0->gensim==3.8.0->dostoevsky) (0.15.2)\n",
            "Requirement already satisfied: python-dateutil<2.8.1,>=2.1; python_version >= \"2.7\" in /usr/local/lib/python3.6/dist-packages (from botocore<1.14.0,>=1.13.14->boto3->smart-open>=1.7.0->gensim==3.8.0->dostoevsky) (2.6.1)\n",
            "Building wheels for collected packages: fasttext, russian-tagsets\n",
            "  Building wheel for fasttext (setup.py) ... \u001b[?25l\u001b[?25hdone\n",
            "  Created wheel for fasttext: filename=fasttext-0.9.1-cp36-cp36m-linux_x86_64.whl size=2384550 sha256=c06eab8c5ac27f44995c107dde0a95619231b3738dbaae26af4974daf1c38769\n",
            "  Stored in directory: /root/.cache/pip/wheels/9f/f0/04/caa82c912aee89ce76358ff954f3f0729b7577c8ff23a292e3\n",
            "  Building wheel for russian-tagsets (setup.py) ... \u001b[?25l\u001b[?25hdone\n",
            "  Created wheel for russian-tagsets: filename=russian_tagsets-0.6-cp36-none-any.whl size=24634 sha256=a891b5c6a86c2563b68cb55be7880e5b77359d5a9f8d84379e3449051591a4b7\n",
            "  Stored in directory: /root/.cache/pip/wheels/e8/9d/dd/4679aca4031fdb0d3ad65e165ba5343e61441ed7ad587a08e6\n",
            "Successfully built fasttext russian-tagsets\n",
            "\u001b[31mERROR: datascience 0.10.6 has requirement folium==0.2.1, but you'll have folium 0.8.3 which is incompatible.\u001b[0m\n",
            "Installing collected packages: pluggy, pytest, python-crfsuite, b-labs-models, fasttext, pymorphy2-dicts, dawg-python, pymorphy2, russian-tagsets, gensim, tensorflow-estimator, tensorboard, tensorflow, razdel, dostoevsky\n",
            "  Found existing installation: pluggy 0.7.1\n",
            "    Uninstalling pluggy-0.7.1:\n",
            "      Successfully uninstalled pluggy-0.7.1\n",
            "  Found existing installation: pytest 3.6.4\n",
            "    Uninstalling pytest-3.6.4:\n",
            "      Successfully uninstalled pytest-3.6.4\n",
            "  Found existing installation: gensim 3.6.0\n",
            "    Uninstalling gensim-3.6.0:\n",
            "      Successfully uninstalled gensim-3.6.0\n",
            "  Found existing installation: tensorflow-estimator 1.15.1\n",
            "    Uninstalling tensorflow-estimator-1.15.1:\n",
            "      Successfully uninstalled tensorflow-estimator-1.15.1\n",
            "  Found existing installation: tensorboard 1.15.0\n",
            "    Uninstalling tensorboard-1.15.0:\n",
            "      Successfully uninstalled tensorboard-1.15.0\n",
            "  Found existing installation: tensorflow 1.15.0\n",
            "    Uninstalling tensorflow-1.15.0:\n",
            "      Successfully uninstalled tensorflow-1.15.0\n",
            "Successfully installed b-labs-models-2017.8.22 dawg-python-0.7.2 dostoevsky-0.3.0 fasttext-0.9.1 gensim-3.8.0 pluggy-0.13.0 pymorphy2-0.8 pymorphy2-dicts-2.4.393442.3710985 pytest-5.1.2 python-crfsuite-0.9.6 razdel-0.4.0 russian-tagsets-0.6 tensorboard-1.14.0 tensorflow-1.14.0 tensorflow-estimator-1.14.0\n"
          ],
          "name": "stdout"
        },
        {
          "output_type": "display_data",
          "data": {
            "application/vnd.colab-display-data+json": {
              "pip_warning": {
                "packages": [
                  "_pytest",
                  "gensim",
                  "pluggy",
                  "pytest",
                  "tensorboard",
                  "tensorflow",
                  "tensorflow_estimator"
                ]
              }
            }
          },
          "metadata": {
            "tags": []
          }
        },
        {
          "output_type": "stream",
          "text": [
            "\u001b[H\u001b[2J"
          ],
          "name": "stdout"
        }
      ]
    },
    {
      "cell_type": "code",
      "metadata": {
        "id": "oXj_YLsk8hOS",
        "colab_type": "code",
        "colab": {}
      },
      "source": [
        "!dostoevsky download fasttext-social-network-model"
      ],
      "execution_count": 0,
      "outputs": []
    },
    {
      "cell_type": "code",
      "metadata": {
        "id": "ExTbqv0tBTa-",
        "colab_type": "code",
        "colab": {}
      },
      "source": [
        "data_rus_text['PQ614']\n",
        "\n",
        "def return_batch(data):\n",
        "  keys = data.keys()\n",
        "  neutral = data['neutral'] if 'neutral' in keys else 0\n",
        "  speech =  data['speech'] if 'speech' in keys else 0\n",
        "  skip =  data['skip'] if 'skip' in keys else 0\n",
        "  negative =  data['negative'] if 'negative' in keys else 0\n",
        "  positive =  data['positive'] if 'positive' in keys else 0\n",
        "  unknown =  data['unknown'] if 'unknown' in keys else 0\n",
        "  return neutral, speech, skip,unknown, negative, positive\n"
      ],
      "execution_count": 0,
      "outputs": []
    },
    {
      "cell_type": "code",
      "metadata": {
        "id": "ydu6c6pN8myb",
        "colab_type": "code",
        "colab": {}
      },
      "source": [
        "from dostoevsky.tokenization import RegexTokenizer\n",
        "from dostoevsky.models import FastTextSocialNetworkModel\n",
        "\n",
        "import plotly.graph_objects as go\n",
        "def bar_tone_analysise(x,y,key='',question=''):\n",
        "  # Use the hovertext kw argument for hover text\n",
        "  fig = go.Figure(data=[go.Bar(x=x, y=y, text=y)])\n",
        "  # Customize aspect\n",
        "  fig.update_traces(marker_color='rgb(158,202,225)', marker_line_color='rgb(8,48,107)',\n",
        "                    marker_line_width=1.5, opacity=0.9, textposition='auto')\n",
        "  fig.update_layout(title=key + ' \\n' + question)\n",
        "  fig.show()\n",
        "\n",
        "def listmerge2(lstlst):\n",
        "    all=[]\n",
        "    for lst in lstlst:\n",
        "      all=all+lst\n",
        "    return all\n",
        "\n",
        "def analyze_sentiment(data, text='гит далее это заметно облегчит работу психолога школе увеличит продуктивность организовать бесплатные курсы повышения квалификации столичных вузах организовать большие форумы психологов международном уровне обмена инновационными идеями'):\n",
        "  def average(data):\n",
        "    return round(sum(data)/len(data) * 100, 2)\n",
        "  tokenizer = RegexTokenizer()\n",
        "  tokens = tokenizer.split(text)  # [('всё', None), ('очень', None), ('плохо', None)]\n",
        "  result = data.dropna().apply(lambda x: preprocess_text(x))\n",
        "  result = listmerge2(result.to_list())\n",
        "  result = [i for i in result if i != '']\n",
        "  model = FastTextSocialNetworkModel(tokenizer=tokenizer)\n",
        "  messages = [i for i in  result if i != '']\n",
        "  results = model.predict(messages, k=3)\n",
        "\n",
        "  neutral = []\n",
        "  speech = []\n",
        "  skip = []\n",
        "  negative = []\n",
        "  positive = []\n",
        "  unknown = []\n",
        "  all_metric = []\n",
        "  for message, sentiment in zip(messages, results):\n",
        "      \"\"\"\n",
        "      привет -> {'speech': 1.0000100135803223, 'skip': 0.0020607432816177607}\n",
        "      я люблю тебя!! -> {'positive': 0.9886782765388489, 'skip': 0.005394937004894018}\n",
        "      малолетние дебилы -> {'negative': 0.9525841474533081, 'neutral': 0.13661839067935944}]\n",
        "      \"\"\"\n",
        "      keys = sentiment.keys()\n",
        "      result = return_batch(sentiment)\n",
        "      all_metric.append(result)\n",
        "      if 'neutral' in keys:\n",
        "        neutral.append(sentiment['neutral'])\n",
        "      elif 'speech'in keys:\n",
        "        speech.append(sentiment['speech'])\n",
        "      elif 'positive' in keys:\n",
        "        positive.append(sentiment['positive'])\n",
        "      elif 'negative' in keys:\n",
        "        negative.append(sentiment['negative'])\n",
        "      elif 'unknown' in keys:\n",
        "        unknown.append(sentiment['unknown'])\n",
        "      elif 'skip' in keys:\n",
        "        unknown.append(sentiment['skip'])\n",
        "      \n",
        "      # print(message, '->', sentiment)\n",
        "  # data_rus_text['PQ614'].dropna().apply(lambda x: preprocess_text(x))\n",
        "\n",
        "\n",
        "  neutral = [i[0] for i in all_metric]\n",
        "  positive = [i[-1] for i in all_metric]\n",
        "  negative = [i[-2] for i in all_metric]\n",
        "  skip = [i[2] for i in all_metric]\n",
        "  speech = [i[1] for i in all_metric]\n",
        "  unknown = [i[3] for i in all_metric]\n",
        "\n",
        "  return {'neutral':neutral, 'positive':positive, 'negative':negative,'speech':speech,'skip':skip, 'unknown':unknown}, list(map(average,[positive, negative,neutral, unknown, speech,skip]))"
      ],
      "execution_count": 0,
      "outputs": []
    },
    {
      "cell_type": "code",
      "metadata": {
        "id": "efvYyp2CHCOA",
        "colab_type": "code",
        "outputId": "804224eb-d383-4907-8e49-83e642c91ea6",
        "colab": {
          "base_uri": "https://localhost:8080/",
          "height": 1000
        }
      },
      "source": [
        "columns = {'PQ106-Other':'Есть ли у Вас еще какие-либо обязанности в школе, прямо не относящиеся к Вашей психологической деятельности? Count:3694',\n",
        "'PQ303-Other':'Какую психологическую документацию Вы ведете в учреждении? Count: 4202',\n",
        "'PQ614':'Укажите Ваши пожелания по развитию психологической службы в системе образования Вашего субъекта? Count: 15700' }\n",
        "for clmn in columns:\n",
        "  result, average = analyze_sentiment(data_rus_text[clmn])\n",
        "  bar_tone_analysise(['positive', 'negative','neutral', 'unknown', 'speech','skip'],average,clmn,columns[clmn] )\n"
      ],
      "execution_count": 30,
      "outputs": [
        {
          "output_type": "stream",
          "text": [
            "\n"
          ],
          "name": "stderr"
        },
        {
          "output_type": "display_data",
          "data": {
            "text/html": [
              "<html>\n",
              "<head><meta charset=\"utf-8\" /></head>\n",
              "<body>\n",
              "    <div>\n",
              "            <script src=\"https://cdnjs.cloudflare.com/ajax/libs/mathjax/2.7.5/MathJax.js?config=TeX-AMS-MML_SVG\"></script><script type=\"text/javascript\">if (window.MathJax) {MathJax.Hub.Config({SVG: {font: \"STIX-Web\"}});}</script>\n",
              "                <script type=\"text/javascript\">window.PlotlyConfig = {MathJaxConfig: 'local'};</script>\n",
              "        <script src=\"https://cdn.plot.ly/plotly-latest.min.js\"></script>    \n",
              "            <div id=\"41997951-590f-4ca2-bd1c-80602290873c\" class=\"plotly-graph-div\" style=\"height:525px; width:100%;\"></div>\n",
              "            <script type=\"text/javascript\">\n",
              "                \n",
              "                    window.PLOTLYENV=window.PLOTLYENV || {};\n",
              "                    \n",
              "                if (document.getElementById(\"41997951-590f-4ca2-bd1c-80602290873c\")) {\n",
              "                    Plotly.newPlot(\n",
              "                        '41997951-590f-4ca2-bd1c-80602290873c',\n",
              "                        [{\"marker\": {\"color\": \"rgb(158,202,225)\", \"line\": {\"color\": \"rgb(8,48,107)\", \"width\": 1.5}}, \"opacity\": 0.9, \"text\": [\"6.1\", \"7.13\", \"75.04\", \"0.0\", \"0.24\", \"4.4\"], \"textposition\": \"auto\", \"type\": \"bar\", \"x\": [\"positive\", \"negative\", \"neutral\", \"unknown\", \"speech\", \"skip\"], \"y\": [6.1, 7.13, 75.04, 0.0, 0.24, 4.4]}],\n",
              "                        {\"template\": {\"data\": {\"bar\": [{\"error_x\": {\"color\": \"#2a3f5f\"}, \"error_y\": {\"color\": \"#2a3f5f\"}, \"marker\": {\"line\": {\"color\": \"#E5ECF6\", \"width\": 0.5}}, \"type\": \"bar\"}], \"barpolar\": [{\"marker\": {\"line\": {\"color\": \"#E5ECF6\", \"width\": 0.5}}, \"type\": \"barpolar\"}], \"carpet\": [{\"aaxis\": {\"endlinecolor\": \"#2a3f5f\", \"gridcolor\": \"white\", \"linecolor\": \"white\", \"minorgridcolor\": \"white\", \"startlinecolor\": \"#2a3f5f\"}, \"baxis\": {\"endlinecolor\": \"#2a3f5f\", \"gridcolor\": \"white\", \"linecolor\": \"white\", \"minorgridcolor\": \"white\", \"startlinecolor\": \"#2a3f5f\"}, \"type\": \"carpet\"}], \"choropleth\": [{\"colorbar\": {\"outlinewidth\": 0, \"ticks\": \"\"}, \"type\": \"choropleth\"}], \"contour\": [{\"colorbar\": {\"outlinewidth\": 0, \"ticks\": \"\"}, \"colorscale\": [[0.0, \"#0d0887\"], [0.1111111111111111, \"#46039f\"], [0.2222222222222222, \"#7201a8\"], [0.3333333333333333, \"#9c179e\"], [0.4444444444444444, \"#bd3786\"], [0.5555555555555556, \"#d8576b\"], [0.6666666666666666, \"#ed7953\"], [0.7777777777777778, \"#fb9f3a\"], [0.8888888888888888, \"#fdca26\"], [1.0, \"#f0f921\"]], \"type\": \"contour\"}], \"contourcarpet\": [{\"colorbar\": {\"outlinewidth\": 0, \"ticks\": \"\"}, \"type\": \"contourcarpet\"}], \"heatmap\": [{\"colorbar\": {\"outlinewidth\": 0, \"ticks\": \"\"}, \"colorscale\": [[0.0, \"#0d0887\"], [0.1111111111111111, \"#46039f\"], [0.2222222222222222, \"#7201a8\"], [0.3333333333333333, \"#9c179e\"], [0.4444444444444444, \"#bd3786\"], [0.5555555555555556, \"#d8576b\"], [0.6666666666666666, \"#ed7953\"], [0.7777777777777778, \"#fb9f3a\"], [0.8888888888888888, \"#fdca26\"], [1.0, \"#f0f921\"]], \"type\": \"heatmap\"}], \"heatmapgl\": [{\"colorbar\": {\"outlinewidth\": 0, \"ticks\": \"\"}, \"colorscale\": [[0.0, \"#0d0887\"], [0.1111111111111111, \"#46039f\"], [0.2222222222222222, \"#7201a8\"], [0.3333333333333333, \"#9c179e\"], [0.4444444444444444, \"#bd3786\"], [0.5555555555555556, \"#d8576b\"], [0.6666666666666666, \"#ed7953\"], [0.7777777777777778, \"#fb9f3a\"], [0.8888888888888888, \"#fdca26\"], [1.0, \"#f0f921\"]], \"type\": \"heatmapgl\"}], \"histogram\": [{\"marker\": {\"colorbar\": {\"outlinewidth\": 0, \"ticks\": \"\"}}, \"type\": \"histogram\"}], \"histogram2d\": [{\"colorbar\": {\"outlinewidth\": 0, \"ticks\": \"\"}, \"colorscale\": [[0.0, \"#0d0887\"], [0.1111111111111111, \"#46039f\"], [0.2222222222222222, \"#7201a8\"], [0.3333333333333333, \"#9c179e\"], [0.4444444444444444, \"#bd3786\"], [0.5555555555555556, \"#d8576b\"], [0.6666666666666666, \"#ed7953\"], [0.7777777777777778, \"#fb9f3a\"], [0.8888888888888888, \"#fdca26\"], [1.0, \"#f0f921\"]], \"type\": \"histogram2d\"}], \"histogram2dcontour\": [{\"colorbar\": {\"outlinewidth\": 0, \"ticks\": \"\"}, \"colorscale\": [[0.0, \"#0d0887\"], [0.1111111111111111, \"#46039f\"], [0.2222222222222222, \"#7201a8\"], [0.3333333333333333, \"#9c179e\"], [0.4444444444444444, \"#bd3786\"], [0.5555555555555556, \"#d8576b\"], [0.6666666666666666, \"#ed7953\"], [0.7777777777777778, \"#fb9f3a\"], [0.8888888888888888, \"#fdca26\"], [1.0, \"#f0f921\"]], \"type\": \"histogram2dcontour\"}], \"mesh3d\": [{\"colorbar\": {\"outlinewidth\": 0, \"ticks\": \"\"}, \"type\": \"mesh3d\"}], \"parcoords\": [{\"line\": {\"colorbar\": {\"outlinewidth\": 0, \"ticks\": \"\"}}, \"type\": \"parcoords\"}], \"scatter\": [{\"marker\": {\"colorbar\": {\"outlinewidth\": 0, \"ticks\": \"\"}}, \"type\": \"scatter\"}], \"scatter3d\": [{\"line\": {\"colorbar\": {\"outlinewidth\": 0, \"ticks\": \"\"}}, \"marker\": {\"colorbar\": {\"outlinewidth\": 0, \"ticks\": \"\"}}, \"type\": \"scatter3d\"}], \"scattercarpet\": [{\"marker\": {\"colorbar\": {\"outlinewidth\": 0, \"ticks\": \"\"}}, \"type\": \"scattercarpet\"}], \"scattergeo\": [{\"marker\": {\"colorbar\": {\"outlinewidth\": 0, \"ticks\": \"\"}}, \"type\": \"scattergeo\"}], \"scattergl\": [{\"marker\": {\"colorbar\": {\"outlinewidth\": 0, \"ticks\": \"\"}}, \"type\": \"scattergl\"}], \"scattermapbox\": [{\"marker\": {\"colorbar\": {\"outlinewidth\": 0, \"ticks\": \"\"}}, \"type\": \"scattermapbox\"}], \"scatterpolar\": [{\"marker\": {\"colorbar\": {\"outlinewidth\": 0, \"ticks\": \"\"}}, \"type\": \"scatterpolar\"}], \"scatterpolargl\": [{\"marker\": {\"colorbar\": {\"outlinewidth\": 0, \"ticks\": \"\"}}, \"type\": \"scatterpolargl\"}], \"scatterternary\": [{\"marker\": {\"colorbar\": {\"outlinewidth\": 0, \"ticks\": \"\"}}, \"type\": \"scatterternary\"}], \"surface\": [{\"colorbar\": {\"outlinewidth\": 0, \"ticks\": \"\"}, \"colorscale\": [[0.0, \"#0d0887\"], [0.1111111111111111, \"#46039f\"], [0.2222222222222222, \"#7201a8\"], [0.3333333333333333, \"#9c179e\"], [0.4444444444444444, \"#bd3786\"], [0.5555555555555556, \"#d8576b\"], [0.6666666666666666, \"#ed7953\"], [0.7777777777777778, \"#fb9f3a\"], [0.8888888888888888, \"#fdca26\"], [1.0, \"#f0f921\"]], \"type\": \"surface\"}], \"table\": [{\"cells\": {\"fill\": {\"color\": \"#EBF0F8\"}, \"line\": {\"color\": \"white\"}}, \"header\": {\"fill\": {\"color\": \"#C8D4E3\"}, \"line\": {\"color\": \"white\"}}, \"type\": \"table\"}]}, \"layout\": {\"annotationdefaults\": {\"arrowcolor\": \"#2a3f5f\", \"arrowhead\": 0, \"arrowwidth\": 1}, \"colorscale\": {\"diverging\": [[0, \"#8e0152\"], [0.1, \"#c51b7d\"], [0.2, \"#de77ae\"], [0.3, \"#f1b6da\"], [0.4, \"#fde0ef\"], [0.5, \"#f7f7f7\"], [0.6, \"#e6f5d0\"], [0.7, \"#b8e186\"], [0.8, \"#7fbc41\"], [0.9, \"#4d9221\"], [1, \"#276419\"]], \"sequential\": [[0.0, \"#0d0887\"], [0.1111111111111111, \"#46039f\"], [0.2222222222222222, \"#7201a8\"], [0.3333333333333333, \"#9c179e\"], [0.4444444444444444, \"#bd3786\"], [0.5555555555555556, \"#d8576b\"], [0.6666666666666666, \"#ed7953\"], [0.7777777777777778, \"#fb9f3a\"], [0.8888888888888888, \"#fdca26\"], [1.0, \"#f0f921\"]], \"sequentialminus\": [[0.0, \"#0d0887\"], [0.1111111111111111, \"#46039f\"], [0.2222222222222222, \"#7201a8\"], [0.3333333333333333, \"#9c179e\"], [0.4444444444444444, \"#bd3786\"], [0.5555555555555556, \"#d8576b\"], [0.6666666666666666, \"#ed7953\"], [0.7777777777777778, \"#fb9f3a\"], [0.8888888888888888, \"#fdca26\"], [1.0, \"#f0f921\"]]}, \"colorway\": [\"#636efa\", \"#EF553B\", \"#00cc96\", \"#ab63fa\", \"#FFA15A\", \"#19d3f3\", \"#FF6692\", \"#B6E880\", \"#FF97FF\", \"#FECB52\"], \"font\": {\"color\": \"#2a3f5f\"}, \"geo\": {\"bgcolor\": \"white\", \"lakecolor\": \"white\", \"landcolor\": \"#E5ECF6\", \"showlakes\": true, \"showland\": true, \"subunitcolor\": \"white\"}, \"hoverlabel\": {\"align\": \"left\"}, \"hovermode\": \"closest\", \"mapbox\": {\"style\": \"light\"}, \"paper_bgcolor\": \"white\", \"plot_bgcolor\": \"#E5ECF6\", \"polar\": {\"angularaxis\": {\"gridcolor\": \"white\", \"linecolor\": \"white\", \"ticks\": \"\"}, \"bgcolor\": \"#E5ECF6\", \"radialaxis\": {\"gridcolor\": \"white\", \"linecolor\": \"white\", \"ticks\": \"\"}}, \"scene\": {\"xaxis\": {\"backgroundcolor\": \"#E5ECF6\", \"gridcolor\": \"white\", \"gridwidth\": 2, \"linecolor\": \"white\", \"showbackground\": true, \"ticks\": \"\", \"zerolinecolor\": \"white\"}, \"yaxis\": {\"backgroundcolor\": \"#E5ECF6\", \"gridcolor\": \"white\", \"gridwidth\": 2, \"linecolor\": \"white\", \"showbackground\": true, \"ticks\": \"\", \"zerolinecolor\": \"white\"}, \"zaxis\": {\"backgroundcolor\": \"#E5ECF6\", \"gridcolor\": \"white\", \"gridwidth\": 2, \"linecolor\": \"white\", \"showbackground\": true, \"ticks\": \"\", \"zerolinecolor\": \"white\"}}, \"shapedefaults\": {\"line\": {\"color\": \"#2a3f5f\"}}, \"ternary\": {\"aaxis\": {\"gridcolor\": \"white\", \"linecolor\": \"white\", \"ticks\": \"\"}, \"baxis\": {\"gridcolor\": \"white\", \"linecolor\": \"white\", \"ticks\": \"\"}, \"bgcolor\": \"#E5ECF6\", \"caxis\": {\"gridcolor\": \"white\", \"linecolor\": \"white\", \"ticks\": \"\"}}, \"title\": {\"x\": 0.05}, \"xaxis\": {\"automargin\": true, \"gridcolor\": \"white\", \"linecolor\": \"white\", \"ticks\": \"\", \"zerolinecolor\": \"white\", \"zerolinewidth\": 2}, \"yaxis\": {\"automargin\": true, \"gridcolor\": \"white\", \"linecolor\": \"white\", \"ticks\": \"\", \"zerolinecolor\": \"white\", \"zerolinewidth\": 2}}}, \"title\": {\"text\": \"PQ106-Other \\n\\u0415\\u0441\\u0442\\u044c \\u043b\\u0438 \\u0443 \\u0412\\u0430\\u0441 \\u0435\\u0449\\u0435 \\u043a\\u0430\\u043a\\u0438\\u0435-\\u043b\\u0438\\u0431\\u043e \\u043e\\u0431\\u044f\\u0437\\u0430\\u043d\\u043d\\u043e\\u0441\\u0442\\u0438 \\u0432 \\u0448\\u043a\\u043e\\u043b\\u0435, \\u043f\\u0440\\u044f\\u043c\\u043e \\u043d\\u0435 \\u043e\\u0442\\u043d\\u043e\\u0441\\u044f\\u0449\\u0438\\u0435\\u0441\\u044f \\u043a \\u0412\\u0430\\u0448\\u0435\\u0439 \\u043f\\u0441\\u0438\\u0445\\u043e\\u043b\\u043e\\u0433\\u0438\\u0447\\u0435\\u0441\\u043a\\u043e\\u0439 \\u0434\\u0435\\u044f\\u0442\\u0435\\u043b\\u044c\\u043d\\u043e\\u0441\\u0442\\u0438? Count:3694\"}},\n",
              "                        {\"responsive\": true}\n",
              "                    ).then(function(){\n",
              "                            \n",
              "var gd = document.getElementById('41997951-590f-4ca2-bd1c-80602290873c');\n",
              "var x = new MutationObserver(function (mutations, observer) {{\n",
              "        var display = window.getComputedStyle(gd).display;\n",
              "        if (!display || display === 'none') {{\n",
              "            console.log([gd, 'removed!']);\n",
              "            Plotly.purge(gd);\n",
              "            observer.disconnect();\n",
              "        }}\n",
              "}});\n",
              "\n",
              "// Listen for the removal of the full notebook cells\n",
              "var notebookContainer = gd.closest('#notebook-container');\n",
              "if (notebookContainer) {{\n",
              "    x.observe(notebookContainer, {childList: true});\n",
              "}}\n",
              "\n",
              "// Listen for the clearing of the current output cell\n",
              "var outputEl = gd.closest('.output');\n",
              "if (outputEl) {{\n",
              "    x.observe(outputEl, {childList: true});\n",
              "}}\n",
              "\n",
              "                        })\n",
              "                };\n",
              "                \n",
              "            </script>\n",
              "        </div>\n",
              "</body>\n",
              "</html>"
            ]
          },
          "metadata": {
            "tags": []
          }
        },
        {
          "output_type": "stream",
          "text": [
            "\n"
          ],
          "name": "stderr"
        },
        {
          "output_type": "display_data",
          "data": {
            "text/html": [
              "<html>\n",
              "<head><meta charset=\"utf-8\" /></head>\n",
              "<body>\n",
              "    <div>\n",
              "            <script src=\"https://cdnjs.cloudflare.com/ajax/libs/mathjax/2.7.5/MathJax.js?config=TeX-AMS-MML_SVG\"></script><script type=\"text/javascript\">if (window.MathJax) {MathJax.Hub.Config({SVG: {font: \"STIX-Web\"}});}</script>\n",
              "                <script type=\"text/javascript\">window.PlotlyConfig = {MathJaxConfig: 'local'};</script>\n",
              "        <script src=\"https://cdn.plot.ly/plotly-latest.min.js\"></script>    \n",
              "            <div id=\"fb1dc9b9-cb8a-4648-a103-43c08e18f9bc\" class=\"plotly-graph-div\" style=\"height:525px; width:100%;\"></div>\n",
              "            <script type=\"text/javascript\">\n",
              "                \n",
              "                    window.PLOTLYENV=window.PLOTLYENV || {};\n",
              "                    \n",
              "                if (document.getElementById(\"fb1dc9b9-cb8a-4648-a103-43c08e18f9bc\")) {\n",
              "                    Plotly.newPlot(\n",
              "                        'fb1dc9b9-cb8a-4648-a103-43c08e18f9bc',\n",
              "                        [{\"marker\": {\"color\": \"rgb(158,202,225)\", \"line\": {\"color\": \"rgb(8,48,107)\", \"width\": 1.5}}, \"opacity\": 0.9, \"text\": [\"1.75\", \"3.54\", \"89.97\", \"0.0\", \"0.25\", \"3.46\"], \"textposition\": \"auto\", \"type\": \"bar\", \"x\": [\"positive\", \"negative\", \"neutral\", \"unknown\", \"speech\", \"skip\"], \"y\": [1.75, 3.54, 89.97, 0.0, 0.25, 3.46]}],\n",
              "                        {\"template\": {\"data\": {\"bar\": [{\"error_x\": {\"color\": \"#2a3f5f\"}, \"error_y\": {\"color\": \"#2a3f5f\"}, \"marker\": {\"line\": {\"color\": \"#E5ECF6\", \"width\": 0.5}}, \"type\": \"bar\"}], \"barpolar\": [{\"marker\": {\"line\": {\"color\": \"#E5ECF6\", \"width\": 0.5}}, \"type\": \"barpolar\"}], \"carpet\": [{\"aaxis\": {\"endlinecolor\": \"#2a3f5f\", \"gridcolor\": \"white\", \"linecolor\": \"white\", \"minorgridcolor\": \"white\", \"startlinecolor\": \"#2a3f5f\"}, \"baxis\": {\"endlinecolor\": \"#2a3f5f\", \"gridcolor\": \"white\", \"linecolor\": \"white\", \"minorgridcolor\": \"white\", \"startlinecolor\": \"#2a3f5f\"}, \"type\": \"carpet\"}], \"choropleth\": [{\"colorbar\": {\"outlinewidth\": 0, \"ticks\": \"\"}, \"type\": \"choropleth\"}], \"contour\": [{\"colorbar\": {\"outlinewidth\": 0, \"ticks\": \"\"}, \"colorscale\": [[0.0, \"#0d0887\"], [0.1111111111111111, \"#46039f\"], [0.2222222222222222, \"#7201a8\"], [0.3333333333333333, \"#9c179e\"], [0.4444444444444444, \"#bd3786\"], [0.5555555555555556, \"#d8576b\"], [0.6666666666666666, \"#ed7953\"], [0.7777777777777778, \"#fb9f3a\"], [0.8888888888888888, \"#fdca26\"], [1.0, \"#f0f921\"]], \"type\": \"contour\"}], \"contourcarpet\": [{\"colorbar\": {\"outlinewidth\": 0, \"ticks\": \"\"}, \"type\": \"contourcarpet\"}], \"heatmap\": [{\"colorbar\": {\"outlinewidth\": 0, \"ticks\": \"\"}, \"colorscale\": [[0.0, \"#0d0887\"], [0.1111111111111111, \"#46039f\"], [0.2222222222222222, \"#7201a8\"], [0.3333333333333333, \"#9c179e\"], [0.4444444444444444, \"#bd3786\"], [0.5555555555555556, \"#d8576b\"], [0.6666666666666666, \"#ed7953\"], [0.7777777777777778, \"#fb9f3a\"], [0.8888888888888888, \"#fdca26\"], [1.0, \"#f0f921\"]], \"type\": \"heatmap\"}], \"heatmapgl\": [{\"colorbar\": {\"outlinewidth\": 0, \"ticks\": \"\"}, \"colorscale\": [[0.0, \"#0d0887\"], [0.1111111111111111, \"#46039f\"], [0.2222222222222222, \"#7201a8\"], [0.3333333333333333, \"#9c179e\"], [0.4444444444444444, \"#bd3786\"], [0.5555555555555556, \"#d8576b\"], [0.6666666666666666, \"#ed7953\"], [0.7777777777777778, \"#fb9f3a\"], [0.8888888888888888, \"#fdca26\"], [1.0, \"#f0f921\"]], \"type\": \"heatmapgl\"}], \"histogram\": [{\"marker\": {\"colorbar\": {\"outlinewidth\": 0, \"ticks\": \"\"}}, \"type\": \"histogram\"}], \"histogram2d\": [{\"colorbar\": {\"outlinewidth\": 0, \"ticks\": \"\"}, \"colorscale\": [[0.0, \"#0d0887\"], [0.1111111111111111, \"#46039f\"], [0.2222222222222222, \"#7201a8\"], [0.3333333333333333, \"#9c179e\"], [0.4444444444444444, \"#bd3786\"], [0.5555555555555556, \"#d8576b\"], [0.6666666666666666, \"#ed7953\"], [0.7777777777777778, \"#fb9f3a\"], [0.8888888888888888, \"#fdca26\"], [1.0, \"#f0f921\"]], \"type\": \"histogram2d\"}], \"histogram2dcontour\": [{\"colorbar\": {\"outlinewidth\": 0, \"ticks\": \"\"}, \"colorscale\": [[0.0, \"#0d0887\"], [0.1111111111111111, \"#46039f\"], [0.2222222222222222, \"#7201a8\"], [0.3333333333333333, \"#9c179e\"], [0.4444444444444444, \"#bd3786\"], [0.5555555555555556, \"#d8576b\"], [0.6666666666666666, \"#ed7953\"], [0.7777777777777778, \"#fb9f3a\"], [0.8888888888888888, \"#fdca26\"], [1.0, \"#f0f921\"]], \"type\": \"histogram2dcontour\"}], \"mesh3d\": [{\"colorbar\": {\"outlinewidth\": 0, \"ticks\": \"\"}, \"type\": \"mesh3d\"}], \"parcoords\": [{\"line\": {\"colorbar\": {\"outlinewidth\": 0, \"ticks\": \"\"}}, \"type\": \"parcoords\"}], \"scatter\": [{\"marker\": {\"colorbar\": {\"outlinewidth\": 0, \"ticks\": \"\"}}, \"type\": \"scatter\"}], \"scatter3d\": [{\"line\": {\"colorbar\": {\"outlinewidth\": 0, \"ticks\": \"\"}}, \"marker\": {\"colorbar\": {\"outlinewidth\": 0, \"ticks\": \"\"}}, \"type\": \"scatter3d\"}], \"scattercarpet\": [{\"marker\": {\"colorbar\": {\"outlinewidth\": 0, \"ticks\": \"\"}}, \"type\": \"scattercarpet\"}], \"scattergeo\": [{\"marker\": {\"colorbar\": {\"outlinewidth\": 0, \"ticks\": \"\"}}, \"type\": \"scattergeo\"}], \"scattergl\": [{\"marker\": {\"colorbar\": {\"outlinewidth\": 0, \"ticks\": \"\"}}, \"type\": \"scattergl\"}], \"scattermapbox\": [{\"marker\": {\"colorbar\": {\"outlinewidth\": 0, \"ticks\": \"\"}}, \"type\": \"scattermapbox\"}], \"scatterpolar\": [{\"marker\": {\"colorbar\": {\"outlinewidth\": 0, \"ticks\": \"\"}}, \"type\": \"scatterpolar\"}], \"scatterpolargl\": [{\"marker\": {\"colorbar\": {\"outlinewidth\": 0, \"ticks\": \"\"}}, \"type\": \"scatterpolargl\"}], \"scatterternary\": [{\"marker\": {\"colorbar\": {\"outlinewidth\": 0, \"ticks\": \"\"}}, \"type\": \"scatterternary\"}], \"surface\": [{\"colorbar\": {\"outlinewidth\": 0, \"ticks\": \"\"}, \"colorscale\": [[0.0, \"#0d0887\"], [0.1111111111111111, \"#46039f\"], [0.2222222222222222, \"#7201a8\"], [0.3333333333333333, \"#9c179e\"], [0.4444444444444444, \"#bd3786\"], [0.5555555555555556, \"#d8576b\"], [0.6666666666666666, \"#ed7953\"], [0.7777777777777778, \"#fb9f3a\"], [0.8888888888888888, \"#fdca26\"], [1.0, \"#f0f921\"]], \"type\": \"surface\"}], \"table\": [{\"cells\": {\"fill\": {\"color\": \"#EBF0F8\"}, \"line\": {\"color\": \"white\"}}, \"header\": {\"fill\": {\"color\": \"#C8D4E3\"}, \"line\": {\"color\": \"white\"}}, \"type\": \"table\"}]}, \"layout\": {\"annotationdefaults\": {\"arrowcolor\": \"#2a3f5f\", \"arrowhead\": 0, \"arrowwidth\": 1}, \"colorscale\": {\"diverging\": [[0, \"#8e0152\"], [0.1, \"#c51b7d\"], [0.2, \"#de77ae\"], [0.3, \"#f1b6da\"], [0.4, \"#fde0ef\"], [0.5, \"#f7f7f7\"], [0.6, \"#e6f5d0\"], [0.7, \"#b8e186\"], [0.8, \"#7fbc41\"], [0.9, \"#4d9221\"], [1, \"#276419\"]], \"sequential\": [[0.0, \"#0d0887\"], [0.1111111111111111, \"#46039f\"], [0.2222222222222222, \"#7201a8\"], [0.3333333333333333, \"#9c179e\"], [0.4444444444444444, \"#bd3786\"], [0.5555555555555556, \"#d8576b\"], [0.6666666666666666, \"#ed7953\"], [0.7777777777777778, \"#fb9f3a\"], [0.8888888888888888, \"#fdca26\"], [1.0, \"#f0f921\"]], \"sequentialminus\": [[0.0, \"#0d0887\"], [0.1111111111111111, \"#46039f\"], [0.2222222222222222, \"#7201a8\"], [0.3333333333333333, \"#9c179e\"], [0.4444444444444444, \"#bd3786\"], [0.5555555555555556, \"#d8576b\"], [0.6666666666666666, \"#ed7953\"], [0.7777777777777778, \"#fb9f3a\"], [0.8888888888888888, \"#fdca26\"], [1.0, \"#f0f921\"]]}, \"colorway\": [\"#636efa\", \"#EF553B\", \"#00cc96\", \"#ab63fa\", \"#FFA15A\", \"#19d3f3\", \"#FF6692\", \"#B6E880\", \"#FF97FF\", \"#FECB52\"], \"font\": {\"color\": \"#2a3f5f\"}, \"geo\": {\"bgcolor\": \"white\", \"lakecolor\": \"white\", \"landcolor\": \"#E5ECF6\", \"showlakes\": true, \"showland\": true, \"subunitcolor\": \"white\"}, \"hoverlabel\": {\"align\": \"left\"}, \"hovermode\": \"closest\", \"mapbox\": {\"style\": \"light\"}, \"paper_bgcolor\": \"white\", \"plot_bgcolor\": \"#E5ECF6\", \"polar\": {\"angularaxis\": {\"gridcolor\": \"white\", \"linecolor\": \"white\", \"ticks\": \"\"}, \"bgcolor\": \"#E5ECF6\", \"radialaxis\": {\"gridcolor\": \"white\", \"linecolor\": \"white\", \"ticks\": \"\"}}, \"scene\": {\"xaxis\": {\"backgroundcolor\": \"#E5ECF6\", \"gridcolor\": \"white\", \"gridwidth\": 2, \"linecolor\": \"white\", \"showbackground\": true, \"ticks\": \"\", \"zerolinecolor\": \"white\"}, \"yaxis\": {\"backgroundcolor\": \"#E5ECF6\", \"gridcolor\": \"white\", \"gridwidth\": 2, \"linecolor\": \"white\", \"showbackground\": true, \"ticks\": \"\", \"zerolinecolor\": \"white\"}, \"zaxis\": {\"backgroundcolor\": \"#E5ECF6\", \"gridcolor\": \"white\", \"gridwidth\": 2, \"linecolor\": \"white\", \"showbackground\": true, \"ticks\": \"\", \"zerolinecolor\": \"white\"}}, \"shapedefaults\": {\"line\": {\"color\": \"#2a3f5f\"}}, \"ternary\": {\"aaxis\": {\"gridcolor\": \"white\", \"linecolor\": \"white\", \"ticks\": \"\"}, \"baxis\": {\"gridcolor\": \"white\", \"linecolor\": \"white\", \"ticks\": \"\"}, \"bgcolor\": \"#E5ECF6\", \"caxis\": {\"gridcolor\": \"white\", \"linecolor\": \"white\", \"ticks\": \"\"}}, \"title\": {\"x\": 0.05}, \"xaxis\": {\"automargin\": true, \"gridcolor\": \"white\", \"linecolor\": \"white\", \"ticks\": \"\", \"zerolinecolor\": \"white\", \"zerolinewidth\": 2}, \"yaxis\": {\"automargin\": true, \"gridcolor\": \"white\", \"linecolor\": \"white\", \"ticks\": \"\", \"zerolinecolor\": \"white\", \"zerolinewidth\": 2}}}, \"title\": {\"text\": \"PQ303-Other \\n\\u041a\\u0430\\u043a\\u0443\\u044e \\u043f\\u0441\\u0438\\u0445\\u043e\\u043b\\u043e\\u0433\\u0438\\u0447\\u0435\\u0441\\u043a\\u0443\\u044e \\u0434\\u043e\\u043a\\u0443\\u043c\\u0435\\u043d\\u0442\\u0430\\u0446\\u0438\\u044e \\u0412\\u044b \\u0432\\u0435\\u0434\\u0435\\u0442\\u0435 \\u0432 \\u0443\\u0447\\u0440\\u0435\\u0436\\u0434\\u0435\\u043d\\u0438\\u0438? Count: 4202\"}},\n",
              "                        {\"responsive\": true}\n",
              "                    ).then(function(){\n",
              "                            \n",
              "var gd = document.getElementById('fb1dc9b9-cb8a-4648-a103-43c08e18f9bc');\n",
              "var x = new MutationObserver(function (mutations, observer) {{\n",
              "        var display = window.getComputedStyle(gd).display;\n",
              "        if (!display || display === 'none') {{\n",
              "            console.log([gd, 'removed!']);\n",
              "            Plotly.purge(gd);\n",
              "            observer.disconnect();\n",
              "        }}\n",
              "}});\n",
              "\n",
              "// Listen for the removal of the full notebook cells\n",
              "var notebookContainer = gd.closest('#notebook-container');\n",
              "if (notebookContainer) {{\n",
              "    x.observe(notebookContainer, {childList: true});\n",
              "}}\n",
              "\n",
              "// Listen for the clearing of the current output cell\n",
              "var outputEl = gd.closest('.output');\n",
              "if (outputEl) {{\n",
              "    x.observe(outputEl, {childList: true});\n",
              "}}\n",
              "\n",
              "                        })\n",
              "                };\n",
              "                \n",
              "            </script>\n",
              "        </div>\n",
              "</body>\n",
              "</html>"
            ]
          },
          "metadata": {
            "tags": []
          }
        },
        {
          "output_type": "stream",
          "text": [
            "\n"
          ],
          "name": "stderr"
        },
        {
          "output_type": "display_data",
          "data": {
            "text/html": [
              "<html>\n",
              "<head><meta charset=\"utf-8\" /></head>\n",
              "<body>\n",
              "    <div>\n",
              "            <script src=\"https://cdnjs.cloudflare.com/ajax/libs/mathjax/2.7.5/MathJax.js?config=TeX-AMS-MML_SVG\"></script><script type=\"text/javascript\">if (window.MathJax) {MathJax.Hub.Config({SVG: {font: \"STIX-Web\"}});}</script>\n",
              "                <script type=\"text/javascript\">window.PlotlyConfig = {MathJaxConfig: 'local'};</script>\n",
              "        <script src=\"https://cdn.plot.ly/plotly-latest.min.js\"></script>    \n",
              "            <div id=\"a447093e-cda1-4717-9f22-6c29669a4997\" class=\"plotly-graph-div\" style=\"height:525px; width:100%;\"></div>\n",
              "            <script type=\"text/javascript\">\n",
              "                \n",
              "                    window.PLOTLYENV=window.PLOTLYENV || {};\n",
              "                    \n",
              "                if (document.getElementById(\"a447093e-cda1-4717-9f22-6c29669a4997\")) {\n",
              "                    Plotly.newPlot(\n",
              "                        'a447093e-cda1-4717-9f22-6c29669a4997',\n",
              "                        [{\"marker\": {\"color\": \"rgb(158,202,225)\", \"line\": {\"color\": \"rgb(8,48,107)\", \"width\": 1.5}}, \"opacity\": 0.9, \"text\": [\"5.57\", \"7.39\", \"79.37\", \"0.0\", \"0.88\", \"4.37\"], \"textposition\": \"auto\", \"type\": \"bar\", \"x\": [\"positive\", \"negative\", \"neutral\", \"unknown\", \"speech\", \"skip\"], \"y\": [5.57, 7.39, 79.37, 0.0, 0.88, 4.37]}],\n",
              "                        {\"template\": {\"data\": {\"bar\": [{\"error_x\": {\"color\": \"#2a3f5f\"}, \"error_y\": {\"color\": \"#2a3f5f\"}, \"marker\": {\"line\": {\"color\": \"#E5ECF6\", \"width\": 0.5}}, \"type\": \"bar\"}], \"barpolar\": [{\"marker\": {\"line\": {\"color\": \"#E5ECF6\", \"width\": 0.5}}, \"type\": \"barpolar\"}], \"carpet\": [{\"aaxis\": {\"endlinecolor\": \"#2a3f5f\", \"gridcolor\": \"white\", \"linecolor\": \"white\", \"minorgridcolor\": \"white\", \"startlinecolor\": \"#2a3f5f\"}, \"baxis\": {\"endlinecolor\": \"#2a3f5f\", \"gridcolor\": \"white\", \"linecolor\": \"white\", \"minorgridcolor\": \"white\", \"startlinecolor\": \"#2a3f5f\"}, \"type\": \"carpet\"}], \"choropleth\": [{\"colorbar\": {\"outlinewidth\": 0, \"ticks\": \"\"}, \"type\": \"choropleth\"}], \"contour\": [{\"colorbar\": {\"outlinewidth\": 0, \"ticks\": \"\"}, \"colorscale\": [[0.0, \"#0d0887\"], [0.1111111111111111, \"#46039f\"], [0.2222222222222222, \"#7201a8\"], [0.3333333333333333, \"#9c179e\"], [0.4444444444444444, \"#bd3786\"], [0.5555555555555556, \"#d8576b\"], [0.6666666666666666, \"#ed7953\"], [0.7777777777777778, \"#fb9f3a\"], [0.8888888888888888, \"#fdca26\"], [1.0, \"#f0f921\"]], \"type\": \"contour\"}], \"contourcarpet\": [{\"colorbar\": {\"outlinewidth\": 0, \"ticks\": \"\"}, \"type\": \"contourcarpet\"}], \"heatmap\": [{\"colorbar\": {\"outlinewidth\": 0, \"ticks\": \"\"}, \"colorscale\": [[0.0, \"#0d0887\"], [0.1111111111111111, \"#46039f\"], [0.2222222222222222, \"#7201a8\"], [0.3333333333333333, \"#9c179e\"], [0.4444444444444444, \"#bd3786\"], [0.5555555555555556, \"#d8576b\"], [0.6666666666666666, \"#ed7953\"], [0.7777777777777778, \"#fb9f3a\"], [0.8888888888888888, \"#fdca26\"], [1.0, \"#f0f921\"]], \"type\": \"heatmap\"}], \"heatmapgl\": [{\"colorbar\": {\"outlinewidth\": 0, \"ticks\": \"\"}, \"colorscale\": [[0.0, \"#0d0887\"], [0.1111111111111111, \"#46039f\"], [0.2222222222222222, \"#7201a8\"], [0.3333333333333333, \"#9c179e\"], [0.4444444444444444, \"#bd3786\"], [0.5555555555555556, \"#d8576b\"], [0.6666666666666666, \"#ed7953\"], [0.7777777777777778, \"#fb9f3a\"], [0.8888888888888888, \"#fdca26\"], [1.0, \"#f0f921\"]], \"type\": \"heatmapgl\"}], \"histogram\": [{\"marker\": {\"colorbar\": {\"outlinewidth\": 0, \"ticks\": \"\"}}, \"type\": \"histogram\"}], \"histogram2d\": [{\"colorbar\": {\"outlinewidth\": 0, \"ticks\": \"\"}, \"colorscale\": [[0.0, \"#0d0887\"], [0.1111111111111111, \"#46039f\"], [0.2222222222222222, \"#7201a8\"], [0.3333333333333333, \"#9c179e\"], [0.4444444444444444, \"#bd3786\"], [0.5555555555555556, \"#d8576b\"], [0.6666666666666666, \"#ed7953\"], [0.7777777777777778, \"#fb9f3a\"], [0.8888888888888888, \"#fdca26\"], [1.0, \"#f0f921\"]], \"type\": \"histogram2d\"}], \"histogram2dcontour\": [{\"colorbar\": {\"outlinewidth\": 0, \"ticks\": \"\"}, \"colorscale\": [[0.0, \"#0d0887\"], [0.1111111111111111, \"#46039f\"], [0.2222222222222222, \"#7201a8\"], [0.3333333333333333, \"#9c179e\"], [0.4444444444444444, \"#bd3786\"], [0.5555555555555556, \"#d8576b\"], [0.6666666666666666, \"#ed7953\"], [0.7777777777777778, \"#fb9f3a\"], [0.8888888888888888, \"#fdca26\"], [1.0, \"#f0f921\"]], \"type\": \"histogram2dcontour\"}], \"mesh3d\": [{\"colorbar\": {\"outlinewidth\": 0, \"ticks\": \"\"}, \"type\": \"mesh3d\"}], \"parcoords\": [{\"line\": {\"colorbar\": {\"outlinewidth\": 0, \"ticks\": \"\"}}, \"type\": \"parcoords\"}], \"scatter\": [{\"marker\": {\"colorbar\": {\"outlinewidth\": 0, \"ticks\": \"\"}}, \"type\": \"scatter\"}], \"scatter3d\": [{\"line\": {\"colorbar\": {\"outlinewidth\": 0, \"ticks\": \"\"}}, \"marker\": {\"colorbar\": {\"outlinewidth\": 0, \"ticks\": \"\"}}, \"type\": \"scatter3d\"}], \"scattercarpet\": [{\"marker\": {\"colorbar\": {\"outlinewidth\": 0, \"ticks\": \"\"}}, \"type\": \"scattercarpet\"}], \"scattergeo\": [{\"marker\": {\"colorbar\": {\"outlinewidth\": 0, \"ticks\": \"\"}}, \"type\": \"scattergeo\"}], \"scattergl\": [{\"marker\": {\"colorbar\": {\"outlinewidth\": 0, \"ticks\": \"\"}}, \"type\": \"scattergl\"}], \"scattermapbox\": [{\"marker\": {\"colorbar\": {\"outlinewidth\": 0, \"ticks\": \"\"}}, \"type\": \"scattermapbox\"}], \"scatterpolar\": [{\"marker\": {\"colorbar\": {\"outlinewidth\": 0, \"ticks\": \"\"}}, \"type\": \"scatterpolar\"}], \"scatterpolargl\": [{\"marker\": {\"colorbar\": {\"outlinewidth\": 0, \"ticks\": \"\"}}, \"type\": \"scatterpolargl\"}], \"scatterternary\": [{\"marker\": {\"colorbar\": {\"outlinewidth\": 0, \"ticks\": \"\"}}, \"type\": \"scatterternary\"}], \"surface\": [{\"colorbar\": {\"outlinewidth\": 0, \"ticks\": \"\"}, \"colorscale\": [[0.0, \"#0d0887\"], [0.1111111111111111, \"#46039f\"], [0.2222222222222222, \"#7201a8\"], [0.3333333333333333, \"#9c179e\"], [0.4444444444444444, \"#bd3786\"], [0.5555555555555556, \"#d8576b\"], [0.6666666666666666, \"#ed7953\"], [0.7777777777777778, \"#fb9f3a\"], [0.8888888888888888, \"#fdca26\"], [1.0, \"#f0f921\"]], \"type\": \"surface\"}], \"table\": [{\"cells\": {\"fill\": {\"color\": \"#EBF0F8\"}, \"line\": {\"color\": \"white\"}}, \"header\": {\"fill\": {\"color\": \"#C8D4E3\"}, \"line\": {\"color\": \"white\"}}, \"type\": \"table\"}]}, \"layout\": {\"annotationdefaults\": {\"arrowcolor\": \"#2a3f5f\", \"arrowhead\": 0, \"arrowwidth\": 1}, \"colorscale\": {\"diverging\": [[0, \"#8e0152\"], [0.1, \"#c51b7d\"], [0.2, \"#de77ae\"], [0.3, \"#f1b6da\"], [0.4, \"#fde0ef\"], [0.5, \"#f7f7f7\"], [0.6, \"#e6f5d0\"], [0.7, \"#b8e186\"], [0.8, \"#7fbc41\"], [0.9, \"#4d9221\"], [1, \"#276419\"]], \"sequential\": [[0.0, \"#0d0887\"], [0.1111111111111111, \"#46039f\"], [0.2222222222222222, \"#7201a8\"], [0.3333333333333333, \"#9c179e\"], [0.4444444444444444, \"#bd3786\"], [0.5555555555555556, \"#d8576b\"], [0.6666666666666666, \"#ed7953\"], [0.7777777777777778, \"#fb9f3a\"], [0.8888888888888888, \"#fdca26\"], [1.0, \"#f0f921\"]], \"sequentialminus\": [[0.0, \"#0d0887\"], [0.1111111111111111, \"#46039f\"], [0.2222222222222222, \"#7201a8\"], [0.3333333333333333, \"#9c179e\"], [0.4444444444444444, \"#bd3786\"], [0.5555555555555556, \"#d8576b\"], [0.6666666666666666, \"#ed7953\"], [0.7777777777777778, \"#fb9f3a\"], [0.8888888888888888, \"#fdca26\"], [1.0, \"#f0f921\"]]}, \"colorway\": [\"#636efa\", \"#EF553B\", \"#00cc96\", \"#ab63fa\", \"#FFA15A\", \"#19d3f3\", \"#FF6692\", \"#B6E880\", \"#FF97FF\", \"#FECB52\"], \"font\": {\"color\": \"#2a3f5f\"}, \"geo\": {\"bgcolor\": \"white\", \"lakecolor\": \"white\", \"landcolor\": \"#E5ECF6\", \"showlakes\": true, \"showland\": true, \"subunitcolor\": \"white\"}, \"hoverlabel\": {\"align\": \"left\"}, \"hovermode\": \"closest\", \"mapbox\": {\"style\": \"light\"}, \"paper_bgcolor\": \"white\", \"plot_bgcolor\": \"#E5ECF6\", \"polar\": {\"angularaxis\": {\"gridcolor\": \"white\", \"linecolor\": \"white\", \"ticks\": \"\"}, \"bgcolor\": \"#E5ECF6\", \"radialaxis\": {\"gridcolor\": \"white\", \"linecolor\": \"white\", \"ticks\": \"\"}}, \"scene\": {\"xaxis\": {\"backgroundcolor\": \"#E5ECF6\", \"gridcolor\": \"white\", \"gridwidth\": 2, \"linecolor\": \"white\", \"showbackground\": true, \"ticks\": \"\", \"zerolinecolor\": \"white\"}, \"yaxis\": {\"backgroundcolor\": \"#E5ECF6\", \"gridcolor\": \"white\", \"gridwidth\": 2, \"linecolor\": \"white\", \"showbackground\": true, \"ticks\": \"\", \"zerolinecolor\": \"white\"}, \"zaxis\": {\"backgroundcolor\": \"#E5ECF6\", \"gridcolor\": \"white\", \"gridwidth\": 2, \"linecolor\": \"white\", \"showbackground\": true, \"ticks\": \"\", \"zerolinecolor\": \"white\"}}, \"shapedefaults\": {\"line\": {\"color\": \"#2a3f5f\"}}, \"ternary\": {\"aaxis\": {\"gridcolor\": \"white\", \"linecolor\": \"white\", \"ticks\": \"\"}, \"baxis\": {\"gridcolor\": \"white\", \"linecolor\": \"white\", \"ticks\": \"\"}, \"bgcolor\": \"#E5ECF6\", \"caxis\": {\"gridcolor\": \"white\", \"linecolor\": \"white\", \"ticks\": \"\"}}, \"title\": {\"x\": 0.05}, \"xaxis\": {\"automargin\": true, \"gridcolor\": \"white\", \"linecolor\": \"white\", \"ticks\": \"\", \"zerolinecolor\": \"white\", \"zerolinewidth\": 2}, \"yaxis\": {\"automargin\": true, \"gridcolor\": \"white\", \"linecolor\": \"white\", \"ticks\": \"\", \"zerolinecolor\": \"white\", \"zerolinewidth\": 2}}}, \"title\": {\"text\": \"PQ614 \\n\\u0423\\u043a\\u0430\\u0436\\u0438\\u0442\\u0435 \\u0412\\u0430\\u0448\\u0438 \\u043f\\u043e\\u0436\\u0435\\u043b\\u0430\\u043d\\u0438\\u044f \\u043f\\u043e \\u0440\\u0430\\u0437\\u0432\\u0438\\u0442\\u0438\\u044e \\u043f\\u0441\\u0438\\u0445\\u043e\\u043b\\u043e\\u0433\\u0438\\u0447\\u0435\\u0441\\u043a\\u043e\\u0439 \\u0441\\u043b\\u0443\\u0436\\u0431\\u044b \\u0432 \\u0441\\u0438\\u0441\\u0442\\u0435\\u043c\\u0435 \\u043e\\u0431\\u0440\\u0430\\u0437\\u043e\\u0432\\u0430\\u043d\\u0438\\u044f \\u0412\\u0430\\u0448\\u0435\\u0433\\u043e \\u0441\\u0443\\u0431\\u044a\\u0435\\u043a\\u0442\\u0430? Count: 15700\"}},\n",
              "                        {\"responsive\": true}\n",
              "                    ).then(function(){\n",
              "                            \n",
              "var gd = document.getElementById('a447093e-cda1-4717-9f22-6c29669a4997');\n",
              "var x = new MutationObserver(function (mutations, observer) {{\n",
              "        var display = window.getComputedStyle(gd).display;\n",
              "        if (!display || display === 'none') {{\n",
              "            console.log([gd, 'removed!']);\n",
              "            Plotly.purge(gd);\n",
              "            observer.disconnect();\n",
              "        }}\n",
              "}});\n",
              "\n",
              "// Listen for the removal of the full notebook cells\n",
              "var notebookContainer = gd.closest('#notebook-container');\n",
              "if (notebookContainer) {{\n",
              "    x.observe(notebookContainer, {childList: true});\n",
              "}}\n",
              "\n",
              "// Listen for the clearing of the current output cell\n",
              "var outputEl = gd.closest('.output');\n",
              "if (outputEl) {{\n",
              "    x.observe(outputEl, {childList: true});\n",
              "}}\n",
              "\n",
              "                        })\n",
              "                };\n",
              "                \n",
              "            </script>\n",
              "        </div>\n",
              "</body>\n",
              "</html>"
            ]
          },
          "metadata": {
            "tags": []
          }
        }
      ]
    },
    {
      "cell_type": "code",
      "metadata": {
        "id": "eS_2GVNqSN35",
        "colab_type": "code",
        "colab": {}
      },
      "source": [
        "import plotly.graph_objects as go\n",
        "def bar_tone_analysise_2(x,y,key='',question=''):\n",
        "  # Use the hovertext kw argument for hover text\n",
        "  fig = go.Figure(data=[go.Bar(x=x, y=y)])\n",
        "  # Customize aspect\n",
        "  fig.update_traces(marker_color='rgb(158,202,225)', marker_line_color='rgb(8,48,107)',\n",
        "                    marker_line_width=1.5, opacity=0.9)\n",
        "  fig.update_layout(title='' + ' ' + key, width=800, height=800)\n",
        "  fig.show()\n"
      ],
      "execution_count": 0,
      "outputs": []
    },
    {
      "cell_type": "code",
      "metadata": {
        "id": "eDFXhSYk3Rjr",
        "colab_type": "code",
        "outputId": "ecc0b80a-09f3-48d0-f054-4d0165e3427f",
        "colab": {
          "base_uri": "https://localhost:8080/",
          "height": 1000
        }
      },
      "source": [
        "from collections import Counter\n",
        "def count_words(column):\n",
        "  PQ303 = data_rus_text[column].dropna().apply(lambda x: preprocess_text(x))\n",
        "  a = listmerge2(PQ303.to_list())\n",
        "  a = [i.strip() for i in a if i != '']\n",
        "  res = Counter(a)\n",
        "  res = list(res.most_common())\n",
        "  return res\n",
        "\n",
        "for clmn in columns:\n",
        "  res = count_words(clmn)\n",
        "  bar_tone_analysise_2([i[0] for i in res if i[1] not in [1,2,3,4,5,6,7,8,9,10,11,12] and i[0] !=''], [i[1] for i in res if i[1] not  in [1,2,3,4,5,6,7,8,9,10,11] and i[0] !=''], key=columns[clmn])"
      ],
      "execution_count": 38,
      "outputs": [
        {
          "output_type": "display_data",
          "data": {
            "text/html": [
              "<html>\n",
              "<head><meta charset=\"utf-8\" /></head>\n",
              "<body>\n",
              "    <div>\n",
              "            <script src=\"https://cdnjs.cloudflare.com/ajax/libs/mathjax/2.7.5/MathJax.js?config=TeX-AMS-MML_SVG\"></script><script type=\"text/javascript\">if (window.MathJax) {MathJax.Hub.Config({SVG: {font: \"STIX-Web\"}});}</script>\n",
              "                <script type=\"text/javascript\">window.PlotlyConfig = {MathJaxConfig: 'local'};</script>\n",
              "        <script src=\"https://cdn.plot.ly/plotly-latest.min.js\"></script>    \n",
              "            <div id=\"cdbf5249-debc-4e82-9d40-af195804ebd0\" class=\"plotly-graph-div\" style=\"height:800px; width:800px;\"></div>\n",
              "            <script type=\"text/javascript\">\n",
              "                \n",
              "                    window.PLOTLYENV=window.PLOTLYENV || {};\n",
              "                    \n",
              "                if (document.getElementById(\"cdbf5249-debc-4e82-9d40-af195804ebd0\")) {\n",
              "                    Plotly.newPlot(\n",
              "                        'cdbf5249-debc-4e82-9d40-af195804ebd0',\n",
              "                        [{\"marker\": {\"color\": \"rgb(158,202,225)\", \"line\": {\"color\": \"rgb(8,48,107)\", \"width\": 1.5}}, \"opacity\": 0.9, \"type\": \"bar\", \"x\": [\"\\u0443\\u0447\\u0438\\u0442\\u0435\\u043b\\u044c \\u043d\\u0430\\u0447\\u0430\\u043b\\u044c\\u043d\\u044b\\u0445 \\u043a\\u043b\\u0430\\u0441\\u0441\\u043e\\u0432\", \"\\u0443\\u0447\\u0438\\u0442\\u0435\\u043b\\u044c \\u043f\\u0440\\u0435\\u0434\\u043c\\u0435\\u0442\\u043d\\u0438\\u043a\", \"\\u0432\\u043d\\u0435\\u0443\\u0440\\u043e\\u0447\\u043d\\u0430\\u044f \\u0434\\u0435\\u044f\\u0442\\u0435\\u043b\\u044c\\u043d\\u043e\\u0441\\u0442\\u044c\", \"\\u0443\\u0447\\u0438\\u0442\\u0435\\u043b\\u044c\", \"\\u0441\\u043e\\u0446\\u0438\\u0430\\u043b\\u044c\\u043d\\u044b\\u0439 \\u043f\\u0435\\u0434\\u0430\\u0433\\u043e\\u0433\", \"\\u0443\\u0440\\u043e\\u043a\\u0438\", \"\\u0434\\u0435\\u0436\\u0443\\u0440\\u0441\\u0442\\u0432\\u043e \\u0448\\u043a\\u043e\\u043b\\u0435\", \"\\u0443\\u0447\\u0438\\u0442\\u0435\\u043b\\u044c \\u0440\\u0443\\u0441\\u0441\\u043a\\u043e\\u0433\\u043e \\u044f\\u0437\\u044b\\u043a\\u0430 \\u043b\\u0438\\u0442\\u0435\\u0440\\u0430\\u0442\\u0443\\u0440\\u044b\", \"\\u043c\\u0435\\u0434\\u0438\\u0430\\u0446\\u0438\\u044f\", \"\\u0431\\u0438\\u0431\\u043b\\u0438\\u043e\\u0442\\u0435\\u043a\\u0430\\u0440\\u044c\", \"\\u0437\\u0430\\u043c\\u0435\\u0441\\u0442\\u0438\\u0442\\u0435\\u043b\\u044c \\u0434\\u0438\\u0440\\u0435\\u043a\\u0442\\u043e\\u0440\\u0430 \\u0443\\u0432\\u0440\", \"\\u0441\\u043e\\u0432\\u043c\\u0435\\u0441\\u0442\\u0438\\u0442\\u0435\\u043b\\u044c\\u0441\\u0442\\u0432\\u043e\", \"\\u0432\\u0435\\u0434\\u0435\\u043d\\u0438\\u0435 \\u0443\\u0440\\u043e\\u043a\\u043e\\u0432\", \"\\u0443\\u0447\\u0438\\u0442\\u0435\\u043b\\u044c \\u043c\\u0430\\u0442\\u0435\\u043c\\u0430\\u0442\\u0438\\u043a\\u0438\", \"\\u043f\\u0440\\u043e\\u0432\\u0435\\u0434\\u0435\\u043d\\u0438\\u0435 \\u0443\\u0440\\u043e\\u043a\\u043e\\u0432\", \"\\u0437\\u0430\\u043c\\u0435\\u0441\\u0442\\u0438\\u0442\\u0435\\u043b\\u044c \\u0434\\u0438\\u0440\\u0435\\u043a\\u0442\\u043e\\u0440\\u0430\", \"\\u0443\\u043f\\u043e\\u043b\\u043d\\u043e\\u043c\\u043e\\u0447\\u0435\\u043d\\u043d\\u044b\\u0439 \\u043f\\u0440\\u0430\\u0432\\u0430\\u043c \\u0440\\u0435\\u0431\\u0435\\u043d\\u043a\\u0430\", \"\\u0443\\u0447\\u0438\\u0442\\u0435\\u043b\\u044c \\u0433\\u0435\\u043e\\u0433\\u0440\\u0430\\u0444\\u0438\\u0438\", \"\\u0441\\u0442\\u0430\\u0432\\u043a\\u0438\", \"\\u0448\\u043a\\u043e\\u043b\\u044c\\u043d\\u0430\\u044f \\u0441\\u043b\\u0443\\u0436\\u0431\\u0430 \\u043f\\u0440\\u0438\\u043c\\u0438\\u0440\\u0435\\u043d\\u0438\\u044f\", \"\\u0434\\u0435\\u0436\\u0443\\u0440\\u0441\\u0442\\u0432\\u043e\", \"\\u043e\\u0433\\u044d\", \"\\u0435\\u0433\\u044d\", \"\\u0432\\u043f\\u0440\", \"\\u043f\\u0440\\u0435\\u043f\\u043e\\u0434\\u0430\\u0432\\u0430\\u043d\\u0438\\u0435\", \"\\u0441\\u043e\\u043f\\u0440\\u043e\\u0432\\u043e\\u0436\\u0434\\u0435\\u043d\\u0438\\u0435 \\u0434\\u0435\\u0442\\u0435\\u0439 \\u0440\\u0430\\u0437\\u043b\\u0438\\u0447\\u043d\\u044b\\u0435 \\u043c\\u0435\\u0440\\u043e\\u043f\\u0440\\u0438\\u044f\\u0442\\u0438\\u044f\", \"\\u043f\\u0440\\u043e\\u0444\\u043e\\u0440\\u0438\\u0435\\u043d\\u0442\\u0430\\u0446\\u0438\\u044f\", \"\\u043a\\u0440\\u0443\\u0436\\u043e\\u043a\", \"\\u0443\\u0447\\u0438\\u0442\\u0435\\u043b\\u044c \\u0430\\u043d\\u0433\\u043b\\u0438\\u0439\\u0441\\u043a\\u043e\\u0433\\u043e \\u044f\\u0437\\u044b\\u043a\\u0430\", \"\\u0443\\u0447\\u0438\\u0442\\u0435\\u043b\\u044c \\u043c\\u0443\\u0437\\u044b\\u043a\\u0438\", \"\\u043e\\u0441\\u043d\\u043e\\u0432\\u043d\\u0430\\u044f \\u0434\\u043e\\u043b\\u0436\\u043d\\u043e\\u0441\\u0442\\u044c \\u0443\\u0447\\u0438\\u0442\\u0435\\u043b\\u044c\"], \"y\": [125, 102, 78, 76, 71, 35, 31, 24, 21, 20, 20, 19, 19, 18, 18, 18, 16, 16, 15, 15, 15, 14, 14, 14, 14, 13, 13, 13, 13, 13, 13, 12, 12, 12, 12, 12, 12]}],\n",
              "                        {\"height\": 800, \"template\": {\"data\": {\"bar\": [{\"error_x\": {\"color\": \"#2a3f5f\"}, \"error_y\": {\"color\": \"#2a3f5f\"}, \"marker\": {\"line\": {\"color\": \"#E5ECF6\", \"width\": 0.5}}, \"type\": \"bar\"}], \"barpolar\": [{\"marker\": {\"line\": {\"color\": \"#E5ECF6\", \"width\": 0.5}}, \"type\": \"barpolar\"}], \"carpet\": [{\"aaxis\": {\"endlinecolor\": \"#2a3f5f\", \"gridcolor\": \"white\", \"linecolor\": \"white\", \"minorgridcolor\": \"white\", \"startlinecolor\": \"#2a3f5f\"}, \"baxis\": {\"endlinecolor\": \"#2a3f5f\", \"gridcolor\": \"white\", \"linecolor\": \"white\", \"minorgridcolor\": \"white\", \"startlinecolor\": \"#2a3f5f\"}, \"type\": \"carpet\"}], \"choropleth\": [{\"colorbar\": {\"outlinewidth\": 0, \"ticks\": \"\"}, \"type\": \"choropleth\"}], \"contour\": [{\"colorbar\": {\"outlinewidth\": 0, \"ticks\": \"\"}, \"colorscale\": [[0.0, \"#0d0887\"], [0.1111111111111111, \"#46039f\"], [0.2222222222222222, \"#7201a8\"], [0.3333333333333333, \"#9c179e\"], [0.4444444444444444, \"#bd3786\"], [0.5555555555555556, \"#d8576b\"], [0.6666666666666666, \"#ed7953\"], [0.7777777777777778, \"#fb9f3a\"], [0.8888888888888888, \"#fdca26\"], [1.0, \"#f0f921\"]], \"type\": \"contour\"}], \"contourcarpet\": [{\"colorbar\": {\"outlinewidth\": 0, \"ticks\": \"\"}, \"type\": \"contourcarpet\"}], \"heatmap\": [{\"colorbar\": {\"outlinewidth\": 0, \"ticks\": \"\"}, \"colorscale\": [[0.0, \"#0d0887\"], [0.1111111111111111, \"#46039f\"], [0.2222222222222222, \"#7201a8\"], [0.3333333333333333, \"#9c179e\"], [0.4444444444444444, \"#bd3786\"], [0.5555555555555556, \"#d8576b\"], [0.6666666666666666, \"#ed7953\"], [0.7777777777777778, \"#fb9f3a\"], [0.8888888888888888, \"#fdca26\"], [1.0, \"#f0f921\"]], \"type\": \"heatmap\"}], \"heatmapgl\": [{\"colorbar\": {\"outlinewidth\": 0, \"ticks\": \"\"}, \"colorscale\": [[0.0, \"#0d0887\"], [0.1111111111111111, \"#46039f\"], [0.2222222222222222, \"#7201a8\"], [0.3333333333333333, \"#9c179e\"], [0.4444444444444444, \"#bd3786\"], [0.5555555555555556, \"#d8576b\"], [0.6666666666666666, \"#ed7953\"], [0.7777777777777778, \"#fb9f3a\"], [0.8888888888888888, \"#fdca26\"], [1.0, \"#f0f921\"]], \"type\": \"heatmapgl\"}], \"histogram\": [{\"marker\": {\"colorbar\": {\"outlinewidth\": 0, \"ticks\": \"\"}}, \"type\": \"histogram\"}], \"histogram2d\": [{\"colorbar\": {\"outlinewidth\": 0, \"ticks\": \"\"}, \"colorscale\": [[0.0, \"#0d0887\"], [0.1111111111111111, \"#46039f\"], [0.2222222222222222, \"#7201a8\"], [0.3333333333333333, \"#9c179e\"], [0.4444444444444444, \"#bd3786\"], [0.5555555555555556, \"#d8576b\"], [0.6666666666666666, \"#ed7953\"], [0.7777777777777778, \"#fb9f3a\"], [0.8888888888888888, \"#fdca26\"], [1.0, \"#f0f921\"]], \"type\": \"histogram2d\"}], \"histogram2dcontour\": [{\"colorbar\": {\"outlinewidth\": 0, \"ticks\": \"\"}, \"colorscale\": [[0.0, \"#0d0887\"], [0.1111111111111111, \"#46039f\"], [0.2222222222222222, \"#7201a8\"], [0.3333333333333333, \"#9c179e\"], [0.4444444444444444, \"#bd3786\"], [0.5555555555555556, \"#d8576b\"], [0.6666666666666666, \"#ed7953\"], [0.7777777777777778, \"#fb9f3a\"], [0.8888888888888888, \"#fdca26\"], [1.0, \"#f0f921\"]], \"type\": \"histogram2dcontour\"}], \"mesh3d\": [{\"colorbar\": {\"outlinewidth\": 0, \"ticks\": \"\"}, \"type\": \"mesh3d\"}], \"parcoords\": [{\"line\": {\"colorbar\": {\"outlinewidth\": 0, \"ticks\": \"\"}}, \"type\": \"parcoords\"}], \"scatter\": [{\"marker\": {\"colorbar\": {\"outlinewidth\": 0, \"ticks\": \"\"}}, \"type\": \"scatter\"}], \"scatter3d\": [{\"line\": {\"colorbar\": {\"outlinewidth\": 0, \"ticks\": \"\"}}, \"marker\": {\"colorbar\": {\"outlinewidth\": 0, \"ticks\": \"\"}}, \"type\": \"scatter3d\"}], \"scattercarpet\": [{\"marker\": {\"colorbar\": {\"outlinewidth\": 0, \"ticks\": \"\"}}, \"type\": \"scattercarpet\"}], \"scattergeo\": [{\"marker\": {\"colorbar\": {\"outlinewidth\": 0, \"ticks\": \"\"}}, \"type\": \"scattergeo\"}], \"scattergl\": [{\"marker\": {\"colorbar\": {\"outlinewidth\": 0, \"ticks\": \"\"}}, \"type\": \"scattergl\"}], \"scattermapbox\": [{\"marker\": {\"colorbar\": {\"outlinewidth\": 0, \"ticks\": \"\"}}, \"type\": \"scattermapbox\"}], \"scatterpolar\": [{\"marker\": {\"colorbar\": {\"outlinewidth\": 0, \"ticks\": \"\"}}, \"type\": \"scatterpolar\"}], \"scatterpolargl\": [{\"marker\": {\"colorbar\": {\"outlinewidth\": 0, \"ticks\": \"\"}}, \"type\": \"scatterpolargl\"}], \"scatterternary\": [{\"marker\": {\"colorbar\": {\"outlinewidth\": 0, \"ticks\": \"\"}}, \"type\": \"scatterternary\"}], \"surface\": [{\"colorbar\": {\"outlinewidth\": 0, \"ticks\": \"\"}, \"colorscale\": [[0.0, \"#0d0887\"], [0.1111111111111111, \"#46039f\"], [0.2222222222222222, \"#7201a8\"], [0.3333333333333333, \"#9c179e\"], [0.4444444444444444, \"#bd3786\"], [0.5555555555555556, \"#d8576b\"], [0.6666666666666666, \"#ed7953\"], [0.7777777777777778, \"#fb9f3a\"], [0.8888888888888888, \"#fdca26\"], [1.0, \"#f0f921\"]], \"type\": \"surface\"}], \"table\": [{\"cells\": {\"fill\": {\"color\": \"#EBF0F8\"}, \"line\": {\"color\": \"white\"}}, \"header\": {\"fill\": {\"color\": \"#C8D4E3\"}, \"line\": {\"color\": \"white\"}}, \"type\": \"table\"}]}, \"layout\": {\"annotationdefaults\": {\"arrowcolor\": \"#2a3f5f\", \"arrowhead\": 0, \"arrowwidth\": 1}, \"colorscale\": {\"diverging\": [[0, \"#8e0152\"], [0.1, \"#c51b7d\"], [0.2, \"#de77ae\"], [0.3, \"#f1b6da\"], [0.4, \"#fde0ef\"], [0.5, \"#f7f7f7\"], [0.6, \"#e6f5d0\"], [0.7, \"#b8e186\"], [0.8, \"#7fbc41\"], [0.9, \"#4d9221\"], [1, \"#276419\"]], \"sequential\": [[0.0, \"#0d0887\"], [0.1111111111111111, \"#46039f\"], [0.2222222222222222, \"#7201a8\"], [0.3333333333333333, \"#9c179e\"], [0.4444444444444444, \"#bd3786\"], [0.5555555555555556, \"#d8576b\"], [0.6666666666666666, \"#ed7953\"], [0.7777777777777778, \"#fb9f3a\"], [0.8888888888888888, \"#fdca26\"], [1.0, \"#f0f921\"]], \"sequentialminus\": [[0.0, \"#0d0887\"], [0.1111111111111111, \"#46039f\"], [0.2222222222222222, \"#7201a8\"], [0.3333333333333333, \"#9c179e\"], [0.4444444444444444, \"#bd3786\"], [0.5555555555555556, \"#d8576b\"], [0.6666666666666666, \"#ed7953\"], [0.7777777777777778, \"#fb9f3a\"], [0.8888888888888888, \"#fdca26\"], [1.0, \"#f0f921\"]]}, \"colorway\": [\"#636efa\", \"#EF553B\", \"#00cc96\", \"#ab63fa\", \"#FFA15A\", \"#19d3f3\", \"#FF6692\", \"#B6E880\", \"#FF97FF\", \"#FECB52\"], \"font\": {\"color\": \"#2a3f5f\"}, \"geo\": {\"bgcolor\": \"white\", \"lakecolor\": \"white\", \"landcolor\": \"#E5ECF6\", \"showlakes\": true, \"showland\": true, \"subunitcolor\": \"white\"}, \"hoverlabel\": {\"align\": \"left\"}, \"hovermode\": \"closest\", \"mapbox\": {\"style\": \"light\"}, \"paper_bgcolor\": \"white\", \"plot_bgcolor\": \"#E5ECF6\", \"polar\": {\"angularaxis\": {\"gridcolor\": \"white\", \"linecolor\": \"white\", \"ticks\": \"\"}, \"bgcolor\": \"#E5ECF6\", \"radialaxis\": {\"gridcolor\": \"white\", \"linecolor\": \"white\", \"ticks\": \"\"}}, \"scene\": {\"xaxis\": {\"backgroundcolor\": \"#E5ECF6\", \"gridcolor\": \"white\", \"gridwidth\": 2, \"linecolor\": \"white\", \"showbackground\": true, \"ticks\": \"\", \"zerolinecolor\": \"white\"}, \"yaxis\": {\"backgroundcolor\": \"#E5ECF6\", \"gridcolor\": \"white\", \"gridwidth\": 2, \"linecolor\": \"white\", \"showbackground\": true, \"ticks\": \"\", \"zerolinecolor\": \"white\"}, \"zaxis\": {\"backgroundcolor\": \"#E5ECF6\", \"gridcolor\": \"white\", \"gridwidth\": 2, \"linecolor\": \"white\", \"showbackground\": true, \"ticks\": \"\", \"zerolinecolor\": \"white\"}}, \"shapedefaults\": {\"line\": {\"color\": \"#2a3f5f\"}}, \"ternary\": {\"aaxis\": {\"gridcolor\": \"white\", \"linecolor\": \"white\", \"ticks\": \"\"}, \"baxis\": {\"gridcolor\": \"white\", \"linecolor\": \"white\", \"ticks\": \"\"}, \"bgcolor\": \"#E5ECF6\", \"caxis\": {\"gridcolor\": \"white\", \"linecolor\": \"white\", \"ticks\": \"\"}}, \"title\": {\"x\": 0.05}, \"xaxis\": {\"automargin\": true, \"gridcolor\": \"white\", \"linecolor\": \"white\", \"ticks\": \"\", \"zerolinecolor\": \"white\", \"zerolinewidth\": 2}, \"yaxis\": {\"automargin\": true, \"gridcolor\": \"white\", \"linecolor\": \"white\", \"ticks\": \"\", \"zerolinecolor\": \"white\", \"zerolinewidth\": 2}}}, \"title\": {\"text\": \" \\u0415\\u0441\\u0442\\u044c \\u043b\\u0438 \\u0443 \\u0412\\u0430\\u0441 \\u0435\\u0449\\u0435 \\u043a\\u0430\\u043a\\u0438\\u0435-\\u043b\\u0438\\u0431\\u043e \\u043e\\u0431\\u044f\\u0437\\u0430\\u043d\\u043d\\u043e\\u0441\\u0442\\u0438 \\u0432 \\u0448\\u043a\\u043e\\u043b\\u0435, \\u043f\\u0440\\u044f\\u043c\\u043e \\u043d\\u0435 \\u043e\\u0442\\u043d\\u043e\\u0441\\u044f\\u0449\\u0438\\u0435\\u0441\\u044f \\u043a \\u0412\\u0430\\u0448\\u0435\\u0439 \\u043f\\u0441\\u0438\\u0445\\u043e\\u043b\\u043e\\u0433\\u0438\\u0447\\u0435\\u0441\\u043a\\u043e\\u0439 \\u0434\\u0435\\u044f\\u0442\\u0435\\u043b\\u044c\\u043d\\u043e\\u0441\\u0442\\u0438? Count:3694\"}, \"width\": 800},\n",
              "                        {\"responsive\": true}\n",
              "                    ).then(function(){\n",
              "                            \n",
              "var gd = document.getElementById('cdbf5249-debc-4e82-9d40-af195804ebd0');\n",
              "var x = new MutationObserver(function (mutations, observer) {{\n",
              "        var display = window.getComputedStyle(gd).display;\n",
              "        if (!display || display === 'none') {{\n",
              "            console.log([gd, 'removed!']);\n",
              "            Plotly.purge(gd);\n",
              "            observer.disconnect();\n",
              "        }}\n",
              "}});\n",
              "\n",
              "// Listen for the removal of the full notebook cells\n",
              "var notebookContainer = gd.closest('#notebook-container');\n",
              "if (notebookContainer) {{\n",
              "    x.observe(notebookContainer, {childList: true});\n",
              "}}\n",
              "\n",
              "// Listen for the clearing of the current output cell\n",
              "var outputEl = gd.closest('.output');\n",
              "if (outputEl) {{\n",
              "    x.observe(outputEl, {childList: true});\n",
              "}}\n",
              "\n",
              "                        })\n",
              "                };\n",
              "                \n",
              "            </script>\n",
              "        </div>\n",
              "</body>\n",
              "</html>"
            ]
          },
          "metadata": {
            "tags": []
          }
        },
        {
          "output_type": "display_data",
          "data": {
            "text/html": [
              "<html>\n",
              "<head><meta charset=\"utf-8\" /></head>\n",
              "<body>\n",
              "    <div>\n",
              "            <script src=\"https://cdnjs.cloudflare.com/ajax/libs/mathjax/2.7.5/MathJax.js?config=TeX-AMS-MML_SVG\"></script><script type=\"text/javascript\">if (window.MathJax) {MathJax.Hub.Config({SVG: {font: \"STIX-Web\"}});}</script>\n",
              "                <script type=\"text/javascript\">window.PlotlyConfig = {MathJaxConfig: 'local'};</script>\n",
              "        <script src=\"https://cdn.plot.ly/plotly-latest.min.js\"></script>    \n",
              "            <div id=\"2c011288-2b5e-4347-af9c-24806ee3da75\" class=\"plotly-graph-div\" style=\"height:800px; width:800px;\"></div>\n",
              "            <script type=\"text/javascript\">\n",
              "                \n",
              "                    window.PLOTLYENV=window.PLOTLYENV || {};\n",
              "                    \n",
              "                if (document.getElementById(\"2c011288-2b5e-4347-af9c-24806ee3da75\")) {\n",
              "                    Plotly.newPlot(\n",
              "                        '2c011288-2b5e-4347-af9c-24806ee3da75',\n",
              "                        [{\"marker\": {\"color\": \"rgb(158,202,225)\", \"line\": {\"color\": \"rgb(8,48,107)\", \"width\": 1.5}}, \"opacity\": 0.9, \"type\": \"bar\", \"x\": [\"\\u0436\\u0443\\u0440\\u043d\\u0430\\u043b \\u043a\\u043e\\u043d\\u0441\\u0443\\u043b\\u044c\\u0442\\u0430\\u0446\\u0438\\u0439\", \"\\u0436\\u0443\\u0440\\u043d\\u0430\\u043b \\u0438\\u043d\\u0434\\u0438\\u0432\\u0438\\u0434\\u0443\\u0430\\u043b\\u044c\\u043d\\u044b\\u0445 \\u0437\\u0430\\u043d\\u044f\\u0442\\u0438\\u0439\", \"\\u0436\\u0443\\u0440\\u043d\\u0430\\u043b \\u0438\\u043d\\u0434\\u0438\\u0432\\u0438\\u0434\\u0443\\u0430\\u043b\\u044c\\u043d\\u044b\\u0445 \\u043a\\u043e\\u043d\\u0441\\u0443\\u043b\\u044c\\u0442\\u0430\\u0446\\u0438\\u0439\", \"\\u0446\\u0438\\u043a\\u043b\\u043e\\u0433\\u0440\\u0430\\u043c\\u043c\\u0430 \\u0440\\u0430\\u0431\\u043e\\u0447\\u0435\\u0433\\u043e \\u0432\\u0440\\u0435\\u043c\\u0435\\u043d\\u0438\", \"\\u0446\\u0438\\u043a\\u043b\\u043e\\u0433\\u0440\\u0430\\u043c\\u043c\\u0430\", \"\\u043e\\u0442\\u0447\\u0435\\u0442\\u044b\", \"\\u0436\\u0443\\u0440\\u043d\\u0430\\u043b \\u0438\\u043d\\u0434\\u0438\\u0432\\u0438\\u0434\\u0443\\u0430\\u043b\\u044c\\u043d\\u043e\\u0439 \\u0440\\u0430\\u0431\\u043e\\u0442\\u044b\", \"\\u0436\\u0443\\u0440\\u043d\\u0430\\u043b \\u0443\\u0447\\u0435\\u0442\\u0430 \\u0440\\u0430\\u0431\\u043e\\u0447\\u0435\\u0433\\u043e \\u0432\\u0440\\u0435\\u043c\\u0435\\u043d\\u0438\", \"\\u043a\\u043e\\u043d\\u0441\\u0443\\u043b\\u044c\\u0442\\u0430\\u0446\\u0438\\u0439\", \"\\u0436\\u0443\\u0440\\u043d\\u0430\\u043b \\u0443\\u0447\\u0435\\u0442\\u0430 \\u0432\\u0438\\u0434\\u043e\\u0432 \\u0434\\u0435\\u044f\\u0442\\u0435\\u043b\\u044c\\u043d\\u043e\\u0441\\u0442\\u0438\", \"\\u0436\\u0443\\u0440\\u043d\\u0430\\u043b \\u0443\\u0447\\u0435\\u0442\\u0430 \\u0432\\u0438\\u0434\\u043e\\u0432 \\u0440\\u0430\\u0431\\u043e\\u0442\", \"\\u0436\\u0443\\u0440\\u043d\\u0430\\u043b\\u044b \\u043a\\u043e\\u043d\\u0441\\u0443\\u043b\\u044c\\u0442\\u0430\\u0446\\u0438\\u0439\", \"\\u0430\\u043d\\u0430\\u043b\\u0438\\u0442\\u0438\\u0447\\u0435\\u0441\\u043a\\u0438\\u0435 \\u0441\\u043f\\u0440\\u0430\\u0432\\u043a\\u0438\", \"\\u0436\\u0443\\u0440\\u043d\\u0430\\u043b \\u0434\\u0438\\u0430\\u0433\\u043d\\u043e\\u0441\\u0442\\u0438\\u0447\\u0435\\u0441\\u043a\\u043e\\u0439 \\u0440\\u0430\\u0431\\u043e\\u0442\\u044b\", \"\\u0430\\u043d\\u0430\\u043b\\u0438\\u0442\\u0438\\u0447\\u0435\\u0441\\u043a\\u0438\\u0439 \\u043e\\u0442\\u0447\\u0435\\u0442\", \"\\u0436\\u0443\\u0440\\u043d\\u0430\\u043b \\u0434\\u0438\\u0430\\u0433\\u043d\\u043e\\u0441\\u0442\\u0438\\u043a\\u0438\", \"\\u0436\\u0443\\u0440\\u043d\\u0430\\u043b \\u0443\\u0447\\u0435\\u0442\\u0430 \\u043a\\u043e\\u043d\\u0441\\u0443\\u043b\\u044c\\u0442\\u0430\\u0446\\u0438\\u0439\", \"\\u0440\\u0430\\u0441\\u043f\\u0438\\u0441\\u0430\\u043d\\u0438\\u0435 \\u0438\\u043d\\u0434\\u0438\\u0432\\u0438\\u0434\\u0443\\u0430\\u043b\\u044c\\u043d\\u044b\\u0445 \\u0437\\u0430\\u043d\\u044f\\u0442\\u0438\\u0439\", \"\\u0434\\u043e\\u043a\\u0443\\u043c\\u0435\\u043d\\u0442\\u0430\\u0446\\u0438\\u044f \\u043f\\u043c\\u043f\\u043a\", \"\\u0436\\u0443\\u0440\\u043d\\u0430\\u043b \\u043e\\u0440\\u0433\\u0430\\u043d\\u0438\\u0437\\u0430\\u0446\\u0438\\u043e\\u043d\\u043d\\u043e \\u043c\\u0435\\u0442\\u043e\\u0434\\u0438\\u0447\\u0435\\u0441\\u043a\\u043e\\u0439 \\u0440\\u0430\\u0431\\u043e\\u0442\\u044b\", \"\\u043f\\u0440\\u043e\\u0442\\u043e\\u043a\\u043e\\u043b\\u044b \\u043f\\u043c\\u043f\\u043a\", \"\\u0430\\u043d\\u0430\\u043b\\u0438\\u0442\\u0438\\u0447\\u0435\\u0441\\u043a\\u0438\\u0435 \\u043e\\u0442\\u0447\\u0435\\u0442\\u044b\", \"\\u043f\\u0435\\u0434\\u0430\\u0433\\u043e\\u0433\\u043e\\u0432\", \"\\u043f\\u0435\\u0434\\u0430\\u0433\\u043e\\u0433\\u0430\\u043c\\u0438\", \"\\u0440\\u0430\\u0431\\u043e\\u0447\\u0438\\u0439 \\u0436\\u0443\\u0440\\u043d\\u0430\\u043b \\u043f\\u0435\\u0434\\u0430\\u0433\\u043e\\u0433\\u0430 \\u043f\\u0441\\u0438\\u0445\\u043e\\u043b\\u043e\\u0433\\u0430\", \"\\u0436\\u0443\\u0440\\u043d\\u0430\\u043b \\u0438\\u043d\\u0434\\u0438\\u0432\\u0438\\u0434\\u0443\\u0430\\u043b\\u044c\\u043d\\u044b\\u0445 \\u043a\\u043e\\u0440\\u0440\\u0435\\u043a\\u0446\\u0438\\u043e\\u043d\\u043d\\u043e \\u0440\\u0430\\u0437\\u0432\\u0438\\u0432\\u0430\\u044e\\u0449\\u0438\\u0445 \\u0437\\u0430\\u043d\\u044f\\u0442\\u0438\\u0439\", \"\\u0436\\u0443\\u0440\\u043d\\u0430\\u043b \\u043a\\u043e\\u043d\\u0441\\u0443\\u043b\\u044c\\u0442\\u0430\\u0446\\u0438\\u0439 \\u0440\\u043e\\u0434\\u0438\\u0442\\u0435\\u043b\\u044f\\u043c\\u0438\", \"\\u0436\\u0443\\u0440\\u043d\\u0430\\u043b \\u043a\\u043e\\u043d\\u0441\\u0443\\u043b\\u044c\\u0442\\u0430\\u0446\\u0438\\u0439 \\u0440\\u043e\\u0434\\u0438\\u0442\\u0435\\u043b\\u0435\\u0439\", \"\\u043f\\u043c\\u043f\\u043a\", \"\\u0440\\u043e\\u0434\\u0438\\u0442\\u0435\\u043b\\u044f\\u043c\\u0438\", \"\\u0436\\u0443\\u0440\\u043d\\u0430\\u043b \\u043a\\u043e\\u0440\\u0440\\u0435\\u043a\\u0446\\u0438\\u043e\\u043d\\u043d\\u044b\\u0445 \\u0437\\u0430\\u043d\\u044f\\u0442\\u0438\\u0439\", \"\\u0436\\u0443\\u0440\\u043d\\u0430\\u043b \\u0443\\u0447\\u0435\\u0442\\u0430 \\u0438\\u043d\\u0434\\u0438\\u0432\\u0438\\u0434\\u0443\\u0430\\u043b\\u044c\\u043d\\u044b\\u0445 \\u043a\\u043e\\u043d\\u0441\\u0443\\u043b\\u044c\\u0442\\u0430\\u0446\\u0438\\u0439\", \"\\u0436\\u0443\\u0440\\u043d\\u0430\\u043b \\u0438\\u043d\\u0434\\u0438\\u0432\\u0438\\u0434\\u0443\\u0430\\u043b\\u044c\\u043d\\u044b\\u0445 \\u0433\\u0440\\u0443\\u043f\\u043f\\u043e\\u0432\\u044b\\u0445 \\u043a\\u043e\\u043d\\u0441\\u0443\\u043b\\u044c\\u0442\\u0430\\u0446\\u0438\\u0439\", \"\\u0440\\u043e\\u0434\\u0438\\u0442\\u0435\\u043b\\u0435\\u0439\", \"\\u0436\\u0443\\u0440\\u043d\\u0430\\u043b \\u0438\\u043d\\u0434\\u0438\\u0432\\u0438\\u0434\\u0443\\u0430\\u043b\\u044c\\u043d\\u044b\\u0445 \\u043a\\u043e\\u0440\\u0440\\u0435\\u043a\\u0446\\u0438\\u043e\\u043d\\u043d\\u044b\\u0445 \\u0437\\u0430\\u043d\\u044f\\u0442\\u0438\\u0439\", \"\\u0430\\u043d\\u0430\\u043b\\u0438\\u0437 \\u0440\\u0430\\u0431\\u043e\\u0442\\u044b\", \"\\u0436\\u0443\\u0440\\u043d\\u0430\\u043b \\u0443\\u0447\\u0435\\u0442\\u0430 \\u0438\\u043d\\u0434\\u0438\\u0432\\u0438\\u0434\\u0443\\u0430\\u043b\\u044c\\u043d\\u044b\\u0445 \\u0437\\u0430\\u043d\\u044f\\u0442\\u0438\\u0439\", \"\\u043f\\u0440\\u043e\\u0442\\u043e\\u043a\\u043e\\u043b\\u044b\", \"\\u0436\\u0443\\u0440\\u043d\\u0430\\u043b \\u043c\\u0435\\u0442\\u043e\\u0434\\u0438\\u0447\\u0435\\u0441\\u043a\\u043e\\u0439 \\u0440\\u0430\\u0431\\u043e\\u0442\\u044b\", \"\\u0436\\u0443\\u0440\\u043d\\u0430\\u043b \\u0443\\u0447\\u0435\\u0442\\u0430 \\u0432\\u0438\\u0434\\u043e\\u0432 \\u0434\\u0435\\u044f\\u0442\\u0435\\u043b\\u044c\\u043d\\u043e\\u0441\\u0442\\u0438 \\u043f\\u0435\\u0434\\u0430\\u0433\\u043e\\u0433\\u0430 \\u043f\\u0441\\u0438\\u0445\\u043e\\u043b\\u043e\\u0433\\u0430\", \"\\u0445\\u0430\\u0440\\u0430\\u043a\\u0442\\u0435\\u0440\\u0438\\u0441\\u0442\\u0438\\u043a\\u0438\", \"\\u0433\\u0440\\u0430\\u0444\\u0438\\u043a \\u0440\\u0430\\u0431\\u043e\\u0442\\u044b\", \"\\u0436\\u0443\\u0440\\u043d\\u0430\\u043b \\u0434\\u0438\\u0430\\u0433\\u043d\\u043e\\u0441\\u0442\\u0438\\u0447\\u0435\\u0441\\u043a\\u0438\\u0445 \\u043e\\u0431\\u0441\\u043b\\u0435\\u0434\\u043e\\u0432\\u0430\\u043d\\u0438\\u0439\", \"\\u043f\\u0440\\u043e\\u0444\\u0438\\u043b\\u0430\\u043a\\u0442\\u0438\\u0447\\u0435\\u0441\\u043a\\u043e\\u0439 \\u0440\\u0430\\u0431\\u043e\\u0442\\u044b\", \"\\u0436\\u0443\\u0440\\u043d\\u0430\\u043b \\u043f\\u0435\\u0434\\u0430\\u0433\\u043e\\u0433\\u0430 \\u043f\\u0441\\u0438\\u0445\\u043e\\u043b\\u043e\\u0433\\u0430\", \"\\u044d\\u043a\\u0441\\u043f\\u0435\\u0440\\u0442\\u043d\\u043e\\u0439\", \"\\u0437\\u0430\\u043a\\u043b\\u044e\\u0447\\u0435\\u043d\\u0438\\u044f\", \"\\u0436\\u0443\\u0440\\u043d\\u0430\\u043b \\u043f\\u0440\\u043e\\u0441\\u0432\\u0435\\u0442\\u0438\\u0442\\u0435\\u043b\\u044c\\u0441\\u043a\\u043e\\u0439 \\u0440\\u0430\\u0431\\u043e\\u0442\\u044b\", \"\\u0446\\u0438\\u043a\\u043b\\u043e\\u0433\\u0440\\u0430\\u043c\\u043c\\u0430 \\u0440\\u0430\\u0431\\u043e\\u0442\\u044b\", \"\\u0436\\u0443\\u0440\\u043d\\u0430\\u043b\\u044b\", \"\\u0436\\u0443\\u0440\\u043d\\u0430\\u043b \\u044d\\u043a\\u0441\\u043f\\u0435\\u0440\\u0442\\u043d\\u043e\\u0439 \\u0440\\u0430\\u0431\\u043e\\u0442\\u044b\", \"\\u0436\\u0443\\u0440\\u043d\\u0430\\u043b \\u0443\\u0447\\u0435\\u0442\\u0430 \\u0432\\u0438\\u0434\\u043e\\u0432 \\u0440\\u0430\\u0431\\u043e\\u0442\\u044b\", \"\\u044d\\u043b\\u0435\\u043a\\u0442\\u0440\\u043e\\u043d\\u043d\\u044b\\u0439 \\u0436\\u0443\\u0440\\u043d\\u0430\\u043b\", \"\\u043c\\u043e\\u043d\\u0438\\u0442\\u043e\\u0440\\u0438\\u043d\\u0433\\u0438\", \"\\u0436\\u0443\\u0440\\u043d\\u0430\\u043b\\u044b \\u0438\\u043d\\u0434\\u0438\\u0432\\u0438\\u0434\\u0443\\u0430\\u043b\\u044c\\u043d\\u044b\\u0445 \\u0437\\u0430\\u043d\\u044f\\u0442\\u0438\\u0439\", \"\\u0438\\u043d\\u0434\\u0438\\u0432\\u0438\\u0434\\u0443\\u0430\\u043b\\u044c\\u043d\\u044b\\u0445 \\u0437\\u0430\\u043d\\u044f\\u0442\\u0438\\u0439\", \"\\u043e\\u0440\\u0433\\u0430\\u043d\\u0438\\u0437\\u0430\\u0446\\u0438\\u043e\\u043d\\u043d\\u043e \\u043c\\u0435\\u0442\\u043e\\u0434\\u0438\\u0447\\u0435\\u0441\\u043a\\u043e\\u0439 \\u0440\\u0430\\u0431\\u043e\\u0442\\u044b\"], \"y\": [734, 348, 275, 94, 76, 66, 62, 56, 48, 48, 45, 36, 35, 35, 34, 32, 31, 31, 30, 29, 28, 25, 23, 23, 23, 22, 21, 21, 21, 20, 20, 20, 19, 19, 19, 18, 18, 17, 17, 17, 17, 17, 16, 15, 15, 15, 15, 15, 15, 15, 15, 14, 14, 13, 13, 13, 13, 12, 12, 12, 12, 12, 12, 12]}],\n",
              "                        {\"height\": 800, \"template\": {\"data\": {\"bar\": [{\"error_x\": {\"color\": \"#2a3f5f\"}, \"error_y\": {\"color\": \"#2a3f5f\"}, \"marker\": {\"line\": {\"color\": \"#E5ECF6\", \"width\": 0.5}}, \"type\": \"bar\"}], \"barpolar\": [{\"marker\": {\"line\": {\"color\": \"#E5ECF6\", \"width\": 0.5}}, \"type\": \"barpolar\"}], \"carpet\": [{\"aaxis\": {\"endlinecolor\": \"#2a3f5f\", \"gridcolor\": \"white\", \"linecolor\": \"white\", \"minorgridcolor\": \"white\", \"startlinecolor\": \"#2a3f5f\"}, \"baxis\": {\"endlinecolor\": \"#2a3f5f\", \"gridcolor\": \"white\", \"linecolor\": \"white\", \"minorgridcolor\": \"white\", \"startlinecolor\": \"#2a3f5f\"}, \"type\": \"carpet\"}], \"choropleth\": [{\"colorbar\": {\"outlinewidth\": 0, \"ticks\": \"\"}, \"type\": \"choropleth\"}], \"contour\": [{\"colorbar\": {\"outlinewidth\": 0, \"ticks\": \"\"}, \"colorscale\": [[0.0, \"#0d0887\"], [0.1111111111111111, \"#46039f\"], [0.2222222222222222, \"#7201a8\"], [0.3333333333333333, \"#9c179e\"], [0.4444444444444444, \"#bd3786\"], [0.5555555555555556, \"#d8576b\"], [0.6666666666666666, \"#ed7953\"], [0.7777777777777778, \"#fb9f3a\"], [0.8888888888888888, \"#fdca26\"], [1.0, \"#f0f921\"]], \"type\": \"contour\"}], \"contourcarpet\": [{\"colorbar\": {\"outlinewidth\": 0, \"ticks\": \"\"}, \"type\": \"contourcarpet\"}], \"heatmap\": [{\"colorbar\": {\"outlinewidth\": 0, \"ticks\": \"\"}, \"colorscale\": [[0.0, \"#0d0887\"], [0.1111111111111111, \"#46039f\"], [0.2222222222222222, \"#7201a8\"], [0.3333333333333333, \"#9c179e\"], [0.4444444444444444, \"#bd3786\"], [0.5555555555555556, \"#d8576b\"], [0.6666666666666666, \"#ed7953\"], [0.7777777777777778, \"#fb9f3a\"], [0.8888888888888888, \"#fdca26\"], [1.0, \"#f0f921\"]], \"type\": \"heatmap\"}], \"heatmapgl\": [{\"colorbar\": {\"outlinewidth\": 0, \"ticks\": \"\"}, \"colorscale\": [[0.0, \"#0d0887\"], [0.1111111111111111, \"#46039f\"], [0.2222222222222222, \"#7201a8\"], [0.3333333333333333, \"#9c179e\"], [0.4444444444444444, \"#bd3786\"], [0.5555555555555556, \"#d8576b\"], [0.6666666666666666, \"#ed7953\"], [0.7777777777777778, \"#fb9f3a\"], [0.8888888888888888, \"#fdca26\"], [1.0, \"#f0f921\"]], \"type\": \"heatmapgl\"}], \"histogram\": [{\"marker\": {\"colorbar\": {\"outlinewidth\": 0, \"ticks\": \"\"}}, \"type\": \"histogram\"}], \"histogram2d\": [{\"colorbar\": {\"outlinewidth\": 0, \"ticks\": \"\"}, \"colorscale\": [[0.0, \"#0d0887\"], [0.1111111111111111, \"#46039f\"], [0.2222222222222222, \"#7201a8\"], [0.3333333333333333, \"#9c179e\"], [0.4444444444444444, \"#bd3786\"], [0.5555555555555556, \"#d8576b\"], [0.6666666666666666, \"#ed7953\"], [0.7777777777777778, \"#fb9f3a\"], [0.8888888888888888, \"#fdca26\"], [1.0, \"#f0f921\"]], \"type\": \"histogram2d\"}], \"histogram2dcontour\": [{\"colorbar\": {\"outlinewidth\": 0, \"ticks\": \"\"}, \"colorscale\": [[0.0, \"#0d0887\"], [0.1111111111111111, \"#46039f\"], [0.2222222222222222, \"#7201a8\"], [0.3333333333333333, \"#9c179e\"], [0.4444444444444444, \"#bd3786\"], [0.5555555555555556, \"#d8576b\"], [0.6666666666666666, \"#ed7953\"], [0.7777777777777778, \"#fb9f3a\"], [0.8888888888888888, \"#fdca26\"], [1.0, \"#f0f921\"]], \"type\": \"histogram2dcontour\"}], \"mesh3d\": [{\"colorbar\": {\"outlinewidth\": 0, \"ticks\": \"\"}, \"type\": \"mesh3d\"}], \"parcoords\": [{\"line\": {\"colorbar\": {\"outlinewidth\": 0, \"ticks\": \"\"}}, \"type\": \"parcoords\"}], \"scatter\": [{\"marker\": {\"colorbar\": {\"outlinewidth\": 0, \"ticks\": \"\"}}, \"type\": \"scatter\"}], \"scatter3d\": [{\"line\": {\"colorbar\": {\"outlinewidth\": 0, \"ticks\": \"\"}}, \"marker\": {\"colorbar\": {\"outlinewidth\": 0, \"ticks\": \"\"}}, \"type\": \"scatter3d\"}], \"scattercarpet\": [{\"marker\": {\"colorbar\": {\"outlinewidth\": 0, \"ticks\": \"\"}}, \"type\": \"scattercarpet\"}], \"scattergeo\": [{\"marker\": {\"colorbar\": {\"outlinewidth\": 0, \"ticks\": \"\"}}, \"type\": \"scattergeo\"}], \"scattergl\": [{\"marker\": {\"colorbar\": {\"outlinewidth\": 0, \"ticks\": \"\"}}, \"type\": \"scattergl\"}], \"scattermapbox\": [{\"marker\": {\"colorbar\": {\"outlinewidth\": 0, \"ticks\": \"\"}}, \"type\": \"scattermapbox\"}], \"scatterpolar\": [{\"marker\": {\"colorbar\": {\"outlinewidth\": 0, \"ticks\": \"\"}}, \"type\": \"scatterpolar\"}], \"scatterpolargl\": [{\"marker\": {\"colorbar\": {\"outlinewidth\": 0, \"ticks\": \"\"}}, \"type\": \"scatterpolargl\"}], \"scatterternary\": [{\"marker\": {\"colorbar\": {\"outlinewidth\": 0, \"ticks\": \"\"}}, \"type\": \"scatterternary\"}], \"surface\": [{\"colorbar\": {\"outlinewidth\": 0, \"ticks\": \"\"}, \"colorscale\": [[0.0, \"#0d0887\"], [0.1111111111111111, \"#46039f\"], [0.2222222222222222, \"#7201a8\"], [0.3333333333333333, \"#9c179e\"], [0.4444444444444444, \"#bd3786\"], [0.5555555555555556, \"#d8576b\"], [0.6666666666666666, \"#ed7953\"], [0.7777777777777778, \"#fb9f3a\"], [0.8888888888888888, \"#fdca26\"], [1.0, \"#f0f921\"]], \"type\": \"surface\"}], \"table\": [{\"cells\": {\"fill\": {\"color\": \"#EBF0F8\"}, \"line\": {\"color\": \"white\"}}, \"header\": {\"fill\": {\"color\": \"#C8D4E3\"}, \"line\": {\"color\": \"white\"}}, \"type\": \"table\"}]}, \"layout\": {\"annotationdefaults\": {\"arrowcolor\": \"#2a3f5f\", \"arrowhead\": 0, \"arrowwidth\": 1}, \"colorscale\": {\"diverging\": [[0, \"#8e0152\"], [0.1, \"#c51b7d\"], [0.2, \"#de77ae\"], [0.3, \"#f1b6da\"], [0.4, \"#fde0ef\"], [0.5, \"#f7f7f7\"], [0.6, \"#e6f5d0\"], [0.7, \"#b8e186\"], [0.8, \"#7fbc41\"], [0.9, \"#4d9221\"], [1, \"#276419\"]], \"sequential\": [[0.0, \"#0d0887\"], [0.1111111111111111, \"#46039f\"], [0.2222222222222222, \"#7201a8\"], [0.3333333333333333, \"#9c179e\"], [0.4444444444444444, \"#bd3786\"], [0.5555555555555556, \"#d8576b\"], [0.6666666666666666, \"#ed7953\"], [0.7777777777777778, \"#fb9f3a\"], [0.8888888888888888, \"#fdca26\"], [1.0, \"#f0f921\"]], \"sequentialminus\": [[0.0, \"#0d0887\"], [0.1111111111111111, \"#46039f\"], [0.2222222222222222, \"#7201a8\"], [0.3333333333333333, \"#9c179e\"], [0.4444444444444444, \"#bd3786\"], [0.5555555555555556, \"#d8576b\"], [0.6666666666666666, \"#ed7953\"], [0.7777777777777778, \"#fb9f3a\"], [0.8888888888888888, \"#fdca26\"], [1.0, \"#f0f921\"]]}, \"colorway\": [\"#636efa\", \"#EF553B\", \"#00cc96\", \"#ab63fa\", \"#FFA15A\", \"#19d3f3\", \"#FF6692\", \"#B6E880\", \"#FF97FF\", \"#FECB52\"], \"font\": {\"color\": \"#2a3f5f\"}, \"geo\": {\"bgcolor\": \"white\", \"lakecolor\": \"white\", \"landcolor\": \"#E5ECF6\", \"showlakes\": true, \"showland\": true, \"subunitcolor\": \"white\"}, \"hoverlabel\": {\"align\": \"left\"}, \"hovermode\": \"closest\", \"mapbox\": {\"style\": \"light\"}, \"paper_bgcolor\": \"white\", \"plot_bgcolor\": \"#E5ECF6\", \"polar\": {\"angularaxis\": {\"gridcolor\": \"white\", \"linecolor\": \"white\", \"ticks\": \"\"}, \"bgcolor\": \"#E5ECF6\", \"radialaxis\": {\"gridcolor\": \"white\", \"linecolor\": \"white\", \"ticks\": \"\"}}, \"scene\": {\"xaxis\": {\"backgroundcolor\": \"#E5ECF6\", \"gridcolor\": \"white\", \"gridwidth\": 2, \"linecolor\": \"white\", \"showbackground\": true, \"ticks\": \"\", \"zerolinecolor\": \"white\"}, \"yaxis\": {\"backgroundcolor\": \"#E5ECF6\", \"gridcolor\": \"white\", \"gridwidth\": 2, \"linecolor\": \"white\", \"showbackground\": true, \"ticks\": \"\", \"zerolinecolor\": \"white\"}, \"zaxis\": {\"backgroundcolor\": \"#E5ECF6\", \"gridcolor\": \"white\", \"gridwidth\": 2, \"linecolor\": \"white\", \"showbackground\": true, \"ticks\": \"\", \"zerolinecolor\": \"white\"}}, \"shapedefaults\": {\"line\": {\"color\": \"#2a3f5f\"}}, \"ternary\": {\"aaxis\": {\"gridcolor\": \"white\", \"linecolor\": \"white\", \"ticks\": \"\"}, \"baxis\": {\"gridcolor\": \"white\", \"linecolor\": \"white\", \"ticks\": \"\"}, \"bgcolor\": \"#E5ECF6\", \"caxis\": {\"gridcolor\": \"white\", \"linecolor\": \"white\", \"ticks\": \"\"}}, \"title\": {\"x\": 0.05}, \"xaxis\": {\"automargin\": true, \"gridcolor\": \"white\", \"linecolor\": \"white\", \"ticks\": \"\", \"zerolinecolor\": \"white\", \"zerolinewidth\": 2}, \"yaxis\": {\"automargin\": true, \"gridcolor\": \"white\", \"linecolor\": \"white\", \"ticks\": \"\", \"zerolinecolor\": \"white\", \"zerolinewidth\": 2}}}, \"title\": {\"text\": \" \\u041a\\u0430\\u043a\\u0443\\u044e \\u043f\\u0441\\u0438\\u0445\\u043e\\u043b\\u043e\\u0433\\u0438\\u0447\\u0435\\u0441\\u043a\\u0443\\u044e \\u0434\\u043e\\u043a\\u0443\\u043c\\u0435\\u043d\\u0442\\u0430\\u0446\\u0438\\u044e \\u0412\\u044b \\u0432\\u0435\\u0434\\u0435\\u0442\\u0435 \\u0432 \\u0443\\u0447\\u0440\\u0435\\u0436\\u0434\\u0435\\u043d\\u0438\\u0438? Count: 4202\"}, \"width\": 800},\n",
              "                        {\"responsive\": true}\n",
              "                    ).then(function(){\n",
              "                            \n",
              "var gd = document.getElementById('2c011288-2b5e-4347-af9c-24806ee3da75');\n",
              "var x = new MutationObserver(function (mutations, observer) {{\n",
              "        var display = window.getComputedStyle(gd).display;\n",
              "        if (!display || display === 'none') {{\n",
              "            console.log([gd, 'removed!']);\n",
              "            Plotly.purge(gd);\n",
              "            observer.disconnect();\n",
              "        }}\n",
              "}});\n",
              "\n",
              "// Listen for the removal of the full notebook cells\n",
              "var notebookContainer = gd.closest('#notebook-container');\n",
              "if (notebookContainer) {{\n",
              "    x.observe(notebookContainer, {childList: true});\n",
              "}}\n",
              "\n",
              "// Listen for the clearing of the current output cell\n",
              "var outputEl = gd.closest('.output');\n",
              "if (outputEl) {{\n",
              "    x.observe(outputEl, {childList: true});\n",
              "}}\n",
              "\n",
              "                        })\n",
              "                };\n",
              "                \n",
              "            </script>\n",
              "        </div>\n",
              "</body>\n",
              "</html>"
            ]
          },
          "metadata": {
            "tags": []
          }
        },
        {
          "output_type": "display_data",
          "data": {
            "text/html": [
              "<html>\n",
              "<head><meta charset=\"utf-8\" /></head>\n",
              "<body>\n",
              "    <div>\n",
              "            <script src=\"https://cdnjs.cloudflare.com/ajax/libs/mathjax/2.7.5/MathJax.js?config=TeX-AMS-MML_SVG\"></script><script type=\"text/javascript\">if (window.MathJax) {MathJax.Hub.Config({SVG: {font: \"STIX-Web\"}});}</script>\n",
              "                <script type=\"text/javascript\">window.PlotlyConfig = {MathJaxConfig: 'local'};</script>\n",
              "        <script src=\"https://cdn.plot.ly/plotly-latest.min.js\"></script>    \n",
              "            <div id=\"054cbe3c-fae8-46b1-ba8a-f7d8483081fc\" class=\"plotly-graph-div\" style=\"height:800px; width:800px;\"></div>\n",
              "            <script type=\"text/javascript\">\n",
              "                \n",
              "                    window.PLOTLYENV=window.PLOTLYENV || {};\n",
              "                    \n",
              "                if (document.getElementById(\"054cbe3c-fae8-46b1-ba8a-f7d8483081fc\")) {\n",
              "                    Plotly.newPlot(\n",
              "                        '054cbe3c-fae8-46b1-ba8a-f7d8483081fc',\n",
              "                        [{\"marker\": {\"color\": \"rgb(158,202,225)\", \"line\": {\"color\": \"rgb(8,48,107)\", \"width\": 1.5}}, \"opacity\": 0.9, \"type\": \"bar\", \"x\": [\"\\u043f\\u043e\\u0432\\u044b\\u0448\\u0435\\u043d\\u0438\\u0435 \\u0437\\u0430\\u0440\\u0430\\u0431\\u043e\\u0442\\u043d\\u043e\\u0439 \\u043f\\u043b\\u0430\\u0442\\u044b\", \"\\u043f\\u043e\\u0436\\u0435\\u043b\\u0430\\u043d\\u0438\\u0439\", \"\\u043f\\u043e\\u0432\\u044b\\u0448\\u0435\\u043d\\u0438\\u0435 \\u0437\\u0430\\u0440\\u043f\\u043b\\u0430\\u0442\\u044b\", \"\\u0443\\u0441\\u0442\\u0440\\u0430\\u0438\\u0432\\u0430\\u0435\\u0442\", \"\\u043f\\u043e\\u0432\\u044b\\u0441\\u0438\\u0442\\u044c \\u0437\\u0430\\u0440\\u0430\\u0431\\u043e\\u0442\\u043d\\u0443\\u044e \\u043f\\u043b\\u0430\\u0442\\u0443\", \"\\u043e\\u0441\\u043d\\u0430\\u0449\\u0435\\u043d\\u0438\\u0435 \\u043a\\u0430\\u0431\\u0438\\u043d\\u0435\\u0442\\u0430\", \"\\u0445\\u043e\\u0442\\u0435\\u043b\\u043e\\u0441\\u044c\", \"\\u043f\\u043e\\u0432\\u044b\\u0441\\u0438\\u0442\\u044c \\u0437\\u0430\\u0440\\u043f\\u043b\\u0430\\u0442\\u0443\", \"\\u0443\\u0432\\u0435\\u043b\\u0438\\u0447\\u0435\\u043d\\u0438\\u0435 \\u0437\\u0430\\u0440\\u0430\\u0431\\u043e\\u0442\\u043d\\u043e\\u0439 \\u043f\\u043b\\u0430\\u0442\\u044b\", \"\\u0437\\u0430\\u0442\\u0440\\u0443\\u0434\\u043d\\u044f\\u044e\\u0441\\u044c \\u043e\\u0442\\u0432\\u0435\\u0442\\u0438\\u0442\\u044c\", \"\\u043e\\u0431\\u043c\\u0435\\u043d \\u043e\\u043f\\u044b\\u0442\\u043e\\u043c\", \"\\u043c\\u0435\\u0442\\u043e\\u0434\\u0438\\u0447\\u0435\\u0441\\u043a\\u043e\\u0435 \\u043e\\u0431\\u0435\\u0441\\u043f\\u0435\\u0447\\u0435\\u043d\\u0438\\u0435\", \"\\u0434\\u043e\\u0441\\u0442\\u043e\\u0439\\u043d\\u0430\\u044f \\u0437\\u0430\\u0440\\u0430\\u0431\\u043e\\u0442\\u043d\\u0430\\u044f \\u043f\\u043b\\u0430\\u0442\\u0430\", \"\\u043e\\u0442\\u0434\\u0435\\u043b\\u044c\\u043d\\u044b\\u0439 \\u043a\\u0430\\u0431\\u0438\\u043d\\u0435\\u0442\", \"\\u0443\\u043b\\u0443\\u0447\\u0448\\u0435\\u043d\\u0438\\u0435 \\u043c\\u0430\\u0442\\u0435\\u0440\\u0438\\u0430\\u043b\\u044c\\u043d\\u043e \\u0442\\u0435\\u0445\\u043d\\u0438\\u0447\\u0435\\u0441\\u043a\\u043e\\u0439 \\u0431\\u0430\\u0437\\u044b\", \"\\u043c\\u0430\\u0442\\u0435\\u0440\\u0438\\u0430\\u043b\\u044c\\u043d\\u043e\\u0435 \\u043e\\u0431\\u0435\\u0441\\u043f\\u0435\\u0447\\u0435\\u043d\\u0438\\u0435\", \"\\u0434\\u043e\\u0441\\u0442\\u043e\\u0439\\u043d\\u0430\\u044f \\u0437\\u0430\\u0440\\u043f\\u043b\\u0430\\u0442\\u0430\", \"\\u043c\\u0435\\u0442\\u043e\\u0434\\u0438\\u0447\\u0435\\u0441\\u043a\\u0430\\u044f \\u043f\\u043e\\u043c\\u043e\\u0449\\u044c\", \"\\u043c\\u0435\\u043d\\u044c\\u0448\\u0435 \\u043e\\u0442\\u0447\\u0435\\u0442\\u043e\\u0432\", \"\\u043c\\u0435\\u043d\\u044c\\u0448\\u0435 \\u043e\\u0442\\u0447\\u0435\\u0442\\u043d\\u043e\\u0441\\u0442\\u0438\", \"\\u043e\\u0441\\u043d\\u0430\\u0449\\u0435\\u043d\\u0438\\u0435 \\u043a\\u0430\\u0431\\u0438\\u043d\\u0435\\u0442\\u043e\\u0432\", \"\\u043f\\u043e\\u0432\\u044b\\u0448\\u0435\\u043d\\u0438\\u0435 \\u043e\\u043f\\u043b\\u0430\\u0442\\u044b \\u0442\\u0440\\u0443\\u0434\\u0430\", \"\\u043c\\u0435\\u043d\\u044c\\u0448\\u0435 \\u0431\\u0443\\u043c\\u0430\\u0436\\u043d\\u043e\\u0439 \\u0440\\u0430\\u0431\\u043e\\u0442\\u044b\", \"\\u0443\\u0434\\u0430\\u0447\\u0438\", \"\\u043f\\u043e\\u0432\\u044b\\u0448\\u0435\\u043d\\u0438\\u0435 \\u043a\\u0432\\u0430\\u043b\\u0438\\u0444\\u0438\\u043a\\u0430\\u0446\\u0438\\u0438\", \"\\u0442\\u0440\\u0443\\u0434\\u043d\\u043e \\u0441\\u043a\\u0430\\u0437\\u0430\\u0442\\u044c\", \"\\u043e\\u0441\\u043d\\u0430\\u0449\\u0435\\u043d\\u0438\\u0435\", \"\\u043d\\u0435\", \"\\u0441\\u0447\\u0438\\u0442\\u0430\\u044e\", \"\\u043c\\u0430\\u0442\\u0435\\u0440\\u0438\\u0430\\u043b\\u044c\\u043d\\u043e \\u0442\\u0435\\u0445\\u043d\\u0438\\u0447\\u0435\\u0441\\u043a\\u043e\\u0435 \\u043e\\u0441\\u043d\\u0430\\u0449\\u0435\\u043d\\u0438\\u0435\", \"\\u043f\\u043e\\u0432\\u044b\\u0448\\u0435\\u043d\\u0438\\u0435 \\u0437\\u0430\\u0440\\u0430\\u0431\\u043e\\u0442\\u043d\\u043e\\u0439 \\u043f\\u043b\\u0430\\u0442\\u044b \\u043f\\u0435\\u0434\\u0430\\u0433\\u043e\\u0433\\u0430\\u043c \\u043f\\u0441\\u0438\\u0445\\u043e\\u043b\\u043e\\u0433\\u0430\\u043c\", \"\\u043c\\u0430\\u0442\\u0435\\u0440\\u0438\\u0430\\u043b\\u044c\\u043d\\u043e \\u0442\\u0435\\u0445\\u043d\\u0438\\u0447\\u0435\\u0441\\u043a\\u043e\\u0435 \\u043e\\u0431\\u0435\\u0441\\u043f\\u0435\\u0447\\u0435\\u043d\\u0438\\u0435\", \"\\u0444\\u0438\\u043d\\u0430\\u043d\\u0441\\u0438\\u0440\\u043e\\u0432\\u0430\\u043d\\u0438\\u0435\", \"\\u043f\\u0440\\u043e\\u0446\\u0432\\u0435\\u0442\\u0430\\u043d\\u0438\\u044f\", \"\\u043d\\u0435 \\u0437\\u043d\\u0430\\u044e\", \"\\u0443\\u043b\\u0443\\u0447\\u0448\\u0435\\u043d\\u0438\\u0435 \\u043c\\u0430\\u0442\\u0435\\u0440\\u0438\\u0430\\u043b\\u044c\\u043d\\u043e\\u0439 \\u0431\\u0430\\u0437\\u044b\", \"\\u043f\\u043e\\u0432\\u044b\\u0448\\u0435\\u043d\\u0438\\u0435 \\u0437 \\u043f\", \"\\u0440\\u043e\\u0434\\u0438\\u0442\\u0435\\u043b\\u044f\\u043c\\u0438\", \"\\u043c\\u0430\\u0442\\u0435\\u0440\\u0438\\u0430\\u043b\\u044c\\u043d\\u043e\\u0435 \\u043e\\u0441\\u043d\\u0430\\u0449\\u0435\\u043d\\u0438\\u0435\", \"\\u043e\\u0431\\u0435\\u0441\\u043f\\u0435\\u0447\\u0435\\u043d\\u0438\\u0435 \\u043c\\u0435\\u0442\\u043e\\u0434\\u0438\\u0447\\u0435\\u0441\\u043a\\u0438\\u043c\\u0438 \\u043c\\u0430\\u0442\\u0435\\u0440\\u0438\\u0430\\u043b\\u0430\\u043c\\u0438\", \"\\u0441\\u0442\\u0430\\u0432\\u043a\\u0438\", \"\\u043a\\u0443\\u0440\\u0441\\u044b \\u043f\\u043e\\u0432\\u044b\\u0448\\u0435\\u043d\\u0438\\u044f \\u043a\\u0432\\u0430\\u043b\\u0438\\u0444\\u0438\\u043a\\u0430\\u0446\\u0438\\u0438\", \"\\u043d\\u0435 \\u0438\\u043c\\u0435\\u044e\", \"\\u0441\\u043f\\u0430\\u0441\\u0438\\u0431\\u043e\", \"\\u043c\\u0435\\u0442\\u043e\\u0434\\u0438\\u043a\\u0430\\u043c\\u0438\", \"\\u043c\\u0435\\u0442\\u043e\\u0434\\u0438\\u0447\\u0435\\u0441\\u043a\\u0430\\u044f \\u043f\\u043e\\u0434\\u0434\\u0435\\u0440\\u0436\\u043a\\u0430\", \"\\u043f\\u043e\\u0432\\u044b\\u0448\\u0435\\u043d\\u0438\\u0435 \\u0437\\u0430\\u0440\\u0430\\u0431\\u043e\\u0442\\u043d\\u043e\\u0439 \\u043f\\u043b\\u0430\\u0442\\u044b \\u043f\\u0435\\u0434\\u0430\\u0433\\u043e\\u0433\\u0430 \\u043f\\u0441\\u0438\\u0445\\u043e\\u043b\\u043e\\u0433\\u0430\", \"\\u043f\\u0441\\u0438\\u0445\\u043e\\u043b\\u043e\\u0433\\u0438\\u0447\\u0435\\u0441\\u043a\\u0430\\u044f \\u043f\\u043e\\u043c\\u043e\\u0449\\u044c \\u0443\\u0447\\u0430\\u0441\\u0442\\u043d\\u0438\\u043a\\u0430\\u043c \\u043e\\u0431\\u0440\\u0430\\u0437\\u043e\\u0432\\u0430\\u0442\\u0435\\u043b\\u044c\\u043d\\u043e\\u0433\\u043e \\u043f\\u0440\\u043e\\u0446\\u0435\\u0441\\u0441\\u0430\", \"\\u043e\\u0441\\u043d\\u0430\\u0449\\u0435\\u043d\\u0438\\u0435 \\u043a\\u0430\\u0431\\u0438\\u043d\\u0435\\u0442\\u0430 \\u043f\\u0441\\u0438\\u0445\\u043e\\u043b\\u043e\\u0433\\u0430\", \"\\u0434\\u043e\\u0441\\u0442\\u043e\\u0439\\u043d\\u0430\\u044f \\u043e\\u043f\\u043b\\u0430\\u0442\\u0430 \\u0442\\u0440\\u0443\\u0434\\u0430\", \"\\u0442\\u0435\\u0440\\u043f\\u0435\\u043d\\u0438\\u044f\", \"\\u0441\\u0435\\u043d\\u0441\\u043e\\u0440\\u043d\\u0430\\u044f \\u043a\\u043e\\u043c\\u043d\\u0430\\u0442\\u0430\", \"\\u0443\\u0432\\u0435\\u043b\\u0438\\u0447\\u0438\\u0442\\u044c \\u0437\\u0430\\u0440\\u0430\\u0431\\u043e\\u0442\\u043d\\u0443\\u044e \\u043f\\u043b\\u0430\\u0442\\u0443\", \"\\u043a\\u0443\\u0440\\u0441\\u043e\\u0432\", \"\\u043e\\u0431\\u043e\\u0440\\u0443\\u0434\\u043e\\u0432\\u0430\\u043d\\u0438\\u0435\", \"\\u0440\\u0430\\u0431\\u043e\\u0442\\u0430\\u044e\\u0449\\u0438\\u0439 \\u0441\\u0438\\u0441\\u0442\\u0435\\u043c\\u0435 \\u043e\\u0431\\u0440\\u0430\\u0437\\u043e\\u0432\\u0430\\u043d\\u0438\\u044f\", \"\\u043c\\u0435\\u0442\\u043e\\u0434\\u0438\\u0447\\u0435\\u0441\\u043a\\u043e\\u0435 \\u043e\\u0441\\u043d\\u0430\\u0449\\u0435\\u043d\\u0438\\u0435\", \"\\u043c\\u0435\\u043d\\u044c\\u0448\\u0435 \\u043e\\u0442\\u0447\\u0435\\u0442\\u043d\\u043e\\u0439 \\u0434\\u043e\\u043a\\u0443\\u043c\\u0435\\u043d\\u0442\\u0430\\u0446\\u0438\\u0438\", \"\\u0440\\u0430\\u0437\\u0432\\u0438\\u0442\\u0438\\u044f\", \"\\u043a\\u043e\\u043d\\u0444\\u0435\\u0440\\u0435\\u043d\\u0446\\u0438\\u0439\", \"\\u0436\\u0435\\u043b\\u0430\\u044e\", \"\\u0441\\u043e\\u043f\\u0440\\u043e\\u0432\\u043e\\u0436\\u0434\\u0435\\u043d\\u0438\\u0435 \\u043f\\u0440\\u043e\\u0446\\u0435\\u0441\\u0441\\u0435 \\u0440\\u0435\\u0448\\u0435\\u043d\\u0438\\u044f \\u0437\\u0430\\u0434\\u0430\\u0447 \\u043e\\u0431\\u0440\\u0430\\u0437\\u043e\\u0432\\u0430\\u043d\\u0438\\u044f \\u0440\\u0430\\u0437\\u0432\\u0438\\u0442\\u0438\\u044f \\u0441\\u043e\\u0432\\u0435\\u0440\\u0448\\u0435\\u043d\\u0441\\u0442\\u0432\\u043e\\u0432\\u0430\\u043d\\u0438\\u0435 \\u0441\\u0430\\u043c\\u043e\\u0439 \\u0441\\u043b\\u0443\\u0436\\u0431\\u044b \\u043e\\u0440\\u0433\\u0430\\u043d\\u0438\\u0437\\u0430\\u0446\\u0438\\u043e\\u043d\\u043d\\u043e\\u0439 \\u0441\\u0438\\u0441\\u0442\\u0435\\u043c\\u044b \\u043f\\u0440\\u043e\\u0444\\u0435\\u0441\\u0441\\u0438\\u043e\\u043d\\u0430\\u043b\\u044c\\u043d\\u043e\\u0435 \\u0440\\u0430\\u0437\\u0432\\u0438\\u0442\\u0438\\u0435 \\u0441\\u043f\\u0435\\u0446\\u0438\\u0430\\u043b\\u0438\\u0441\\u0442\\u043e\\u0432\", \"\\u0440\\u0430\\u0437\\u0432\\u0438\\u0432\\u0430\\u0442\\u044c\\u0441\\u044f\", \"\\u043f\\u0441\\u0438\\u0445\\u043e\\u043b\\u043e\\u0433\", \"\\u043f\\u043e\\u0432\\u044b\\u0448\\u0435\\u043d\\u0438\\u0435 \\u0437\\u043f\", \"\\u043f\\u0440\\u043e\\u0432\\u0435\\u0434\\u0435\\u043d\\u0438\\u0435 \\u0441\\u0435\\u043c\\u0438\\u043d\\u0430\\u0440\\u043e\\u0432\", \"\\u0441\\u0435\\u043c\\u0438\\u043d\\u0430\\u0440\\u044b\", \"\\u0432\\u0437\\u0433\\u043b\\u044f\\u0434\", \"\\u0443\\u0441\\u043f\\u0435\\u0445\\u043e\\u0432\", \"\\u0437\\u0430\\u0442\\u0440\\u0443\\u0434\\u043d\\u044f\\u044e\\u0441\\u044c\", \"\\u043f\\u0435\\u0434\\u0430\\u0433\\u043e\\u0433\\u0430\\u043c\\u0438\", \"\\u0434\\u043e\\u0441\\u0442\\u043e\\u0439\\u043d\\u0443\\u044e \\u0437\\u0430\\u0440\\u043f\\u043b\\u0430\\u0442\\u0443\", \"\\u0434\\u0435\\u0444\\u0435\\u043a\\u0442\\u043e\\u043b\\u043e\\u0433\", \"\\u0442\\u0440\\u0435\\u043d\\u0438\\u043d\\u0433\\u043e\\u0432\", \"\\u043f\\u043e\\u0434\\u043d\\u044f\\u0442\\u044c \\u0437\\u0430\\u0440\\u043f\\u043b\\u0430\\u0442\\u0443\", \"\\u043d\\u0430\\u043f\\u0440\\u0438\\u043c\\u0435\\u0440\"], \"y\": [508, 265, 164, 129, 90, 78, 77, 76, 69, 54, 49, 45, 44, 43, 43, 42, 42, 37, 36, 34, 34, 30, 29, 28, 28, 28, 25, 25, 25, 24, 24, 24, 23, 23, 23, 22, 21, 21, 20, 20, 20, 20, 19, 19, 18, 18, 18, 18, 18, 18, 17, 17, 17, 16, 16, 16, 16, 16, 16, 15, 15, 15, 15, 15, 14, 14, 14, 14, 14, 13, 13, 13, 13, 13, 13, 13, 12, 12, 12, 12, 12, 12, 12, 12, 12, 12, 12]}],\n",
              "                        {\"height\": 800, \"template\": {\"data\": {\"bar\": [{\"error_x\": {\"color\": \"#2a3f5f\"}, \"error_y\": {\"color\": \"#2a3f5f\"}, \"marker\": {\"line\": {\"color\": \"#E5ECF6\", \"width\": 0.5}}, \"type\": \"bar\"}], \"barpolar\": [{\"marker\": {\"line\": {\"color\": \"#E5ECF6\", \"width\": 0.5}}, \"type\": \"barpolar\"}], \"carpet\": [{\"aaxis\": {\"endlinecolor\": \"#2a3f5f\", \"gridcolor\": \"white\", \"linecolor\": \"white\", \"minorgridcolor\": \"white\", \"startlinecolor\": \"#2a3f5f\"}, \"baxis\": {\"endlinecolor\": \"#2a3f5f\", \"gridcolor\": \"white\", \"linecolor\": \"white\", \"minorgridcolor\": \"white\", \"startlinecolor\": \"#2a3f5f\"}, \"type\": \"carpet\"}], \"choropleth\": [{\"colorbar\": {\"outlinewidth\": 0, \"ticks\": \"\"}, \"type\": \"choropleth\"}], \"contour\": [{\"colorbar\": {\"outlinewidth\": 0, \"ticks\": \"\"}, \"colorscale\": [[0.0, \"#0d0887\"], [0.1111111111111111, \"#46039f\"], [0.2222222222222222, \"#7201a8\"], [0.3333333333333333, \"#9c179e\"], [0.4444444444444444, \"#bd3786\"], [0.5555555555555556, \"#d8576b\"], [0.6666666666666666, \"#ed7953\"], [0.7777777777777778, \"#fb9f3a\"], [0.8888888888888888, \"#fdca26\"], [1.0, \"#f0f921\"]], \"type\": \"contour\"}], \"contourcarpet\": [{\"colorbar\": {\"outlinewidth\": 0, \"ticks\": \"\"}, \"type\": \"contourcarpet\"}], \"heatmap\": [{\"colorbar\": {\"outlinewidth\": 0, \"ticks\": \"\"}, \"colorscale\": [[0.0, \"#0d0887\"], [0.1111111111111111, \"#46039f\"], [0.2222222222222222, \"#7201a8\"], [0.3333333333333333, \"#9c179e\"], [0.4444444444444444, \"#bd3786\"], [0.5555555555555556, \"#d8576b\"], [0.6666666666666666, \"#ed7953\"], [0.7777777777777778, \"#fb9f3a\"], [0.8888888888888888, \"#fdca26\"], [1.0, \"#f0f921\"]], \"type\": \"heatmap\"}], \"heatmapgl\": [{\"colorbar\": {\"outlinewidth\": 0, \"ticks\": \"\"}, \"colorscale\": [[0.0, \"#0d0887\"], [0.1111111111111111, \"#46039f\"], [0.2222222222222222, \"#7201a8\"], [0.3333333333333333, \"#9c179e\"], [0.4444444444444444, \"#bd3786\"], [0.5555555555555556, \"#d8576b\"], [0.6666666666666666, \"#ed7953\"], [0.7777777777777778, \"#fb9f3a\"], [0.8888888888888888, \"#fdca26\"], [1.0, \"#f0f921\"]], \"type\": \"heatmapgl\"}], \"histogram\": [{\"marker\": {\"colorbar\": {\"outlinewidth\": 0, \"ticks\": \"\"}}, \"type\": \"histogram\"}], \"histogram2d\": [{\"colorbar\": {\"outlinewidth\": 0, \"ticks\": \"\"}, \"colorscale\": [[0.0, \"#0d0887\"], [0.1111111111111111, \"#46039f\"], [0.2222222222222222, \"#7201a8\"], [0.3333333333333333, \"#9c179e\"], [0.4444444444444444, \"#bd3786\"], [0.5555555555555556, \"#d8576b\"], [0.6666666666666666, \"#ed7953\"], [0.7777777777777778, \"#fb9f3a\"], [0.8888888888888888, \"#fdca26\"], [1.0, \"#f0f921\"]], \"type\": \"histogram2d\"}], \"histogram2dcontour\": [{\"colorbar\": {\"outlinewidth\": 0, \"ticks\": \"\"}, \"colorscale\": [[0.0, \"#0d0887\"], [0.1111111111111111, \"#46039f\"], [0.2222222222222222, \"#7201a8\"], [0.3333333333333333, \"#9c179e\"], [0.4444444444444444, \"#bd3786\"], [0.5555555555555556, \"#d8576b\"], [0.6666666666666666, \"#ed7953\"], [0.7777777777777778, \"#fb9f3a\"], [0.8888888888888888, \"#fdca26\"], [1.0, \"#f0f921\"]], \"type\": \"histogram2dcontour\"}], \"mesh3d\": [{\"colorbar\": {\"outlinewidth\": 0, \"ticks\": \"\"}, \"type\": \"mesh3d\"}], \"parcoords\": [{\"line\": {\"colorbar\": {\"outlinewidth\": 0, \"ticks\": \"\"}}, \"type\": \"parcoords\"}], \"scatter\": [{\"marker\": {\"colorbar\": {\"outlinewidth\": 0, \"ticks\": \"\"}}, \"type\": \"scatter\"}], \"scatter3d\": [{\"line\": {\"colorbar\": {\"outlinewidth\": 0, \"ticks\": \"\"}}, \"marker\": {\"colorbar\": {\"outlinewidth\": 0, \"ticks\": \"\"}}, \"type\": \"scatter3d\"}], \"scattercarpet\": [{\"marker\": {\"colorbar\": {\"outlinewidth\": 0, \"ticks\": \"\"}}, \"type\": \"scattercarpet\"}], \"scattergeo\": [{\"marker\": {\"colorbar\": {\"outlinewidth\": 0, \"ticks\": \"\"}}, \"type\": \"scattergeo\"}], \"scattergl\": [{\"marker\": {\"colorbar\": {\"outlinewidth\": 0, \"ticks\": \"\"}}, \"type\": \"scattergl\"}], \"scattermapbox\": [{\"marker\": {\"colorbar\": {\"outlinewidth\": 0, \"ticks\": \"\"}}, \"type\": \"scattermapbox\"}], \"scatterpolar\": [{\"marker\": {\"colorbar\": {\"outlinewidth\": 0, \"ticks\": \"\"}}, \"type\": \"scatterpolar\"}], \"scatterpolargl\": [{\"marker\": {\"colorbar\": {\"outlinewidth\": 0, \"ticks\": \"\"}}, \"type\": \"scatterpolargl\"}], \"scatterternary\": [{\"marker\": {\"colorbar\": {\"outlinewidth\": 0, \"ticks\": \"\"}}, \"type\": \"scatterternary\"}], \"surface\": [{\"colorbar\": {\"outlinewidth\": 0, \"ticks\": \"\"}, \"colorscale\": [[0.0, \"#0d0887\"], [0.1111111111111111, \"#46039f\"], [0.2222222222222222, \"#7201a8\"], [0.3333333333333333, \"#9c179e\"], [0.4444444444444444, \"#bd3786\"], [0.5555555555555556, \"#d8576b\"], [0.6666666666666666, \"#ed7953\"], [0.7777777777777778, \"#fb9f3a\"], [0.8888888888888888, \"#fdca26\"], [1.0, \"#f0f921\"]], \"type\": \"surface\"}], \"table\": [{\"cells\": {\"fill\": {\"color\": \"#EBF0F8\"}, \"line\": {\"color\": \"white\"}}, \"header\": {\"fill\": {\"color\": \"#C8D4E3\"}, \"line\": {\"color\": \"white\"}}, \"type\": \"table\"}]}, \"layout\": {\"annotationdefaults\": {\"arrowcolor\": \"#2a3f5f\", \"arrowhead\": 0, \"arrowwidth\": 1}, \"colorscale\": {\"diverging\": [[0, \"#8e0152\"], [0.1, \"#c51b7d\"], [0.2, \"#de77ae\"], [0.3, \"#f1b6da\"], [0.4, \"#fde0ef\"], [0.5, \"#f7f7f7\"], [0.6, \"#e6f5d0\"], [0.7, \"#b8e186\"], [0.8, \"#7fbc41\"], [0.9, \"#4d9221\"], [1, \"#276419\"]], \"sequential\": [[0.0, \"#0d0887\"], [0.1111111111111111, \"#46039f\"], [0.2222222222222222, \"#7201a8\"], [0.3333333333333333, \"#9c179e\"], [0.4444444444444444, \"#bd3786\"], [0.5555555555555556, \"#d8576b\"], [0.6666666666666666, \"#ed7953\"], [0.7777777777777778, \"#fb9f3a\"], [0.8888888888888888, \"#fdca26\"], [1.0, \"#f0f921\"]], \"sequentialminus\": [[0.0, \"#0d0887\"], [0.1111111111111111, \"#46039f\"], [0.2222222222222222, \"#7201a8\"], [0.3333333333333333, \"#9c179e\"], [0.4444444444444444, \"#bd3786\"], [0.5555555555555556, \"#d8576b\"], [0.6666666666666666, \"#ed7953\"], [0.7777777777777778, \"#fb9f3a\"], [0.8888888888888888, \"#fdca26\"], [1.0, \"#f0f921\"]]}, \"colorway\": [\"#636efa\", \"#EF553B\", \"#00cc96\", \"#ab63fa\", \"#FFA15A\", \"#19d3f3\", \"#FF6692\", \"#B6E880\", \"#FF97FF\", \"#FECB52\"], \"font\": {\"color\": \"#2a3f5f\"}, \"geo\": {\"bgcolor\": \"white\", \"lakecolor\": \"white\", \"landcolor\": \"#E5ECF6\", \"showlakes\": true, \"showland\": true, \"subunitcolor\": \"white\"}, \"hoverlabel\": {\"align\": \"left\"}, \"hovermode\": \"closest\", \"mapbox\": {\"style\": \"light\"}, \"paper_bgcolor\": \"white\", \"plot_bgcolor\": \"#E5ECF6\", \"polar\": {\"angularaxis\": {\"gridcolor\": \"white\", \"linecolor\": \"white\", \"ticks\": \"\"}, \"bgcolor\": \"#E5ECF6\", \"radialaxis\": {\"gridcolor\": \"white\", \"linecolor\": \"white\", \"ticks\": \"\"}}, \"scene\": {\"xaxis\": {\"backgroundcolor\": \"#E5ECF6\", \"gridcolor\": \"white\", \"gridwidth\": 2, \"linecolor\": \"white\", \"showbackground\": true, \"ticks\": \"\", \"zerolinecolor\": \"white\"}, \"yaxis\": {\"backgroundcolor\": \"#E5ECF6\", \"gridcolor\": \"white\", \"gridwidth\": 2, \"linecolor\": \"white\", \"showbackground\": true, \"ticks\": \"\", \"zerolinecolor\": \"white\"}, \"zaxis\": {\"backgroundcolor\": \"#E5ECF6\", \"gridcolor\": \"white\", \"gridwidth\": 2, \"linecolor\": \"white\", \"showbackground\": true, \"ticks\": \"\", \"zerolinecolor\": \"white\"}}, \"shapedefaults\": {\"line\": {\"color\": \"#2a3f5f\"}}, \"ternary\": {\"aaxis\": {\"gridcolor\": \"white\", \"linecolor\": \"white\", \"ticks\": \"\"}, \"baxis\": {\"gridcolor\": \"white\", \"linecolor\": \"white\", \"ticks\": \"\"}, \"bgcolor\": \"#E5ECF6\", \"caxis\": {\"gridcolor\": \"white\", \"linecolor\": \"white\", \"ticks\": \"\"}}, \"title\": {\"x\": 0.05}, \"xaxis\": {\"automargin\": true, \"gridcolor\": \"white\", \"linecolor\": \"white\", \"ticks\": \"\", \"zerolinecolor\": \"white\", \"zerolinewidth\": 2}, \"yaxis\": {\"automargin\": true, \"gridcolor\": \"white\", \"linecolor\": \"white\", \"ticks\": \"\", \"zerolinecolor\": \"white\", \"zerolinewidth\": 2}}}, \"title\": {\"text\": \" \\u0423\\u043a\\u0430\\u0436\\u0438\\u0442\\u0435 \\u0412\\u0430\\u0448\\u0438 \\u043f\\u043e\\u0436\\u0435\\u043b\\u0430\\u043d\\u0438\\u044f \\u043f\\u043e \\u0440\\u0430\\u0437\\u0432\\u0438\\u0442\\u0438\\u044e \\u043f\\u0441\\u0438\\u0445\\u043e\\u043b\\u043e\\u0433\\u0438\\u0447\\u0435\\u0441\\u043a\\u043e\\u0439 \\u0441\\u043b\\u0443\\u0436\\u0431\\u044b \\u0432 \\u0441\\u0438\\u0441\\u0442\\u0435\\u043c\\u0435 \\u043e\\u0431\\u0440\\u0430\\u0437\\u043e\\u0432\\u0430\\u043d\\u0438\\u044f \\u0412\\u0430\\u0448\\u0435\\u0433\\u043e \\u0441\\u0443\\u0431\\u044a\\u0435\\u043a\\u0442\\u0430? Count: 15700\"}, \"width\": 800},\n",
              "                        {\"responsive\": true}\n",
              "                    ).then(function(){\n",
              "                            \n",
              "var gd = document.getElementById('054cbe3c-fae8-46b1-ba8a-f7d8483081fc');\n",
              "var x = new MutationObserver(function (mutations, observer) {{\n",
              "        var display = window.getComputedStyle(gd).display;\n",
              "        if (!display || display === 'none') {{\n",
              "            console.log([gd, 'removed!']);\n",
              "            Plotly.purge(gd);\n",
              "            observer.disconnect();\n",
              "        }}\n",
              "}});\n",
              "\n",
              "// Listen for the removal of the full notebook cells\n",
              "var notebookContainer = gd.closest('#notebook-container');\n",
              "if (notebookContainer) {{\n",
              "    x.observe(notebookContainer, {childList: true});\n",
              "}}\n",
              "\n",
              "// Listen for the clearing of the current output cell\n",
              "var outputEl = gd.closest('.output');\n",
              "if (outputEl) {{\n",
              "    x.observe(outputEl, {childList: true});\n",
              "}}\n",
              "\n",
              "                        })\n",
              "                };\n",
              "                \n",
              "            </script>\n",
              "        </div>\n",
              "</body>\n",
              "</html>"
            ]
          },
          "metadata": {
            "tags": []
          }
        }
      ]
    },
    {
      "cell_type": "code",
      "metadata": {
        "id": "DNHRQZEU5ZgP",
        "colab_type": "code",
        "colab": {}
      },
      "source": [
        "\n"
      ],
      "execution_count": 0,
      "outputs": []
    },
    {
      "cell_type": "code",
      "metadata": {
        "id": "gRTNyykT6JX-",
        "colab_type": "code",
        "colab": {}
      },
      "source": [
        "print([i[0] for i in res])"
      ],
      "execution_count": 0,
      "outputs": []
    },
    {
      "cell_type": "code",
      "metadata": {
        "id": "oxxfiz9A54Wy",
        "colab_type": "code",
        "colab": {}
      },
      "source": [
        ""
      ],
      "execution_count": 0,
      "outputs": []
    },
    {
      "cell_type": "code",
      "metadata": {
        "id": "p14q1gELVT3z",
        "colab_type": "code",
        "colab": {}
      },
      "source": [
        ""
      ],
      "execution_count": 0,
      "outputs": []
    }
  ]
}